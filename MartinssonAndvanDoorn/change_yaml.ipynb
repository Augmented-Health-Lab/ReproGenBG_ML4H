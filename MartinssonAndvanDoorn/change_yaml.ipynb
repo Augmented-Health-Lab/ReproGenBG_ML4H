{
 "cells": [
  {
   "cell_type": "code",
   "execution_count": 11,
   "metadata": {},
   "outputs": [
    {
     "name": "stdout",
     "output_type": "stream",
     "text": [
      "Processing file: 540_all_final_evaluation.yaml\n",
      "Processing file: 540_all_final_evaluation.yaml\n",
      "Updated ./original_ohio_experiments_30min/540_all_final_evaluation.yaml\n",
      "Processing file: 540_all_final_evaluation_combined.yaml\n",
      "Processing file: 540_all_final_evaluation_combined.yaml\n",
      "Updated ./original_ohio_experiments_30min/540_all_final_evaluation_combined.yaml\n",
      "Processing file: 544_all_final_evaluation.yaml\n",
      "Processing file: 544_all_final_evaluation.yaml\n",
      "Updated ./original_ohio_experiments_30min/544_all_final_evaluation.yaml\n",
      "Processing file: 544_all_final_evaluation_combined.yaml\n",
      "Processing file: 544_all_final_evaluation_combined.yaml\n",
      "Updated ./original_ohio_experiments_30min/544_all_final_evaluation_combined.yaml\n"
     ]
    }
   ],
   "source": [
    "import os\n",
    "import yaml\n",
    "\n",
    "def update_yaml_files(directory):\n",
    "    # Walk through all files in the directory\n",
    "    for root, dirs, files in os.walk(directory):\n",
    "        for file in files:\n",
    "            print('Processing file:', file)\n",
    "            if file.endswith('.yaml'):  # Process only YAML files\n",
    "                print('Processing file:', file)\n",
    "                file_path = os.path.join(root, file)\n",
    "                \n",
    "                # Read the YAML file\n",
    "                with open(file_path, 'r') as f:\n",
    "                    try:\n",
    "                        data = yaml.safe_load(f)\n",
    "                        \n",
    "                        # Check if the file has the required structure\n",
    "                        if isinstance(data, dict) and 'dataset' in data:\n",
    "                            if 'nb_past_steps' in data['dataset']:\n",
    "                                # Update the value\n",
    "                                if data['dataset']['nb_past_steps'] == 12:\n",
    "                                    data['dataset']['nb_past_steps'] = 6\n",
    "                                    \n",
    "                                    # Write the updated content back to the file\n",
    "                                    with open(file_path, 'w') as f:\n",
    "                                        yaml.dump(data, f, default_flow_style=False)\n",
    "                                    print(f\"Updated {file_path}\")\n",
    "                                \n",
    "                    except yaml.YAMLError as e:\n",
    "                        print(f\"Error processing {file_path}: {e}\")\n",
    "\n",
    "# Use the function\n",
    "folder_path = f\"./original_ohio_experiments_30min/\"  # Replace with your actual path\n",
    "update_yaml_files(folder_path)"
   ]
  },
  {
   "cell_type": "code",
   "execution_count": null,
   "metadata": {},
   "outputs": [],
   "source": []
  }
 ],
 "metadata": {
  "kernelspec": {
   "display_name": "Python 3",
   "language": "python",
   "name": "python3"
  },
  "language_info": {
   "codemirror_mode": {
    "name": "ipython",
    "version": 3
   },
   "file_extension": ".py",
   "mimetype": "text/x-python",
   "name": "python",
   "nbconvert_exporter": "python",
   "pygments_lexer": "ipython3",
   "version": "3.10.5"
  }
 },
 "nbformat": 4,
 "nbformat_minor": 2
}
