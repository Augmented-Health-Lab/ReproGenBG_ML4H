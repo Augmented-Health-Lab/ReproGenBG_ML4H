{
 "cells": [
  {
   "cell_type": "code",
   "execution_count": 37,
   "metadata": {},
   "outputs": [],
   "source": [
    "%load_ext autoreload\n",
    "%autoreload 2"
   ]
  },
  {
   "cell_type": "code",
   "execution_count": 38,
   "metadata": {},
   "outputs": [],
   "source": [
    "from __future__ import division, print_function\n",
    "\n",
    "import collections\n",
    "import csv\n",
    "import datetime\n",
    "import xml.etree.ElementTree as ET\n",
    "\n",
    "import numpy as np\n",
    "import pandas as pd\n",
    "import matplotlib.pyplot as plt\n",
    "from scipy.interpolate import CubicSpline\n",
    "\n",
    "from GlucNet_functions import *"
   ]
  },
  {
   "cell_type": "code",
   "execution_count": 39,
   "metadata": {},
   "outputs": [
    {
     "name": "stdout",
     "output_type": "stream",
     "text": [
      "category is  glucose_level\n",
      "length of root.findall(category) is  1\n"
     ]
    }
   ],
   "source": [
    "filepath = f\"../OhioT1DM/2018/train/559-ws-training.xml\"\n",
    "tree = ET.parse(filepath)\n",
    "root = tree.getroot()\n",
    "glucose = read_ohio(filepath, \"glucose_level\", False)"
   ]
  },
  {
   "cell_type": "markdown",
   "metadata": {},
   "source": [
    "# Preprocessing"
   ]
  },
  {
   "cell_type": "markdown",
   "metadata": {},
   "source": [
    "#### P1"
   ]
  },
  {
   "cell_type": "code",
   "execution_count": 40,
   "metadata": {},
   "outputs": [
    {
     "name": "stdout",
     "output_type": "stream",
     "text": [
      "2% lower threshold: 64.0\n",
      "98% upper threshold: 337.0\n"
     ]
    }
   ],
   "source": [
    "glucose_dict = {entry[0]['ts']: entry[0]['value'] for entry in glucose}\n",
    "\n",
    "# Create the multi-channel database\n",
    "g_data = []\n",
    "for timestamp in glucose_dict:\n",
    "    record = {\n",
    "        'timestamp': timestamp,\n",
    "        'glucose_value': glucose_dict[timestamp],\n",
    "        # 'meal_type': None,\n",
    "        # 'meal_carbs': 0\n",
    "    }\n",
    "    \n",
    "    g_data.append(record)\n",
    "glucose_df = pd.DataFrame(g_data)\n",
    "\n",
    "# Convert glucose values to numeric type for analysis\n",
    "glucose_df['glucose_value'] = pd.to_numeric(glucose_df['glucose_value'])\n",
    "\n",
    "# Calculate percentiles\n",
    "lower_percentile = np.percentile(glucose_df['glucose_value'], 2)\n",
    "upper_percentile = np.percentile(glucose_df['glucose_value'], 98)\n",
    "\n",
    "# Print thresholds\n",
    "print(f\"2% lower threshold: {lower_percentile}\")\n",
    "print(f\"98% upper threshold: {upper_percentile}\")"
   ]
  },
  {
   "cell_type": "markdown",
   "metadata": {},
   "source": [
    "### P2, P3"
   ]
  },
  {
   "cell_type": "code",
   "execution_count": 41,
   "metadata": {},
   "outputs": [
    {
     "name": "stdout",
     "output_type": "stream",
     "text": [
      "segment_3\n",
      "before:  2021-12-12 04:54:00\n",
      "after:  2021-12-12 05:29:00\n",
      "segment_3\n",
      "before:  2021-12-12 12:34:00\n",
      "after:  2021-12-12 12:44:00\n",
      "segment_3\n",
      "before:  2021-12-12 22:09:00\n",
      "after:  2021-12-12 22:39:00\n",
      "segment_7\n",
      "before:  2021-12-16 17:53:00\n",
      "after:  2021-12-16 18:18:00\n",
      "segment_14\n",
      "before:  2021-12-22 17:52:00\n",
      "after:  2021-12-22 18:52:00\n",
      "segment_14\n",
      "before:  2021-12-24 17:52:00\n",
      "after:  2021-12-24 18:32:00\n",
      "segment_15\n",
      "before:  2021-12-26 18:57:00\n",
      "after:  2021-12-26 19:22:00\n",
      "segment_18\n",
      "before:  2022-01-01 20:50:00\n",
      "after:  2022-01-01 21:10:00\n",
      "segment_21\n",
      "before:  2022-01-06 06:26:00\n",
      "after:  2022-01-06 07:21:00\n",
      "segment_25\n",
      "before:  2022-01-08 18:05:00\n",
      "after:  2022-01-08 18:40:00\n",
      "segment_29\n",
      "before:  2022-01-14 01:05:00\n",
      "after:  2022-01-14 01:35:00\n",
      "segment_31\n",
      "before:  2022-01-16 19:11:00\n",
      "after:  2022-01-16 19:56:00\n"
     ]
    },
    {
     "name": "stderr",
     "output_type": "stream",
     "text": [
      "\\\\dartfs-hpc\\rc\\home\\j\\f007g3j\\ReproducibilityStudy_DL_BGPrediction\\GluNet_Again\\GlucNet_functions.py:35: FutureWarning: 'T' is deprecated and will be removed in a future version, please use 'min' instead.\n",
      "  datetime_list = np.array(pd.date_range(start=min(segments[sequence]['timestamp']), end=max(segments[sequence]['timestamp']), freq='5T').tolist())\n",
      "\\\\dartfs-hpc\\rc\\home\\j\\f007g3j\\ReproducibilityStudy_DL_BGPrediction\\GluNet_Again\\GlucNet_functions.py:48: FutureWarning: 'T' is deprecated and will be removed in a future version, please use 'min' instead.\n",
      "  time_index_interpolated = pd.date_range(start=reference_time, periods=len(interpolated_xs), freq='5T')\n"
     ]
    }
   ],
   "source": [
    "segments = segement_data_as_1hour(glucose_df)\n",
    "interpolated_segements = detect_missing_and_spline_interpolate(segments)"
   ]
  },
  {
   "cell_type": "code",
   "execution_count": 42,
   "metadata": {},
   "outputs": [
    {
     "name": "stdout",
     "output_type": "stream",
     "text": [
      "category is  meal\n",
      "length of root.findall(category) is  1\n"
     ]
    },
    {
     "name": "stderr",
     "output_type": "stream",
     "text": [
      "\\\\dartfs-hpc\\rc\\home\\j\\f007g3j\\ReproducibilityStudy_DL_BGPrediction\\GluNet_Again\\GlucNet_functions.py:430: FutureWarning: Setting an item of incompatible dtype is deprecated and will raise an error in a future version of pandas. Value '18' has dtype incompatible with int64, please explicitly cast to a compatible dtype first.\n",
      "  segment_df.at[i, 'carbs'] = closest_meal['carbs']\n",
      "\\\\dartfs-hpc\\rc\\home\\j\\f007g3j\\ReproducibilityStudy_DL_BGPrediction\\GluNet_Again\\GlucNet_functions.py:430: FutureWarning: Setting an item of incompatible dtype is deprecated and will raise an error in a future version of pandas. Value '45' has dtype incompatible with int64, please explicitly cast to a compatible dtype first.\n",
      "  segment_df.at[i, 'carbs'] = closest_meal['carbs']\n",
      "\\\\dartfs-hpc\\rc\\home\\j\\f007g3j\\ReproducibilityStudy_DL_BGPrediction\\GluNet_Again\\GlucNet_functions.py:430: FutureWarning: Setting an item of incompatible dtype is deprecated and will raise an error in a future version of pandas. Value '63' has dtype incompatible with int64, please explicitly cast to a compatible dtype first.\n",
      "  segment_df.at[i, 'carbs'] = closest_meal['carbs']\n",
      "\\\\dartfs-hpc\\rc\\home\\j\\f007g3j\\ReproducibilityStudy_DL_BGPrediction\\GluNet_Again\\GlucNet_functions.py:430: FutureWarning: Setting an item of incompatible dtype is deprecated and will raise an error in a future version of pandas. Value '75' has dtype incompatible with int64, please explicitly cast to a compatible dtype first.\n",
      "  segment_df.at[i, 'carbs'] = closest_meal['carbs']\n",
      "\\\\dartfs-hpc\\rc\\home\\j\\f007g3j\\ReproducibilityStudy_DL_BGPrediction\\GluNet_Again\\GlucNet_functions.py:430: FutureWarning: Setting an item of incompatible dtype is deprecated and will raise an error in a future version of pandas. Value '48' has dtype incompatible with int64, please explicitly cast to a compatible dtype first.\n",
      "  segment_df.at[i, 'carbs'] = closest_meal['carbs']\n",
      "\\\\dartfs-hpc\\rc\\home\\j\\f007g3j\\ReproducibilityStudy_DL_BGPrediction\\GluNet_Again\\GlucNet_functions.py:430: FutureWarning: Setting an item of incompatible dtype is deprecated and will raise an error in a future version of pandas. Value '70' has dtype incompatible with int64, please explicitly cast to a compatible dtype first.\n",
      "  segment_df.at[i, 'carbs'] = closest_meal['carbs']\n",
      "\\\\dartfs-hpc\\rc\\home\\j\\f007g3j\\ReproducibilityStudy_DL_BGPrediction\\GluNet_Again\\GlucNet_functions.py:430: FutureWarning: Setting an item of incompatible dtype is deprecated and will raise an error in a future version of pandas. Value '65' has dtype incompatible with int64, please explicitly cast to a compatible dtype first.\n",
      "  segment_df.at[i, 'carbs'] = closest_meal['carbs']\n",
      "\\\\dartfs-hpc\\rc\\home\\j\\f007g3j\\ReproducibilityStudy_DL_BGPrediction\\GluNet_Again\\GlucNet_functions.py:430: FutureWarning: Setting an item of incompatible dtype is deprecated and will raise an error in a future version of pandas. Value '55' has dtype incompatible with int64, please explicitly cast to a compatible dtype first.\n",
      "  segment_df.at[i, 'carbs'] = closest_meal['carbs']\n",
      "\\\\dartfs-hpc\\rc\\home\\j\\f007g3j\\ReproducibilityStudy_DL_BGPrediction\\GluNet_Again\\GlucNet_functions.py:430: FutureWarning: Setting an item of incompatible dtype is deprecated and will raise an error in a future version of pandas. Value '50' has dtype incompatible with int64, please explicitly cast to a compatible dtype first.\n",
      "  segment_df.at[i, 'carbs'] = closest_meal['carbs']\n",
      "\\\\dartfs-hpc\\rc\\home\\j\\f007g3j\\ReproducibilityStudy_DL_BGPrediction\\GluNet_Again\\GlucNet_functions.py:430: FutureWarning: Setting an item of incompatible dtype is deprecated and will raise an error in a future version of pandas. Value '30' has dtype incompatible with int64, please explicitly cast to a compatible dtype first.\n",
      "  segment_df.at[i, 'carbs'] = closest_meal['carbs']\n",
      "\\\\dartfs-hpc\\rc\\home\\j\\f007g3j\\ReproducibilityStudy_DL_BGPrediction\\GluNet_Again\\GlucNet_functions.py:430: FutureWarning: Setting an item of incompatible dtype is deprecated and will raise an error in a future version of pandas. Value '45' has dtype incompatible with int64, please explicitly cast to a compatible dtype first.\n",
      "  segment_df.at[i, 'carbs'] = closest_meal['carbs']\n",
      "\\\\dartfs-hpc\\rc\\home\\j\\f007g3j\\ReproducibilityStudy_DL_BGPrediction\\GluNet_Again\\GlucNet_functions.py:430: FutureWarning: Setting an item of incompatible dtype is deprecated and will raise an error in a future version of pandas. Value '40' has dtype incompatible with int64, please explicitly cast to a compatible dtype first.\n",
      "  segment_df.at[i, 'carbs'] = closest_meal['carbs']\n",
      "\\\\dartfs-hpc\\rc\\home\\j\\f007g3j\\ReproducibilityStudy_DL_BGPrediction\\GluNet_Again\\GlucNet_functions.py:430: FutureWarning: Setting an item of incompatible dtype is deprecated and will raise an error in a future version of pandas. Value '30' has dtype incompatible with int64, please explicitly cast to a compatible dtype first.\n",
      "  segment_df.at[i, 'carbs'] = closest_meal['carbs']\n",
      "\\\\dartfs-hpc\\rc\\home\\j\\f007g3j\\ReproducibilityStudy_DL_BGPrediction\\GluNet_Again\\GlucNet_functions.py:430: FutureWarning: Setting an item of incompatible dtype is deprecated and will raise an error in a future version of pandas. Value '45' has dtype incompatible with int64, please explicitly cast to a compatible dtype first.\n",
      "  segment_df.at[i, 'carbs'] = closest_meal['carbs']\n",
      "\\\\dartfs-hpc\\rc\\home\\j\\f007g3j\\ReproducibilityStudy_DL_BGPrediction\\GluNet_Again\\GlucNet_functions.py:430: FutureWarning: Setting an item of incompatible dtype is deprecated and will raise an error in a future version of pandas. Value '10' has dtype incompatible with int64, please explicitly cast to a compatible dtype first.\n",
      "  segment_df.at[i, 'carbs'] = closest_meal['carbs']\n",
      "\\\\dartfs-hpc\\rc\\home\\j\\f007g3j\\ReproducibilityStudy_DL_BGPrediction\\GluNet_Again\\GlucNet_functions.py:430: FutureWarning: Setting an item of incompatible dtype is deprecated and will raise an error in a future version of pandas. Value '15' has dtype incompatible with int64, please explicitly cast to a compatible dtype first.\n",
      "  segment_df.at[i, 'carbs'] = closest_meal['carbs']\n",
      "\\\\dartfs-hpc\\rc\\home\\j\\f007g3j\\ReproducibilityStudy_DL_BGPrediction\\GluNet_Again\\GlucNet_functions.py:430: FutureWarning: Setting an item of incompatible dtype is deprecated and will raise an error in a future version of pandas. Value '30' has dtype incompatible with int64, please explicitly cast to a compatible dtype first.\n",
      "  segment_df.at[i, 'carbs'] = closest_meal['carbs']\n",
      "\\\\dartfs-hpc\\rc\\home\\j\\f007g3j\\ReproducibilityStudy_DL_BGPrediction\\GluNet_Again\\GlucNet_functions.py:430: FutureWarning: Setting an item of incompatible dtype is deprecated and will raise an error in a future version of pandas. Value '30' has dtype incompatible with int64, please explicitly cast to a compatible dtype first.\n",
      "  segment_df.at[i, 'carbs'] = closest_meal['carbs']\n",
      "\\\\dartfs-hpc\\rc\\home\\j\\f007g3j\\ReproducibilityStudy_DL_BGPrediction\\GluNet_Again\\GlucNet_functions.py:430: FutureWarning: Setting an item of incompatible dtype is deprecated and will raise an error in a future version of pandas. Value '60' has dtype incompatible with int64, please explicitly cast to a compatible dtype first.\n",
      "  segment_df.at[i, 'carbs'] = closest_meal['carbs']\n",
      "\\\\dartfs-hpc\\rc\\home\\j\\f007g3j\\ReproducibilityStudy_DL_BGPrediction\\GluNet_Again\\GlucNet_functions.py:430: FutureWarning: Setting an item of incompatible dtype is deprecated and will raise an error in a future version of pandas. Value '30' has dtype incompatible with int64, please explicitly cast to a compatible dtype first.\n",
      "  segment_df.at[i, 'carbs'] = closest_meal['carbs']\n",
      "\\\\dartfs-hpc\\rc\\home\\j\\f007g3j\\ReproducibilityStudy_DL_BGPrediction\\GluNet_Again\\GlucNet_functions.py:430: FutureWarning: Setting an item of incompatible dtype is deprecated and will raise an error in a future version of pandas. Value '30' has dtype incompatible with int64, please explicitly cast to a compatible dtype first.\n",
      "  segment_df.at[i, 'carbs'] = closest_meal['carbs']\n",
      "\\\\dartfs-hpc\\rc\\home\\j\\f007g3j\\ReproducibilityStudy_DL_BGPrediction\\GluNet_Again\\GlucNet_functions.py:430: FutureWarning: Setting an item of incompatible dtype is deprecated and will raise an error in a future version of pandas. Value '30' has dtype incompatible with int64, please explicitly cast to a compatible dtype first.\n",
      "  segment_df.at[i, 'carbs'] = closest_meal['carbs']\n",
      "\\\\dartfs-hpc\\rc\\home\\j\\f007g3j\\ReproducibilityStudy_DL_BGPrediction\\GluNet_Again\\GlucNet_functions.py:430: FutureWarning: Setting an item of incompatible dtype is deprecated and will raise an error in a future version of pandas. Value '15' has dtype incompatible with int64, please explicitly cast to a compatible dtype first.\n",
      "  segment_df.at[i, 'carbs'] = closest_meal['carbs']\n",
      "\\\\dartfs-hpc\\rc\\home\\j\\f007g3j\\ReproducibilityStudy_DL_BGPrediction\\GluNet_Again\\GlucNet_functions.py:430: FutureWarning: Setting an item of incompatible dtype is deprecated and will raise an error in a future version of pandas. Value '16' has dtype incompatible with int64, please explicitly cast to a compatible dtype first.\n",
      "  segment_df.at[i, 'carbs'] = closest_meal['carbs']\n",
      "\\\\dartfs-hpc\\rc\\home\\j\\f007g3j\\ReproducibilityStudy_DL_BGPrediction\\GluNet_Again\\GlucNet_functions.py:430: FutureWarning: Setting an item of incompatible dtype is deprecated and will raise an error in a future version of pandas. Value '30' has dtype incompatible with int64, please explicitly cast to a compatible dtype first.\n",
      "  segment_df.at[i, 'carbs'] = closest_meal['carbs']\n",
      "\\\\dartfs-hpc\\rc\\home\\j\\f007g3j\\ReproducibilityStudy_DL_BGPrediction\\GluNet_Again\\GlucNet_functions.py:430: FutureWarning: Setting an item of incompatible dtype is deprecated and will raise an error in a future version of pandas. Value '15' has dtype incompatible with int64, please explicitly cast to a compatible dtype first.\n",
      "  segment_df.at[i, 'carbs'] = closest_meal['carbs']\n",
      "\\\\dartfs-hpc\\rc\\home\\j\\f007g3j\\ReproducibilityStudy_DL_BGPrediction\\GluNet_Again\\GlucNet_functions.py:430: FutureWarning: Setting an item of incompatible dtype is deprecated and will raise an error in a future version of pandas. Value '55' has dtype incompatible with int64, please explicitly cast to a compatible dtype first.\n",
      "  segment_df.at[i, 'carbs'] = closest_meal['carbs']\n",
      "\\\\dartfs-hpc\\rc\\home\\j\\f007g3j\\ReproducibilityStudy_DL_BGPrediction\\GluNet_Again\\GlucNet_functions.py:430: FutureWarning: Setting an item of incompatible dtype is deprecated and will raise an error in a future version of pandas. Value '30' has dtype incompatible with int64, please explicitly cast to a compatible dtype first.\n",
      "  segment_df.at[i, 'carbs'] = closest_meal['carbs']\n",
      "\\\\dartfs-hpc\\rc\\home\\j\\f007g3j\\ReproducibilityStudy_DL_BGPrediction\\GluNet_Again\\GlucNet_functions.py:430: FutureWarning: Setting an item of incompatible dtype is deprecated and will raise an error in a future version of pandas. Value '20' has dtype incompatible with int64, please explicitly cast to a compatible dtype first.\n",
      "  segment_df.at[i, 'carbs'] = closest_meal['carbs']\n",
      "\\\\dartfs-hpc\\rc\\home\\j\\f007g3j\\ReproducibilityStudy_DL_BGPrediction\\GluNet_Again\\GlucNet_functions.py:430: FutureWarning: Setting an item of incompatible dtype is deprecated and will raise an error in a future version of pandas. Value '36' has dtype incompatible with int64, please explicitly cast to a compatible dtype first.\n",
      "  segment_df.at[i, 'carbs'] = closest_meal['carbs']\n"
     ]
    }
   ],
   "source": [
    "meal = read_ohio(filepath, \"meal\", False)\n",
    "\n",
    "flattened_meal_data = [item[0] for item in meal]  # Take the first (and only) item from each sublist\n",
    "\n",
    "# Convert to DataFrame\n",
    "meal_df = pd.DataFrame(flattened_meal_data)\n",
    "\n",
    "meal_df['assigned'] = False\n",
    "\n",
    "meal_updated_segments = update_segments_with_meals(interpolated_segements, meal_df)\n"
   ]
  },
  {
   "cell_type": "code",
   "execution_count": 43,
   "metadata": {},
   "outputs": [
    {
     "name": "stdout",
     "output_type": "stream",
     "text": [
      "category is  basal\n",
      "length of root.findall(category) is  1\n"
     ]
    },
    {
     "data": {
      "text/html": [
       "<div>\n",
       "<style scoped>\n",
       "    .dataframe tbody tr th:only-of-type {\n",
       "        vertical-align: middle;\n",
       "    }\n",
       "\n",
       "    .dataframe tbody tr th {\n",
       "        vertical-align: top;\n",
       "    }\n",
       "\n",
       "    .dataframe thead th {\n",
       "        text-align: right;\n",
       "    }\n",
       "</style>\n",
       "<table border=\"1\" class=\"dataframe\">\n",
       "  <thead>\n",
       "    <tr style=\"text-align: right;\">\n",
       "      <th></th>\n",
       "      <th>ts</th>\n",
       "      <th>value</th>\n",
       "      <th>assigned</th>\n",
       "      <th>end_ts</th>\n",
       "    </tr>\n",
       "  </thead>\n",
       "  <tbody>\n",
       "    <tr>\n",
       "      <th>0</th>\n",
       "      <td>2021-12-07 00:00:00</td>\n",
       "      <td>0.65</td>\n",
       "      <td>False</td>\n",
       "      <td>2021-12-07 04:00:00</td>\n",
       "    </tr>\n",
       "    <tr>\n",
       "      <th>1</th>\n",
       "      <td>2021-12-07 04:00:00</td>\n",
       "      <td>0.73</td>\n",
       "      <td>False</td>\n",
       "      <td>2021-12-07 08:00:00</td>\n",
       "    </tr>\n",
       "    <tr>\n",
       "      <th>2</th>\n",
       "      <td>2021-12-07 08:00:00</td>\n",
       "      <td>1.15</td>\n",
       "      <td>False</td>\n",
       "      <td>2021-12-07 11:00:00</td>\n",
       "    </tr>\n",
       "    <tr>\n",
       "      <th>3</th>\n",
       "      <td>2021-12-07 11:00:00</td>\n",
       "      <td>0.9</td>\n",
       "      <td>False</td>\n",
       "      <td>2021-12-08 00:00:00</td>\n",
       "    </tr>\n",
       "    <tr>\n",
       "      <th>4</th>\n",
       "      <td>2021-12-08 00:00:00</td>\n",
       "      <td>0.65</td>\n",
       "      <td>False</td>\n",
       "      <td>2021-12-08 04:00:00</td>\n",
       "    </tr>\n",
       "    <tr>\n",
       "      <th>5</th>\n",
       "      <td>2021-12-08 04:00:00</td>\n",
       "      <td>0.73</td>\n",
       "      <td>False</td>\n",
       "      <td>2021-12-08 08:00:00</td>\n",
       "    </tr>\n",
       "    <tr>\n",
       "      <th>6</th>\n",
       "      <td>2021-12-08 08:00:00</td>\n",
       "      <td>1.15</td>\n",
       "      <td>False</td>\n",
       "      <td>2021-12-08 11:00:00</td>\n",
       "    </tr>\n",
       "    <tr>\n",
       "      <th>7</th>\n",
       "      <td>2021-12-08 11:00:00</td>\n",
       "      <td>0.9</td>\n",
       "      <td>False</td>\n",
       "      <td>2021-12-08 18:00:00</td>\n",
       "    </tr>\n",
       "    <tr>\n",
       "      <th>8</th>\n",
       "      <td>2021-12-08 18:00:00</td>\n",
       "      <td>1.25</td>\n",
       "      <td>False</td>\n",
       "      <td>2021-12-11 00:00:00</td>\n",
       "    </tr>\n",
       "    <tr>\n",
       "      <th>9</th>\n",
       "      <td>2021-12-11 00:00:00</td>\n",
       "      <td>0.65</td>\n",
       "      <td>False</td>\n",
       "      <td>2021-12-11 04:00:00</td>\n",
       "    </tr>\n",
       "  </tbody>\n",
       "</table>\n",
       "</div>"
      ],
      "text/plain": [
       "                   ts value  assigned              end_ts\n",
       "0 2021-12-07 00:00:00  0.65     False 2021-12-07 04:00:00\n",
       "1 2021-12-07 04:00:00  0.73     False 2021-12-07 08:00:00\n",
       "2 2021-12-07 08:00:00  1.15     False 2021-12-07 11:00:00\n",
       "3 2021-12-07 11:00:00   0.9     False 2021-12-08 00:00:00\n",
       "4 2021-12-08 00:00:00  0.65     False 2021-12-08 04:00:00\n",
       "5 2021-12-08 04:00:00  0.73     False 2021-12-08 08:00:00\n",
       "6 2021-12-08 08:00:00  1.15     False 2021-12-08 11:00:00\n",
       "7 2021-12-08 11:00:00   0.9     False 2021-12-08 18:00:00\n",
       "8 2021-12-08 18:00:00  1.25     False 2021-12-11 00:00:00\n",
       "9 2021-12-11 00:00:00  0.65     False 2021-12-11 04:00:00"
      ]
     },
     "execution_count": 43,
     "metadata": {},
     "output_type": "execute_result"
    }
   ],
   "source": [
    "basal = read_ohio(filepath, \"basal\", False)\n",
    "\n",
    "flattened_basal_data = [item[0] for item in basal]  # Take the first (and only) item from each sublist\n",
    "\n",
    "# Convert to DataFrame\n",
    "basal_df = pd.DataFrame(flattened_basal_data)\n",
    "\n",
    "basal_df['assigned'] = False\n",
    "basal_df['end_ts'] = basal_df['ts'].shift(-1)\n",
    "basal_df[:10]"
   ]
  },
  {
   "cell_type": "code",
   "execution_count": 44,
   "metadata": {},
   "outputs": [],
   "source": [
    "# basal_updated_segments = update_segments_with_basal(meal_updated_segments, basal_df)\n"
   ]
  },
  {
   "cell_type": "code",
   "execution_count": 45,
   "metadata": {},
   "outputs": [],
   "source": [
    "# # Merge Bolus into the dataframe\n",
    "# bolus = read_ohio_bolus_tempbasal(filepath, \"bolus\", False)\n",
    "\n",
    "# flattened_bolus_data = [item[0] for item in bolus]  # Take the first (and only) item from each sublist\n",
    "\n",
    "# # Convert to DataFrame\n",
    "# bolus_df = pd.DataFrame(flattened_bolus_data)\n",
    "\n",
    "# bolus_df['assigned'] = False\n",
    "# bolus_df[:10]"
   ]
  },
  {
   "cell_type": "code",
   "execution_count": 46,
   "metadata": {},
   "outputs": [],
   "source": [
    "# bolus_updated_segments = update_segments_with_bolus(basal_updated_segments, bolus_df)"
   ]
  },
  {
   "cell_type": "code",
   "execution_count": 47,
   "metadata": {},
   "outputs": [],
   "source": [
    "# tempbasal = read_ohio_bolus_tempbasal(filepath, \"temp_basal\", False)"
   ]
  },
  {
   "cell_type": "code",
   "execution_count": 48,
   "metadata": {},
   "outputs": [],
   "source": [
    "# flattened_tempbasal_data = [item[0] for item in tempbasal]  # Take the first (and only) item from each sublist\n",
    "\n",
    "# # Convert to DataFrame\n",
    "# tempbasal_df = pd.DataFrame(flattened_tempbasal_data)\n",
    "\n",
    "# tempbasal_df['assigned'] = False\n",
    "# tempbasal_df[:10]"
   ]
  },
  {
   "cell_type": "code",
   "execution_count": 49,
   "metadata": {},
   "outputs": [],
   "source": [
    "\n",
    "\n",
    "# # Update the segments with meal data\n",
    "# final_updated_segments = update_segments_with_tempbasal(bolus_updated_segments, tempbasal_df)"
   ]
  },
  {
   "cell_type": "markdown",
   "metadata": {},
   "source": [
    "# Training"
   ]
  },
  {
   "cell_type": "code",
   "execution_count": null,
   "metadata": {},
   "outputs": [],
   "source": []
  },
  {
   "cell_type": "code",
   "execution_count": 50,
   "metadata": {},
   "outputs": [],
   "source": [
    "import torch\n",
    "from torch.utils.data import DataLoader, TensorDataset"
   ]
  },
  {
   "cell_type": "code",
   "execution_count": 92,
   "metadata": {},
   "outputs": [],
   "source": [
    "def label_delta_transform(labels_list):\n",
    "    # label_lower_percentile = -12.75\n",
    "    # label_upper_percentile = 12.85\n",
    "    label_lower_percentile = np.percentile(labels_list, 10)\n",
    "    label_upper_percentile = np.percentile(labels_list, 90)\n",
    "    transformed_labels = []\n",
    "    for label in labels_list:\n",
    "        if label <= label_lower_percentile:\n",
    "            transformed_labels.append(1)\n",
    "        elif label_lower_percentile < label < label_upper_percentile:\n",
    "            trans_label = round((256/(label_upper_percentile - label_lower_percentile))*(label + abs(label_lower_percentile) + 0.05))\n",
    "            transformed_labels.append(trans_label)\n",
    "        elif label >= label_upper_percentile:\n",
    "            transformed_labels.append(256)\n",
    "    return transformed_labels\n",
    "\n",
    "\n",
    "# def prepare_dataset(segments, ph):\n",
    "#     '''\n",
    "#     ph = 6, 30 minutes ahead\n",
    "#     ph = 12, 60 minutes ahead\n",
    "#     '''\n",
    "#     features_list = []\n",
    "#     labels_list = []\n",
    "#     raw_glu_list = []\n",
    "    \n",
    "#     # Iterate over each segment\n",
    "#     for segment_name, segment_df in segments.items():\n",
    "#         # Ensure all columns are of numeric type\n",
    "#         segment_df['carbs'] = pd.to_numeric(segment_df['carbs'], errors='coerce')\n",
    "#         segment_df['basal_rate'] = pd.to_numeric(segment_df['basal_rate'], errors='coerce')\n",
    "#         segment_df['bolus_dose'] = pd.to_numeric(segment_df['bolus_dose'], errors='coerce')\n",
    "\n",
    "#         # Fill NaNs that might have been introduced by conversion errors\n",
    "#         segment_df.fillna(0, inplace=True)\n",
    "\n",
    "#         # Maximum index for creating a complete feature set\n",
    "#         max_index = len(segment_df) - (15+ph+1)  # Subtracting 22 because we need to predict index + 21 and need index + 15 to exist\n",
    "        \n",
    "#         # Iterate through the data to create feature-label pairs\n",
    "#         for i in range(max_index + 1):\n",
    "#             # Extracting features from index i to i+15\n",
    "#             features = segment_df.loc[i:i+15, ['glucose_value', 'carbs', 'basal_rate', 'bolus_dose']].values#.flatten()\n",
    "#             # Extracting label for index i+21\n",
    "#             # Do the label transform\n",
    "#             label = segment_df.loc[i+15+ph, 'glucose_value'] - segment_df.loc[i+15, 'glucose_value']\n",
    "            \n",
    "#             raw_glu_list.append(segment_df.loc[i+15+ph, 'glucose_value'])\n",
    "#             features_list.append(features)\n",
    "#             labels_list.append(label)\n",
    "            \n",
    "#     print(\"len of features_list \" + str(len(features_list)))\n",
    "#     print(\"len of labels_list \" + str(len(labels_list)))\n",
    "#     new_labels_list = label_delta_transform(labels_list)    \n",
    "#     print(\"after label transform. the len of label list \"+str(len(new_labels_list)))    \n",
    "#     return features_list, labels_list, new_labels_list, raw_glu_list\n",
    "\n",
    "def prepare_dataset(segments,history_len = 6, ph = 6):\n",
    "    '''\n",
    "    ph = 6, 30 minutes ahead\n",
    "    ph = 12, 60 minutes ahead\n",
    "    '''\n",
    "    features_list = []\n",
    "    labels_list = []\n",
    "    raw_glu_list = []\n",
    "    \n",
    "    \n",
    "    # Iterate over each segment\n",
    "    for segment_name, segment_df in segments.items():\n",
    "        # Ensure all columns are of numeric type\n",
    "        segment_df['carbs'] = pd.to_numeric(segment_df['carbs'], errors='coerce')\n",
    "        segment_df['basal_rate'] = pd.to_numeric(segment_df['basal_rate'], errors='coerce')\n",
    "        segment_df['bolus_dose'] = pd.to_numeric(segment_df['bolus_dose'], errors='coerce')\n",
    "\n",
    "        # Fill NaNs that might have been introduced by conversion errors\n",
    "        segment_df.fillna(0, inplace=True)\n",
    "\n",
    "        # Maximum index for creating a complete feature set\n",
    "        print(\"len of segment_df is \", len(segment_df))\n",
    "        max_index = len(segment_df) - (history_len + ph)  # Subtracting only 15+ph to ensure i + 15 + ph is within bounds\n",
    "        \n",
    "        # Iterate through the data to create feature-label pairs\n",
    "        for i in range(max_index):\n",
    "            # Extracting features from index i to i+15\n",
    "            segment_df = segment_df.reset_index(drop = True)\n",
    "            features = segment_df.loc[i:i+history_len, ['glucose_value', 'carbs', 'bolus_dose']].values\n",
    "            # Extracting label for index i+15+ph\n",
    "            # label = segment_df.loc[i+15+ph, 'glucose_value'] - segment_df.loc[i+15, 'glucose_value']\n",
    "            \n",
    "            raw_glu_list.append(segment_df.loc[i+history_len+ph, 'glucose_value'])\n",
    "            features_list.append(features)\n",
    "            # labels_list.append(label)\n",
    "            \n",
    "    print(\"len of features_list \" + str(len(features_list)))\n",
    "    # print(\"len of labels_list \" + str(len(labels_list)))\n",
    "    \n",
    "    # new_labels_list = label_delta_transform(labels_list)    \n",
    "    # print(\"after label transform, the len of label list \"+str(len(new_labels_list)))    \n",
    "    \n",
    "    return features_list, raw_glu_list\n"
   ]
  },
  {
   "cell_type": "code",
   "execution_count": 76,
   "metadata": {},
   "outputs": [
    {
     "ename": "FileNotFoundError",
     "evalue": "[Errno 2] No such file or directory: './pkl_files/559_train_combined_segments_wavenet.pkl'",
     "output_type": "error",
     "traceback": [
      "\u001b[1;31m---------------------------------------------------------------------------\u001b[0m",
      "\u001b[1;31mFileNotFoundError\u001b[0m                         Traceback (most recent call last)",
      "Cell \u001b[1;32mIn[76], line 6\u001b[0m\n\u001b[0;32m      3\u001b[0m file_num \u001b[38;5;241m=\u001b[39m \u001b[38;5;124m'\u001b[39m\u001b[38;5;124mall\u001b[39m\u001b[38;5;124m'\u001b[39m\n\u001b[0;32m      4\u001b[0m HISTORY \u001b[38;5;241m=\u001b[39m \u001b[38;5;241m12\u001b[39m\n\u001b[1;32m----> 6\u001b[0m \u001b[38;5;28;01mwith\u001b[39;00m \u001b[38;5;28;43mopen\u001b[39;49m\u001b[43m(\u001b[49m\u001b[38;5;124;43mf\u001b[39;49m\u001b[38;5;124;43m'\u001b[39;49m\u001b[38;5;124;43m./pkl_files/559_train_combined_segments_wavenet.pkl\u001b[39;49m\u001b[38;5;124;43m'\u001b[39;49m\u001b[43m,\u001b[49m\u001b[43m \u001b[49m\u001b[38;5;124;43m'\u001b[39;49m\u001b[38;5;124;43mrb\u001b[39;49m\u001b[38;5;124;43m'\u001b[39;49m\u001b[43m)\u001b[49m \u001b[38;5;28;01mas\u001b[39;00m f:\n\u001b[0;32m      7\u001b[0m     final_updated_segments\u001b[38;5;241m=\u001b[39m pickle\u001b[38;5;241m.\u001b[39mload(f)\n\u001b[0;32m     10\u001b[0m features_list, labels_list \u001b[38;5;241m=\u001b[39m prepare_dataset(final_updated_segments, HISTORY)\n",
      "File \u001b[1;32mc:\\Users\\Biratal\\miniconda3\\envs\\ML\\lib\\site-packages\\IPython\\core\\interactiveshell.py:310\u001b[0m, in \u001b[0;36m_modified_open\u001b[1;34m(file, *args, **kwargs)\u001b[0m\n\u001b[0;32m    303\u001b[0m \u001b[38;5;28;01mif\u001b[39;00m file \u001b[38;5;129;01min\u001b[39;00m {\u001b[38;5;241m0\u001b[39m, \u001b[38;5;241m1\u001b[39m, \u001b[38;5;241m2\u001b[39m}:\n\u001b[0;32m    304\u001b[0m     \u001b[38;5;28;01mraise\u001b[39;00m \u001b[38;5;167;01mValueError\u001b[39;00m(\n\u001b[0;32m    305\u001b[0m         \u001b[38;5;124mf\u001b[39m\u001b[38;5;124m\"\u001b[39m\u001b[38;5;124mIPython won\u001b[39m\u001b[38;5;124m'\u001b[39m\u001b[38;5;124mt let you open fd=\u001b[39m\u001b[38;5;132;01m{\u001b[39;00mfile\u001b[38;5;132;01m}\u001b[39;00m\u001b[38;5;124m by default \u001b[39m\u001b[38;5;124m\"\u001b[39m\n\u001b[0;32m    306\u001b[0m         \u001b[38;5;124m\"\u001b[39m\u001b[38;5;124mas it is likely to crash IPython. If you know what you are doing, \u001b[39m\u001b[38;5;124m\"\u001b[39m\n\u001b[0;32m    307\u001b[0m         \u001b[38;5;124m\"\u001b[39m\u001b[38;5;124myou can use builtins\u001b[39m\u001b[38;5;124m'\u001b[39m\u001b[38;5;124m open.\u001b[39m\u001b[38;5;124m\"\u001b[39m\n\u001b[0;32m    308\u001b[0m     )\n\u001b[1;32m--> 310\u001b[0m \u001b[38;5;28;01mreturn\u001b[39;00m io_open(file, \u001b[38;5;241m*\u001b[39margs, \u001b[38;5;241m*\u001b[39m\u001b[38;5;241m*\u001b[39mkwargs)\n",
      "\u001b[1;31mFileNotFoundError\u001b[0m: [Errno 2] No such file or directory: './pkl_files/559_train_combined_segments_wavenet.pkl'"
     ]
    }
   ],
   "source": [
    "# load train data from the .pkl file\n",
    "import pickle\n",
    "file_num = 'all'\n",
    "HISTORY = 12\n",
    "\n",
    "with open(f'./pkl_files/559_train_combined_segments_wavenet.pkl', 'rb') as f:\n",
    "    final_updated_segments= pickle.load(f)\n",
    "\n",
    "\n",
    "features_list, labels_list = prepare_dataset(final_updated_segments, HISTORY)"
   ]
  },
  {
   "cell_type": "code",
   "execution_count": null,
   "metadata": {},
   "outputs": [
    {
     "ename": "NameError",
     "evalue": "name 'final_updated_segments' is not defined",
     "output_type": "error",
     "traceback": [
      "\u001b[1;31m---------------------------------------------------------------------------\u001b[0m",
      "\u001b[1;31mNameError\u001b[0m                                 Traceback (most recent call last)",
      "Cell \u001b[1;32mIn[22], line 1\u001b[0m\n\u001b[1;32m----> 1\u001b[0m \u001b[43mfinal_updated_segments\u001b[49m\n",
      "\u001b[1;31mNameError\u001b[0m: name 'final_updated_segments' is not defined"
     ]
    }
   ],
   "source": [
    "test"
   ]
  },
  {
   "cell_type": "code",
   "execution_count": 77,
   "metadata": {},
   "outputs": [
    {
     "ename": "NameError",
     "evalue": "name 'features_list' is not defined",
     "output_type": "error",
     "traceback": [
      "\u001b[1;31m---------------------------------------------------------------------------\u001b[0m",
      "\u001b[1;31mNameError\u001b[0m                                 Traceback (most recent call last)",
      "Cell \u001b[1;32mIn[77], line 1\u001b[0m\n\u001b[1;32m----> 1\u001b[0m features_array \u001b[38;5;241m=\u001b[39m np\u001b[38;5;241m.\u001b[39marray(\u001b[43mfeatures_list\u001b[49m)\n\u001b[0;32m      2\u001b[0m labels_array \u001b[38;5;241m=\u001b[39m np\u001b[38;5;241m.\u001b[39marray(labels_list)\n\u001b[0;32m      4\u001b[0m \u001b[38;5;66;03m# Step 1: Split into 80% train+val and 20% test\u001b[39;00m\n",
      "\u001b[1;31mNameError\u001b[0m: name 'features_list' is not defined"
     ]
    }
   ],
   "source": [
    "features_array = np.array(features_list)\n",
    "labels_array = np.array(labels_list)\n",
    "\n",
    "# Step 1: Split into 80% train+val and 20% test\n",
    "X_temp, X_test, y_temp, y_test = train_test_split(features_array, labels_array, test_size=0.2, shuffle=False)\n",
    "\n",
    "# Step 2: Split the 80% into 70% train and 10% val (0.7/0.8 = 0.875)\n",
    "X_train, X_val, y_train, y_val = train_test_split(X_temp, y_temp, test_size=0.125, shuffle=False)\n",
    "\n",
    "# Convert the splits to torch tensors\n",
    "X_train = torch.tensor(X_train, dtype=torch.float32)\n",
    "y_train = torch.tensor(y_train, dtype=torch.float32)\n",
    "X_val = torch.tensor(X_val, dtype=torch.float32)\n",
    "y_val = torch.tensor(y_val, dtype=torch.float32)\n",
    "X_test = torch.tensor(X_test, dtype=torch.float32)\n",
    "y_test = torch.tensor(y_test, dtype=torch.float32)\n",
    "\n",
    "# Create DataLoaders\n",
    "train_dataset = TensorDataset(X_train, y_train)\n",
    "train_loader = DataLoader(train_dataset, batch_size=32, shuffle=False)\n",
    "\n",
    "val_dataset = TensorDataset(X_val, y_val)\n",
    "val_loader = DataLoader(val_dataset, batch_size=32, shuffle=False)\n",
    "\n",
    "test_dataset = TensorDataset(X_test, y_test)\n",
    "test_loader = DataLoader(test_dataset, batch_size=32, shuffle=False)"
   ]
  },
  {
   "cell_type": "code",
   "execution_count": null,
   "metadata": {},
   "outputs": [
    {
     "name": "stdout",
     "output_type": "stream",
     "text": [
      "Features batch shape: torch.Size([32, 13, 4])\n",
      "Label batch shape: torch.Size([32, 1])\n"
     ]
    }
   ],
   "source": [
    "# Convert lists to PyTorch tensors\n",
    "features_tensor = torch.tensor(features_list, dtype=torch.float32)\n",
    "labels_tensor = torch.tensor(labels_list, dtype=torch.float32).unsqueeze(1)  # Making labels tensor 2D\n",
    "\n",
    "feature_label_tensor = TensorDataset(features_tensor, labels_tensor)\n",
    "\n",
    "\n",
    "train_loader = DataLoader(feature_label_tensor, batch_size=32, shuffle=True)\n",
    "\n",
    "# Example of using DataLoader in a training loop\n",
    "for features, labels in train_loader:\n",
    "    print(\"Features batch shape:\", features.shape)\n",
    "    print(\"Label batch shape:\", labels.shape)\n",
    "    # Example: print(features, labels)\n",
    "    break"
   ]
  },
  {
   "cell_type": "code",
   "execution_count": 78,
   "metadata": {},
   "outputs": [
    {
     "name": "stdout",
     "output_type": "stream",
     "text": [
      "use gpu\n"
     ]
    }
   ],
   "source": [
    "# initialize cuda option\n",
    "dtype = torch.FloatTensor # data type\n",
    "ltype = torch.LongTensor # label type\n",
    "\n",
    "use_cuda = torch.cuda.is_available()\n",
    "if use_cuda:\n",
    "    print('use gpu')\n",
    "    dtype = torch.cuda.FloatTensor\n",
    "    ltype = torch.cuda.LongTensor"
   ]
  },
  {
   "cell_type": "code",
   "execution_count": 79,
   "metadata": {},
   "outputs": [],
   "source": [
    "# Build the dilate CNN\n",
    "import torch\n",
    "import torch.nn as nn\n",
    "import torch.nn.functional as F\n",
    "\n",
    "class WaveNetBlock(nn.Module):\n",
    "    def __init__(self, in_channels, dilation):\n",
    "        super(WaveNetBlock, self).__init__()\n",
    "        self.conv1 = nn.Conv1d(in_channels, in_channels, kernel_size=2, dilation=dilation, padding=1+dilation - 2^(dilation-1))\n",
    "        self.conv2 = nn.Conv1d(in_channels, in_channels, kernel_size=2, dilation=dilation, padding=dilation)\n",
    "        self.res_conv = nn.Conv1d(in_channels, in_channels, kernel_size=1)\n",
    "        \n",
    "    def forward(self, x):\n",
    "        # print(\"shape of x: \", x.shape)\n",
    "        out = F.relu(self.conv1(x))\n",
    "        # print(\"shape of first out: \", out.shape)\n",
    "        out = F.relu(self.conv2(out))\n",
    "        # print(\"shape of second out: \", out.shape)\n",
    "        res = self.res_conv(x)\n",
    "        # print(\"shape of res: \", res.shape)\n",
    "        return out + res\n",
    "\n",
    "class WaveNet(nn.Module):\n",
    "    def __init__(self, in_channels, out_channels, num_blocks, dilations):\n",
    "        super(WaveNet, self).__init__()\n",
    "        self.initial_conv = nn.Conv1d(in_channels, 32, kernel_size=2, padding=1)\n",
    "        self.blocks = nn.ModuleList([WaveNetBlock(32, dilation) for dilation in dilations])\n",
    "        self.final_conv1 = nn.Conv1d(32, 128, kernel_size=2, padding=0)\n",
    "        self.final_conv2 = nn.Conv1d(128, 256, kernel_size=2, padding=0)\n",
    "        self.fc1 = nn.Linear(256, 128)\n",
    "        self.fc2 = nn.Linear(128, out_channels)\n",
    "        \n",
    "    def forward(self, x):\n",
    "        x = F.relu(self.initial_conv(x))\n",
    "        for block in self.blocks:\n",
    "            # print(\"enter the block loop\")\n",
    "            x = block(x)\n",
    "        x = F.relu(self.final_conv1(x))\n",
    "        x = F.relu(self.final_conv2(x))\n",
    "        x = x[:, :, -1]  # Get the last time step\n",
    "        x = F.relu(self.fc1(x))\n",
    "        x = self.fc2(x)\n",
    "        return x\n",
    "\n",
    "input_channels = 3  # Number of features\n",
    "output_channels = 1  # Predicting a single value (glucose level)\n",
    "num_blocks = 4  # Number of WaveNet blocks\n",
    "dilations = [2**i for i in range(num_blocks)]  # Dilation rates: 1, 2, 4, 8\n",
    "\n",
    "model = WaveNet(input_channels, output_channels, num_blocks, dilations)\n",
    "\n",
    "# Example of how to define the loss and optimizer\n",
    "criterion = nn.MSELoss()\n",
    "optimizer = torch.optim.Adam(model.parameters(), lr=0.0008)\n"
   ]
  },
  {
   "cell_type": "code",
   "execution_count": 80,
   "metadata": {},
   "outputs": [
    {
     "ename": "NameError",
     "evalue": "name 'train_loader' is not defined",
     "output_type": "error",
     "traceback": [
      "\u001b[1;31m---------------------------------------------------------------------------\u001b[0m",
      "\u001b[1;31mNameError\u001b[0m                                 Traceback (most recent call last)",
      "Cell \u001b[1;32mIn[80], line 1\u001b[0m\n\u001b[1;32m----> 1\u001b[0m \u001b[38;5;28;01mfor\u001b[39;00m inputs, targets \u001b[38;5;129;01min\u001b[39;00m \u001b[43mtrain_loader\u001b[49m:\n\u001b[0;32m      2\u001b[0m     \u001b[38;5;28mprint\u001b[39m(\u001b[38;5;124m\"\u001b[39m\u001b[38;5;124mInput tensor shape:\u001b[39m\u001b[38;5;124m\"\u001b[39m, inputs\u001b[38;5;241m.\u001b[39mshape)\n\u001b[0;32m      3\u001b[0m     \u001b[38;5;28mprint\u001b[39m(\u001b[38;5;124m\"\u001b[39m\u001b[38;5;124mInput tensor total elements:\u001b[39m\u001b[38;5;124m\"\u001b[39m, inputs\u001b[38;5;241m.\u001b[39mnumel())\n",
      "\u001b[1;31mNameError\u001b[0m: name 'train_loader' is not defined"
     ]
    }
   ],
   "source": [
    "for inputs, targets in train_loader:\n",
    "    print(\"Input tensor shape:\", inputs.shape)\n",
    "    print(\"Input tensor total elements:\", inputs.numel())\n",
    "    print(\"Target tensor shape:\", targets.shape)\n",
    "    print(\"Sequence length:\", inputs.shape[1])\n",
    "    break\n"
   ]
  },
  {
   "cell_type": "code",
   "execution_count": 81,
   "metadata": {},
   "outputs": [
    {
     "ename": "NameError",
     "evalue": "name 'train_loader' is not defined",
     "output_type": "error",
     "traceback": [
      "\u001b[1;31m---------------------------------------------------------------------------\u001b[0m",
      "\u001b[1;31mNameError\u001b[0m                                 Traceback (most recent call last)",
      "Cell \u001b[1;32mIn[81], line 5\u001b[0m\n\u001b[0;32m      3\u001b[0m \u001b[38;5;28;01mfor\u001b[39;00m epoch \u001b[38;5;129;01min\u001b[39;00m \u001b[38;5;28mrange\u001b[39m(num_epochs):\n\u001b[0;32m      4\u001b[0m     model\u001b[38;5;241m.\u001b[39mtrain()\n\u001b[1;32m----> 5\u001b[0m     \u001b[38;5;28;01mfor\u001b[39;00m inputs, targets \u001b[38;5;129;01min\u001b[39;00m \u001b[43mtrain_loader\u001b[49m:\n\u001b[0;32m      6\u001b[0m         optimizer\u001b[38;5;241m.\u001b[39mzero_grad()\n\u001b[0;32m      7\u001b[0m         outputs \u001b[38;5;241m=\u001b[39m model(inputs\u001b[38;5;241m.\u001b[39mpermute(\u001b[38;5;241m0\u001b[39m, \u001b[38;5;241m2\u001b[39m, \u001b[38;5;241m1\u001b[39m))  \u001b[38;5;66;03m# Permute to match (batch, channels, seq_len)\u001b[39;00m\n",
      "\u001b[1;31mNameError\u001b[0m: name 'train_loader' is not defined"
     ]
    }
   ],
   "source": [
    "\n",
    "# Training Loop\n",
    "num_epochs = 100\n",
    "for epoch in range(num_epochs):\n",
    "    model.train()\n",
    "    for inputs, targets in train_loader:\n",
    "        optimizer.zero_grad()\n",
    "        outputs = model(inputs.permute(0, 2, 1))  # Permute to match (batch, channels, seq_len)\n",
    "        outputs = outputs.squeeze()  # Remove extra dimensions if present\n",
    "        targets = targets.squeeze()  # Remove extra dimensions if present\n",
    "\n",
    "        loss = criterion(outputs, targets)\n",
    "        loss.backward()\n",
    "        optimizer.step()\n",
    "\n",
    "    model.eval()\n",
    "    val_loss = 0\n",
    "    with torch.no_grad():\n",
    "        for inputs, targets in val_loader:\n",
    "            outputs = model(inputs.permute(0, 2, 1))  # Permute to match (batch, channels, seq_len)\n",
    "            outputs = outputs.squeeze()  # Remove extra dimensions if present\n",
    "            targets = targets.squeeze()  # Remove extra dimensions if present\n",
    "\n",
    "            loss = criterion(outputs, targets)\n",
    "            val_loss += loss.item()\n",
    "    \n",
    "    print(f'Epoch {epoch+1}, Validation Loss: {val_loss / len(val_loader)}')"
   ]
  },
  {
   "cell_type": "code",
   "execution_count": 82,
   "metadata": {},
   "outputs": [],
   "source": [
    "# save model\n",
    "torch.save(model, f'./glucnet_model_{file_num}_H_{HISTORY}.pth')"
   ]
  },
  {
   "cell_type": "code",
   "execution_count": 83,
   "metadata": {},
   "outputs": [],
   "source": [
    "from GlucNet_functions import *"
   ]
  },
  {
   "cell_type": "code",
   "execution_count": 94,
   "metadata": {},
   "outputs": [],
   "source": [
    "def prepare_dataset_test_dataset( file_dir, HISTORY = 6):\n",
    "        # test data\n",
    "    g_data = []\n",
    "\n",
    "    print(\"file_dir is \", file_dir)\n",
    "    test_file_path = file_dir \n",
    "    test_glucose = read_ohio(test_file_path, \"glucose_level\", False)\n",
    "    test_glucose_dict = {entry[0]['ts']: entry[0]['value'] for entry in test_glucose}\n",
    "\n",
    "    for timestamp in test_glucose_dict:\n",
    "        record = {\n",
    "            'timestamp': timestamp,\n",
    "            'glucose_value': test_glucose_dict[timestamp],\n",
    "        }\n",
    "        \n",
    "        g_data.append(record)\n",
    "    test_glucose_df = pd.DataFrame(g_data)\n",
    "    test_glucose_df['glucose_value'] = pd.to_numeric(test_glucose_df['glucose_value'])\n",
    "\n",
    "    test_segmebts = segement_data_as_1hour(test_glucose_df)\n",
    "    test_interpolated_segments = detect_missing_and_spline_interpolate(test_segmebts)\n",
    "\n",
    "    test_meal = read_ohio(test_file_path, \"meal\", False)\n",
    "    flattened_test_meal_data = [item[0] for item in test_meal]  # Take the first (and only) item from each sublist\n",
    "    test_meal_df = pd.DataFrame(flattened_test_meal_data)\n",
    "    test_meal_df['assigned'] = False\n",
    "    test_meal_updated_segments = update_segments_with_meals(test_interpolated_segments, test_meal_df)\n",
    "\n",
    "    test_basal = read_ohio(test_file_path, \"basal\", False)\n",
    "    flattened_test_basal_data = [item[0] for item in test_basal]  # Take the first (and only) item from each sublist\n",
    "    test_basal_df = pd.DataFrame(flattened_test_basal_data)\n",
    "    test_basal_df['assigned'] = False\n",
    "    test_basal_df['end_ts'] = test_basal_df['ts'].shift(-1)\n",
    "    test_basal_updated_segments = update_segments_with_basal(test_meal_updated_segments, test_basal_df)\n",
    "\n",
    "    test_bolus = read_ohio_bolus_tempbasal(test_file_path, \"bolus\", False)\n",
    "    flattened_test_bolus_data = [item[0] for item in test_bolus]  # Take the first (and only) item from each sublist\n",
    "    test_bolus_df = pd.DataFrame(flattened_test_bolus_data)\n",
    "    test_bolus_df['assigned'] = False\n",
    "    test_bolus_updated_segments = update_segments_with_bolus(test_basal_updated_segments, test_bolus_df)\n",
    "\n",
    "    # test_tempbasal = read_ohio_bolus_tempbasal(test_file_path, \"temp_basal\", False)\n",
    "    # flattened_test_tempbasal_data = [item[0] for item in test_tempbasal]  # Take the first (and only) item from each sublist\n",
    "    # test_tempbasal_df = pd.DataFrame(flattened_test_tempbasal_data)\n",
    "    # test_tempbasal_df['assigned'] = False\n",
    "\n",
    "    # test_final_updated_segments = update_segments_with_tempbasal(test_bolus_updated_segments, test_tempbasal_df)\n",
    "    test_features_list, test_labels_list = prepare_dataset(test_bolus_updated_segments, HISTORY)\n",
    "\n",
    "    test_features_array = np.array(test_features_list)\n",
    "    test_labels_array = np.array(test_labels_list)\n",
    "\n",
    "    X_test, y_test = torch.tensor(test_features_array, dtype=torch.float32), torch.tensor(test_labels_array, dtype=torch.float32)\n",
    "\n",
    "    test_dataset = TensorDataset(X_test, y_test)\n",
    "    test_loader = DataLoader(test_dataset, batch_size=32, shuffle=False)\n",
    "\n",
    "    return test_loader\n",
    "\n"
   ]
  },
  {
   "cell_type": "code",
   "execution_count": 95,
   "metadata": {},
   "outputs": [],
   "source": [
    "# # load the model \n",
    "# input_channels = 4  # Number of features\n",
    "# output_channels = 1\n",
    "# num_blocks = 4  # Number of WaveNet blocks\n",
    "# dilations = [2**i for i in range(num_blocks)]  # Dilation rates: 1, 2, 4, 8\n",
    "# model = WaveNet(input_channels, output_channels, num_blocks, dilations)\n",
    "# # # PH = 12\n",
    "# # file_num = 'all'\n",
    "\n",
    "# # model.load_state_dict(torch.load(f'./glucnet_model_100_epoch_ph12.pth'))"
   ]
  },
  {
   "cell_type": "code",
   "execution_count": 96,
   "metadata": {},
   "outputs": [
    {
     "data": {
      "text/plain": [
       "<torch.utils.data.dataloader.DataLoader at 0x1bc99a76460>"
      ]
     },
     "execution_count": 96,
     "metadata": {},
     "output_type": "execute_result"
    }
   ],
   "source": [
    "test_loader"
   ]
  },
  {
   "cell_type": "code",
   "execution_count": 87,
   "metadata": {},
   "outputs": [],
   "source": [
    "filename = './BIG_training_data.pkl'\n",
    "with open(filename\n",
    "          , 'rb') as f:\n",
    "    test_final_updated_segments = pickle.load(f)\n",
    "    \n",
    "\n",
    "# rename the bolus_effect to bolus_ds"
   ]
  },
  {
   "cell_type": "code",
   "execution_count": 88,
   "metadata": {},
   "outputs": [],
   "source": [
    "# test_loader = prepare_dataset_test_dataset(test_filename, HISTORY)\n",
    "# test"
   ]
  },
  {
   "cell_type": "code",
   "execution_count": 89,
   "metadata": {},
   "outputs": [
    {
     "name": "stderr",
     "output_type": "stream",
     "text": [
      "C:\\Users\\Biratal\\AppData\\Local\\Temp\\ipykernel_142904\\2482611198.py:1: FutureWarning: You are using `torch.load` with `weights_only=False` (the current default value), which uses the default pickle module implicitly. It is possible to construct malicious pickle data which will execute arbitrary code during unpickling (See https://github.com/pytorch/pytorch/blob/main/SECURITY.md#untrusted-models for more details). In a future release, the default value for `weights_only` will be flipped to `True`. This limits the functions that could be executed during unpickling. Arbitrary objects will no longer be allowed to be loaded via this mode unless they are explicitly allowlisted by the user via `torch.serialization.add_safe_globals`. We recommend you start setting `weights_only=True` for any use case where you don't have full control of the loaded file. Please open an issue on GitHub for any issues related to this experimental feature.\n",
      "  model = torch.load(f'./glucnet_model_OHIO_ALL_FEATURES_ALL_H_7.pth')\n"
     ]
    }
   ],
   "source": [
    "model = torch.load(f'./glucnet_model_OHIO_ALL_FEATURES_ALL_H_7.pth')\n"
   ]
  },
  {
   "cell_type": "code",
   "execution_count": 100,
   "metadata": {},
   "outputs": [
    {
     "name": "stdout",
     "output_type": "stream",
     "text": [
      "file_dir is  ../OhioT1DM/2018_test\\559-ws-testing.xml\n",
      "category is  glucose_level\n",
      "length of root.findall(category) is  1\n",
      "segment_1\n",
      "before:  2022-01-18 17:06:00\n",
      "after:  2022-01-18 18:06:00\n",
      "segment_3\n",
      "before:  2022-01-21 16:32:00\n",
      "after:  2022-01-21 16:47:00\n",
      "segment_5\n",
      "before:  2022-01-23 20:12:00\n",
      "after:  2022-01-23 20:32:00\n"
     ]
    },
    {
     "name": "stderr",
     "output_type": "stream",
     "text": [
      "\\\\dartfs-hpc\\rc\\home\\j\\f007g3j\\ReproducibilityStudy_DL_BGPrediction\\GluNet_Again\\GlucNet_functions.py:35: FutureWarning: 'T' is deprecated and will be removed in a future version, please use 'min' instead.\n",
      "  datetime_list = np.array(pd.date_range(start=min(segments[sequence]['timestamp']), end=max(segments[sequence]['timestamp']), freq='5T').tolist())\n",
      "\\\\dartfs-hpc\\rc\\home\\j\\f007g3j\\ReproducibilityStudy_DL_BGPrediction\\GluNet_Again\\GlucNet_functions.py:48: FutureWarning: 'T' is deprecated and will be removed in a future version, please use 'min' instead.\n",
      "  time_index_interpolated = pd.date_range(start=reference_time, periods=len(interpolated_xs), freq='5T')\n"
     ]
    },
    {
     "name": "stdout",
     "output_type": "stream",
     "text": [
      "category is  meal\n",
      "length of root.findall(category) is  1\n"
     ]
    },
    {
     "name": "stderr",
     "output_type": "stream",
     "text": [
      "\\\\dartfs-hpc\\rc\\home\\j\\f007g3j\\ReproducibilityStudy_DL_BGPrediction\\GluNet_Again\\GlucNet_functions.py:430: FutureWarning: Setting an item of incompatible dtype is deprecated and will raise an error in a future version of pandas. Value '46' has dtype incompatible with int64, please explicitly cast to a compatible dtype first.\n",
      "  closest_meal = meal_df.loc[meal_df['time_difference'].idxmin()]\n",
      "\\\\dartfs-hpc\\rc\\home\\j\\f007g3j\\ReproducibilityStudy_DL_BGPrediction\\GluNet_Again\\GlucNet_functions.py:430: FutureWarning: Setting an item of incompatible dtype is deprecated and will raise an error in a future version of pandas. Value '40' has dtype incompatible with int64, please explicitly cast to a compatible dtype first.\n",
      "  closest_meal = meal_df.loc[meal_df['time_difference'].idxmin()]\n",
      "\\\\dartfs-hpc\\rc\\home\\j\\f007g3j\\ReproducibilityStudy_DL_BGPrediction\\GluNet_Again\\GlucNet_functions.py:430: FutureWarning: Setting an item of incompatible dtype is deprecated and will raise an error in a future version of pandas. Value '40' has dtype incompatible with int64, please explicitly cast to a compatible dtype first.\n",
      "  closest_meal = meal_df.loc[meal_df['time_difference'].idxmin()]\n",
      "\\\\dartfs-hpc\\rc\\home\\j\\f007g3j\\ReproducibilityStudy_DL_BGPrediction\\GluNet_Again\\GlucNet_functions.py:430: FutureWarning: Setting an item of incompatible dtype is deprecated and will raise an error in a future version of pandas. Value '21' has dtype incompatible with int64, please explicitly cast to a compatible dtype first.\n",
      "  closest_meal = meal_df.loc[meal_df['time_difference'].idxmin()]\n",
      "\\\\dartfs-hpc\\rc\\home\\j\\f007g3j\\ReproducibilityStudy_DL_BGPrediction\\GluNet_Again\\GlucNet_functions.py:430: FutureWarning: Setting an item of incompatible dtype is deprecated and will raise an error in a future version of pandas. Value '30' has dtype incompatible with int64, please explicitly cast to a compatible dtype first.\n",
      "  closest_meal = meal_df.loc[meal_df['time_difference'].idxmin()]\n",
      "\\\\dartfs-hpc\\rc\\home\\j\\f007g3j\\ReproducibilityStudy_DL_BGPrediction\\GluNet_Again\\GlucNet_functions.py:430: FutureWarning: Setting an item of incompatible dtype is deprecated and will raise an error in a future version of pandas. Value '30' has dtype incompatible with int64, please explicitly cast to a compatible dtype first.\n",
      "  closest_meal = meal_df.loc[meal_df['time_difference'].idxmin()]\n",
      "\\\\dartfs-hpc\\rc\\home\\j\\f007g3j\\ReproducibilityStudy_DL_BGPrediction\\GluNet_Again\\GlucNet_functions.py:430: FutureWarning: Setting an item of incompatible dtype is deprecated and will raise an error in a future version of pandas. Value '30' has dtype incompatible with int64, please explicitly cast to a compatible dtype first.\n",
      "  closest_meal = meal_df.loc[meal_df['time_difference'].idxmin()]\n",
      "\\\\dartfs-hpc\\rc\\home\\j\\f007g3j\\ReproducibilityStudy_DL_BGPrediction\\GluNet_Again\\GlucNet_functions.py:430: FutureWarning: Setting an item of incompatible dtype is deprecated and will raise an error in a future version of pandas. Value '20' has dtype incompatible with int64, please explicitly cast to a compatible dtype first.\n",
      "  closest_meal = meal_df.loc[meal_df['time_difference'].idxmin()]\n",
      "\\\\dartfs-hpc\\rc\\home\\j\\f007g3j\\ReproducibilityStudy_DL_BGPrediction\\GluNet_Again\\GlucNet_functions.py:430: FutureWarning: Setting an item of incompatible dtype is deprecated and will raise an error in a future version of pandas. Value '34' has dtype incompatible with int64, please explicitly cast to a compatible dtype first.\n",
      "  closest_meal = meal_df.loc[meal_df['time_difference'].idxmin()]\n"
     ]
    },
    {
     "name": "stdout",
     "output_type": "stream",
     "text": [
      "category is  basal\n",
      "length of root.findall(category) is  1\n"
     ]
    },
    {
     "name": "stderr",
     "output_type": "stream",
     "text": [
      "\\\\dartfs-hpc\\rc\\home\\j\\f007g3j\\ReproducibilityStudy_DL_BGPrediction\\GluNet_Again\\GlucNet_functions.py:321: FutureWarning: Setting an item of incompatible dtype is deprecated and will raise an error in a future version of pandas. Value '6.3' has dtype incompatible with int64, please explicitly cast to a compatible dtype first.\n",
      "  closest_bolus = bolus_df.loc[bolus_df['time_difference'].idxmin()]\n",
      "\\\\dartfs-hpc\\rc\\home\\j\\f007g3j\\ReproducibilityStudy_DL_BGPrediction\\GluNet_Again\\GlucNet_functions.py:321: FutureWarning: Setting an item of incompatible dtype is deprecated and will raise an error in a future version of pandas. Value '2.9' has dtype incompatible with int64, please explicitly cast to a compatible dtype first.\n",
      "  closest_bolus = bolus_df.loc[bolus_df['time_difference'].idxmin()]\n",
      "\\\\dartfs-hpc\\rc\\home\\j\\f007g3j\\ReproducibilityStudy_DL_BGPrediction\\GluNet_Again\\GlucNet_functions.py:321: FutureWarning: Setting an item of incompatible dtype is deprecated and will raise an error in a future version of pandas. Value '2.4' has dtype incompatible with int64, please explicitly cast to a compatible dtype first.\n",
      "  closest_bolus = bolus_df.loc[bolus_df['time_difference'].idxmin()]\n",
      "\\\\dartfs-hpc\\rc\\home\\j\\f007g3j\\ReproducibilityStudy_DL_BGPrediction\\GluNet_Again\\GlucNet_functions.py:321: FutureWarning: Setting an item of incompatible dtype is deprecated and will raise an error in a future version of pandas. Value '1.2' has dtype incompatible with int64, please explicitly cast to a compatible dtype first.\n",
      "  closest_bolus = bolus_df.loc[bolus_df['time_difference'].idxmin()]\n",
      "\\\\dartfs-hpc\\rc\\home\\j\\f007g3j\\ReproducibilityStudy_DL_BGPrediction\\GluNet_Again\\GlucNet_functions.py:321: FutureWarning: Setting an item of incompatible dtype is deprecated and will raise an error in a future version of pandas. Value '4.4' has dtype incompatible with int64, please explicitly cast to a compatible dtype first.\n",
      "  closest_bolus = bolus_df.loc[bolus_df['time_difference'].idxmin()]\n",
      "\\\\dartfs-hpc\\rc\\home\\j\\f007g3j\\ReproducibilityStudy_DL_BGPrediction\\GluNet_Again\\GlucNet_functions.py:321: FutureWarning: Setting an item of incompatible dtype is deprecated and will raise an error in a future version of pandas. Value '5.0' has dtype incompatible with int64, please explicitly cast to a compatible dtype first.\n",
      "  closest_bolus = bolus_df.loc[bolus_df['time_difference'].idxmin()]\n",
      "\\\\dartfs-hpc\\rc\\home\\j\\f007g3j\\ReproducibilityStudy_DL_BGPrediction\\GluNet_Again\\GlucNet_functions.py:321: FutureWarning: Setting an item of incompatible dtype is deprecated and will raise an error in a future version of pandas. Value '3.3' has dtype incompatible with int64, please explicitly cast to a compatible dtype first.\n",
      "  closest_bolus = bolus_df.loc[bolus_df['time_difference'].idxmin()]\n",
      "\\\\dartfs-hpc\\rc\\home\\j\\f007g3j\\ReproducibilityStudy_DL_BGPrediction\\GluNet_Again\\GlucNet_functions.py:321: FutureWarning: Setting an item of incompatible dtype is deprecated and will raise an error in a future version of pandas. Value '5.0' has dtype incompatible with int64, please explicitly cast to a compatible dtype first.\n",
      "  closest_bolus = bolus_df.loc[bolus_df['time_difference'].idxmin()]\n",
      "\\\\dartfs-hpc\\rc\\home\\j\\f007g3j\\ReproducibilityStudy_DL_BGPrediction\\GluNet_Again\\GlucNet_functions.py:321: FutureWarning: Setting an item of incompatible dtype is deprecated and will raise an error in a future version of pandas. Value '1.5' has dtype incompatible with int64, please explicitly cast to a compatible dtype first.\n",
      "  closest_bolus = bolus_df.loc[bolus_df['time_difference'].idxmin()]\n"
     ]
    },
    {
     "name": "stdout",
     "output_type": "stream",
     "text": [
      "len of segment_df is  499\n",
      "len of segment_df is  239\n",
      "len of segment_df is  367\n",
      "len of segment_df is  162\n",
      "len of segment_df is  510\n",
      "len of segment_df is  283\n",
      "len of segment_df is  142\n",
      "len of segment_df is  96\n",
      "len of segment_df is  232\n",
      "len of features_list 2413\n",
      "RMSE on test set: 20.69158581725462\n",
      "file_dir is  ../OhioT1DM/2018_test\\563-ws-testing.xml\n",
      "category is  glucose_level\n",
      "length of root.findall(category) is  1\n",
      "segment_2\n",
      "before:  2021-11-05 10:18:00\n",
      "after:  2021-11-05 10:38:00\n",
      "segment_2\n",
      "before:  2021-11-06 03:38:00\n",
      "after:  2021-11-06 03:48:00\n",
      "category is  meal\n",
      "length of root.findall(category) is  1\n"
     ]
    },
    {
     "name": "stderr",
     "output_type": "stream",
     "text": [
      "\\\\dartfs-hpc\\rc\\home\\j\\f007g3j\\ReproducibilityStudy_DL_BGPrediction\\GluNet_Again\\GlucNet_functions.py:35: FutureWarning: 'T' is deprecated and will be removed in a future version, please use 'min' instead.\n",
      "  datetime_list = np.array(pd.date_range(start=min(segments[sequence]['timestamp']), end=max(segments[sequence]['timestamp']), freq='5T').tolist())\n",
      "\\\\dartfs-hpc\\rc\\home\\j\\f007g3j\\ReproducibilityStudy_DL_BGPrediction\\GluNet_Again\\GlucNet_functions.py:48: FutureWarning: 'T' is deprecated and will be removed in a future version, please use 'min' instead.\n",
      "  time_index_interpolated = pd.date_range(start=reference_time, periods=len(interpolated_xs), freq='5T')\n",
      "\\\\dartfs-hpc\\rc\\home\\j\\f007g3j\\ReproducibilityStudy_DL_BGPrediction\\GluNet_Again\\GlucNet_functions.py:430: FutureWarning: Setting an item of incompatible dtype is deprecated and will raise an error in a future version of pandas. Value '15' has dtype incompatible with int64, please explicitly cast to a compatible dtype first.\n",
      "  closest_meal = meal_df.loc[meal_df['time_difference'].idxmin()]\n",
      "\\\\dartfs-hpc\\rc\\home\\j\\f007g3j\\ReproducibilityStudy_DL_BGPrediction\\GluNet_Again\\GlucNet_functions.py:430: FutureWarning: Setting an item of incompatible dtype is deprecated and will raise an error in a future version of pandas. Value '10' has dtype incompatible with int64, please explicitly cast to a compatible dtype first.\n",
      "  closest_meal = meal_df.loc[meal_df['time_difference'].idxmin()]\n"
     ]
    },
    {
     "name": "stdout",
     "output_type": "stream",
     "text": [
      "category is  basal\n",
      "length of root.findall(category) is  1\n"
     ]
    },
    {
     "name": "stderr",
     "output_type": "stream",
     "text": [
      "\\\\dartfs-hpc\\rc\\home\\j\\f007g3j\\ReproducibilityStudy_DL_BGPrediction\\GluNet_Again\\GlucNet_functions.py:321: FutureWarning: Setting an item of incompatible dtype is deprecated and will raise an error in a future version of pandas. Value '6.5' has dtype incompatible with int64, please explicitly cast to a compatible dtype first.\n",
      "  closest_bolus = bolus_df.loc[bolus_df['time_difference'].idxmin()]\n",
      "\\\\dartfs-hpc\\rc\\home\\j\\f007g3j\\ReproducibilityStudy_DL_BGPrediction\\GluNet_Again\\GlucNet_functions.py:321: FutureWarning: Setting an item of incompatible dtype is deprecated and will raise an error in a future version of pandas. Value '2.3' has dtype incompatible with int64, please explicitly cast to a compatible dtype first.\n",
      "  closest_bolus = bolus_df.loc[bolus_df['time_difference'].idxmin()]\n"
     ]
    },
    {
     "name": "stdout",
     "output_type": "stream",
     "text": [
      "len of segment_df is  848\n",
      "len of segment_df is  1726\n",
      "len of features_list 2548\n",
      "RMSE on test set: 19.337959963673537\n",
      "file_dir is  ../OhioT1DM/2018_test\\570-ws-testing.xml\n",
      "category is  glucose_level\n",
      "length of root.findall(category) is  1\n",
      "segment_1\n",
      "before:  2022-01-17 06:39:00\n",
      "after:  2022-01-17 06:59:00\n",
      "segment_1\n",
      "before:  2022-01-18 05:49:00\n",
      "after:  2022-01-18 06:39:00\n",
      "segment_2\n",
      "before:  2022-01-21 17:09:00\n",
      "after:  2022-01-21 18:04:00\n",
      "segment_2\n",
      "before:  2022-01-22 08:04:00\n",
      "after:  2022-01-22 08:44:00\n",
      "segment_2\n",
      "before:  2022-01-23 06:44:00\n",
      "after:  2022-01-23 07:29:00\n",
      "segment_4\n",
      "before:  2022-01-26 17:17:00\n",
      "after:  2022-01-26 17:37:00\n",
      "category is  meal\n",
      "length of root.findall(category) is  1\n"
     ]
    },
    {
     "name": "stderr",
     "output_type": "stream",
     "text": [
      "\\\\dartfs-hpc\\rc\\home\\j\\f007g3j\\ReproducibilityStudy_DL_BGPrediction\\GluNet_Again\\GlucNet_functions.py:35: FutureWarning: 'T' is deprecated and will be removed in a future version, please use 'min' instead.\n",
      "  datetime_list = np.array(pd.date_range(start=min(segments[sequence]['timestamp']), end=max(segments[sequence]['timestamp']), freq='5T').tolist())\n",
      "\\\\dartfs-hpc\\rc\\home\\j\\f007g3j\\ReproducibilityStudy_DL_BGPrediction\\GluNet_Again\\GlucNet_functions.py:48: FutureWarning: 'T' is deprecated and will be removed in a future version, please use 'min' instead.\n",
      "  time_index_interpolated = pd.date_range(start=reference_time, periods=len(interpolated_xs), freq='5T')\n",
      "\\\\dartfs-hpc\\rc\\home\\j\\f007g3j\\ReproducibilityStudy_DL_BGPrediction\\GluNet_Again\\GlucNet_functions.py:430: FutureWarning: Setting an item of incompatible dtype is deprecated and will raise an error in a future version of pandas. Value '60' has dtype incompatible with int64, please explicitly cast to a compatible dtype first.\n",
      "  closest_meal = meal_df.loc[meal_df['time_difference'].idxmin()]\n",
      "\\\\dartfs-hpc\\rc\\home\\j\\f007g3j\\ReproducibilityStudy_DL_BGPrediction\\GluNet_Again\\GlucNet_functions.py:430: FutureWarning: Setting an item of incompatible dtype is deprecated and will raise an error in a future version of pandas. Value '170' has dtype incompatible with int64, please explicitly cast to a compatible dtype first.\n",
      "  closest_meal = meal_df.loc[meal_df['time_difference'].idxmin()]\n"
     ]
    },
    {
     "name": "stdout",
     "output_type": "stream",
     "text": [
      "category is  basal\n",
      "length of root.findall(category) is  1\n"
     ]
    },
    {
     "name": "stderr",
     "output_type": "stream",
     "text": [
      "\\\\dartfs-hpc\\rc\\home\\j\\f007g3j\\ReproducibilityStudy_DL_BGPrediction\\GluNet_Again\\GlucNet_functions.py:430: FutureWarning: Setting an item of incompatible dtype is deprecated and will raise an error in a future version of pandas. Value '150' has dtype incompatible with int64, please explicitly cast to a compatible dtype first.\n",
      "  closest_meal = meal_df.loc[meal_df['time_difference'].idxmin()]\n"
     ]
    },
    {
     "name": "stdout",
     "output_type": "stream",
     "text": [
      "Unequal: begin: 2022-01-17 07:23:45 end: 2022-01-17 07:53:45\n",
      "Unequal: begin: 2022-01-17 12:04:02 end: 2022-01-17 12:34:02\n",
      "Unequal: begin: 2022-01-17 19:45:45 end: 2022-01-17 20:45:45\n",
      "Unequal: begin: 2022-01-18 07:14:27 end: 2022-01-18 07:44:27\n",
      "Unequal: begin: 2022-01-18 12:09:25 end: 2022-01-18 12:39:25\n",
      "Unequal: begin: 2022-01-18 19:06:47 end: 2022-01-18 19:36:47\n",
      "Unequal: begin: 2022-01-19 07:03:53 end: 2022-01-19 07:33:53\n",
      "Unequal: begin: 2022-01-19 11:44:39 end: 2022-01-19 12:14:39\n",
      "Unequal: begin: 2022-01-19 16:43:34 end: 2022-01-19 17:13:34\n",
      "Unequal: begin: 2022-01-19 19:13:28 end: 2022-01-19 19:43:28\n",
      "Unequal: begin: 2022-01-20 07:00:39 end: 2022-01-20 07:30:39\n",
      "Unequal: begin: 2022-01-20 11:57:00 end: 2022-01-20 12:27:00\n",
      "Unequal: begin: 2022-01-20 14:40:03 end: 2022-01-20 15:10:03\n",
      "Unequal: begin: 2022-01-20 18:29:00 end: 2022-01-20 18:59:00\n",
      "Unequal: begin: 2022-01-21 06:12:20 end: 2022-01-21 06:42:20\n",
      "Unequal: begin: 2022-01-21 20:15:04 end: 2022-01-21 21:15:04\n",
      "Unequal: begin: 2022-01-22 09:12:07 end: 2022-01-22 09:42:07\n",
      "Unequal: begin: 2022-01-22 14:27:07 end: 2022-01-22 14:57:07\n",
      "Unequal: begin: 2022-01-22 18:55:27 end: 2022-01-22 19:25:27\n",
      "Unequal: begin: 2022-01-22 21:30:01 end: 2022-01-22 22:00:01\n",
      "Unequal: begin: 2022-01-23 09:15:50 end: 2022-01-23 10:15:50\n",
      "Unequal: begin: 2022-01-23 17:36:38 end: 2022-01-23 18:36:38\n",
      "Unequal: begin: 2022-01-24 06:14:23 end: 2022-01-24 06:44:23\n",
      "Unequal: begin: 2022-01-24 11:53:38 end: 2022-01-24 12:23:38\n",
      "Unequal: begin: 2022-01-24 16:18:45 end: 2022-01-24 16:48:45\n",
      "Unequal: begin: 2022-01-24 19:34:28 end: 2022-01-24 20:04:28\n",
      "Unequal: begin: 2022-01-25 06:17:29 end: 2022-01-25 06:47:29\n",
      "Unequal: begin: 2022-01-25 11:35:56 end: 2022-01-25 12:05:56\n",
      "Unequal: begin: 2022-01-25 16:46:16 end: 2022-01-25 17:16:16\n",
      "Unequal: begin: 2022-01-25 19:11:07 end: 2022-01-25 19:41:07\n",
      "Unequal: begin: 2022-01-26 06:18:50 end: 2022-01-26 06:48:50\n",
      "Unequal: begin: 2022-01-26 11:42:24 end: 2022-01-26 12:42:24\n",
      "Unequal: begin: 2022-01-26 18:29:21 end: 2022-01-26 19:29:21\n"
     ]
    },
    {
     "name": "stderr",
     "output_type": "stream",
     "text": [
      "\\\\dartfs-hpc\\rc\\home\\j\\f007g3j\\ReproducibilityStudy_DL_BGPrediction\\GluNet_Again\\GlucNet_functions.py:321: FutureWarning: Setting an item of incompatible dtype is deprecated and will raise an error in a future version of pandas. Value '8.1' has dtype incompatible with int64, please explicitly cast to a compatible dtype first.\n",
      "  closest_bolus = bolus_df.loc[bolus_df['time_difference'].idxmin()]\n",
      "\\\\dartfs-hpc\\rc\\home\\j\\f007g3j\\ReproducibilityStudy_DL_BGPrediction\\GluNet_Again\\GlucNet_functions.py:321: FutureWarning: Setting an item of incompatible dtype is deprecated and will raise an error in a future version of pandas. Value '9.4' has dtype incompatible with int64, please explicitly cast to a compatible dtype first.\n",
      "  closest_bolus = bolus_df.loc[bolus_df['time_difference'].idxmin()]\n",
      "\\\\dartfs-hpc\\rc\\home\\j\\f007g3j\\ReproducibilityStudy_DL_BGPrediction\\GluNet_Again\\GlucNet_functions.py:321: FutureWarning: Setting an item of incompatible dtype is deprecated and will raise an error in a future version of pandas. Value '3.5' has dtype incompatible with int64, please explicitly cast to a compatible dtype first.\n",
      "  closest_bolus = bolus_df.loc[bolus_df['time_difference'].idxmin()]\n",
      "\\\\dartfs-hpc\\rc\\home\\j\\f007g3j\\ReproducibilityStudy_DL_BGPrediction\\GluNet_Again\\GlucNet_functions.py:321: FutureWarning: Setting an item of incompatible dtype is deprecated and will raise an error in a future version of pandas. Value '10.6' has dtype incompatible with int64, please explicitly cast to a compatible dtype first.\n",
      "  closest_bolus = bolus_df.loc[bolus_df['time_difference'].idxmin()]\n"
     ]
    },
    {
     "name": "stdout",
     "output_type": "stream",
     "text": [
      "len of segment_df is  651\n",
      "len of segment_df is  1550\n",
      "len of segment_df is  69\n",
      "len of segment_df is  515\n",
      "len of features_list 2733\n",
      "RMSE on test set: 17.482348449914237\n",
      "file_dir is  ../OhioT1DM/2018_test\\575-ws-testing.xml\n",
      "category is  glucose_level\n",
      "length of root.findall(category) is  1\n",
      "segment_1\n",
      "before:  2022-01-04 07:00:00\n",
      "after:  2022-01-04 07:30:00\n",
      "segment_2\n",
      "before:  2022-01-05 19:25:00\n",
      "after:  2022-01-05 19:45:00\n",
      "segment_2\n",
      "before:  2022-01-06 07:25:00\n",
      "after:  2022-01-06 08:10:00\n",
      "segment_3\n",
      "before:  2022-01-07 19:35:00\n",
      "after:  2022-01-07 20:05:00\n",
      "segment_3\n",
      "before:  2022-01-08 07:50:00\n",
      "after:  2022-01-08 08:40:00\n",
      "segment_4\n",
      "before:  2022-01-09 06:44:00\n",
      "after:  2022-01-09 07:29:00\n",
      "segment_4\n",
      "before:  2022-01-10 07:14:00\n",
      "after:  2022-01-10 07:29:00\n",
      "category is  meal\n",
      "length of root.findall(category) is  1\n"
     ]
    },
    {
     "name": "stderr",
     "output_type": "stream",
     "text": [
      "\\\\dartfs-hpc\\rc\\home\\j\\f007g3j\\ReproducibilityStudy_DL_BGPrediction\\GluNet_Again\\GlucNet_functions.py:35: FutureWarning: 'T' is deprecated and will be removed in a future version, please use 'min' instead.\n",
      "  datetime_list = np.array(pd.date_range(start=min(segments[sequence]['timestamp']), end=max(segments[sequence]['timestamp']), freq='5T').tolist())\n",
      "\\\\dartfs-hpc\\rc\\home\\j\\f007g3j\\ReproducibilityStudy_DL_BGPrediction\\GluNet_Again\\GlucNet_functions.py:48: FutureWarning: 'T' is deprecated and will be removed in a future version, please use 'min' instead.\n",
      "  time_index_interpolated = pd.date_range(start=reference_time, periods=len(interpolated_xs), freq='5T')\n",
      "\\\\dartfs-hpc\\rc\\home\\j\\f007g3j\\ReproducibilityStudy_DL_BGPrediction\\GluNet_Again\\GlucNet_functions.py:430: FutureWarning: Setting an item of incompatible dtype is deprecated and will raise an error in a future version of pandas. Value '40' has dtype incompatible with int64, please explicitly cast to a compatible dtype first.\n",
      "  closest_meal = meal_df.loc[meal_df['time_difference'].idxmin()]\n",
      "\\\\dartfs-hpc\\rc\\home\\j\\f007g3j\\ReproducibilityStudy_DL_BGPrediction\\GluNet_Again\\GlucNet_functions.py:430: FutureWarning: Setting an item of incompatible dtype is deprecated and will raise an error in a future version of pandas. Value '23' has dtype incompatible with int64, please explicitly cast to a compatible dtype first.\n",
      "  closest_meal = meal_df.loc[meal_df['time_difference'].idxmin()]\n",
      "\\\\dartfs-hpc\\rc\\home\\j\\f007g3j\\ReproducibilityStudy_DL_BGPrediction\\GluNet_Again\\GlucNet_functions.py:430: FutureWarning: Setting an item of incompatible dtype is deprecated and will raise an error in a future version of pandas. Value '170' has dtype incompatible with int64, please explicitly cast to a compatible dtype first.\n",
      "  closest_meal = meal_df.loc[meal_df['time_difference'].idxmin()]\n",
      "\\\\dartfs-hpc\\rc\\home\\j\\f007g3j\\ReproducibilityStudy_DL_BGPrediction\\GluNet_Again\\GlucNet_functions.py:430: FutureWarning: Setting an item of incompatible dtype is deprecated and will raise an error in a future version of pandas. Value '13' has dtype incompatible with int64, please explicitly cast to a compatible dtype first.\n",
      "  closest_meal = meal_df.loc[meal_df['time_difference'].idxmin()]\n"
     ]
    },
    {
     "name": "stdout",
     "output_type": "stream",
     "text": [
      "category is  basal\n",
      "length of root.findall(category) is  1\n"
     ]
    },
    {
     "name": "stderr",
     "output_type": "stream",
     "text": [
      "\\\\dartfs-hpc\\rc\\home\\j\\f007g3j\\ReproducibilityStudy_DL_BGPrediction\\GluNet_Again\\GlucNet_functions.py:321: FutureWarning: Setting an item of incompatible dtype is deprecated and will raise an error in a future version of pandas. Value '0.9' has dtype incompatible with int64, please explicitly cast to a compatible dtype first.\n",
      "  closest_bolus = bolus_df.loc[bolus_df['time_difference'].idxmin()]\n",
      "\\\\dartfs-hpc\\rc\\home\\j\\f007g3j\\ReproducibilityStudy_DL_BGPrediction\\GluNet_Again\\GlucNet_functions.py:321: FutureWarning: Setting an item of incompatible dtype is deprecated and will raise an error in a future version of pandas. Value '4.8' has dtype incompatible with int64, please explicitly cast to a compatible dtype first.\n",
      "  closest_bolus = bolus_df.loc[bolus_df['time_difference'].idxmin()]\n",
      "\\\\dartfs-hpc\\rc\\home\\j\\f007g3j\\ReproducibilityStudy_DL_BGPrediction\\GluNet_Again\\GlucNet_functions.py:321: FutureWarning: Setting an item of incompatible dtype is deprecated and will raise an error in a future version of pandas. Value '0.9' has dtype incompatible with int64, please explicitly cast to a compatible dtype first.\n",
      "  closest_bolus = bolus_df.loc[bolus_df['time_difference'].idxmin()]\n",
      "\\\\dartfs-hpc\\rc\\home\\j\\f007g3j\\ReproducibilityStudy_DL_BGPrediction\\GluNet_Again\\GlucNet_functions.py:321: FutureWarning: Setting an item of incompatible dtype is deprecated and will raise an error in a future version of pandas. Value '11.8' has dtype incompatible with int64, please explicitly cast to a compatible dtype first.\n",
      "  closest_bolus = bolus_df.loc[bolus_df['time_difference'].idxmin()]\n"
     ]
    },
    {
     "name": "stdout",
     "output_type": "stream",
     "text": [
      "len of segment_df is  808\n",
      "len of segment_df is  760\n",
      "len of segment_df is  240\n",
      "len of segment_df is  822\n",
      "len of features_list 2578\n",
      "RMSE on test set: 22.73428774682569\n",
      "file_dir is  ../OhioT1DM/2018_test\\588-ws-testing.xml\n",
      "category is  glucose_level\n",
      "length of root.findall(category) is  1\n",
      "category is  meal\n",
      "length of root.findall(category) is  1\n"
     ]
    },
    {
     "name": "stderr",
     "output_type": "stream",
     "text": [
      "\\\\dartfs-hpc\\rc\\home\\j\\f007g3j\\ReproducibilityStudy_DL_BGPrediction\\GluNet_Again\\GlucNet_functions.py:430: FutureWarning: Setting an item of incompatible dtype is deprecated and will raise an error in a future version of pandas. Value '15' has dtype incompatible with int64, please explicitly cast to a compatible dtype first.\n",
      "  closest_meal = meal_df.loc[meal_df['time_difference'].idxmin()]\n",
      "\\\\dartfs-hpc\\rc\\home\\j\\f007g3j\\ReproducibilityStudy_DL_BGPrediction\\GluNet_Again\\GlucNet_functions.py:430: FutureWarning: Setting an item of incompatible dtype is deprecated and will raise an error in a future version of pandas. Value '50' has dtype incompatible with int64, please explicitly cast to a compatible dtype first.\n",
      "  closest_meal = meal_df.loc[meal_df['time_difference'].idxmin()]\n",
      "\\\\dartfs-hpc\\rc\\home\\j\\f007g3j\\ReproducibilityStudy_DL_BGPrediction\\GluNet_Again\\GlucNet_functions.py:430: FutureWarning: Setting an item of incompatible dtype is deprecated and will raise an error in a future version of pandas. Value '40' has dtype incompatible with int64, please explicitly cast to a compatible dtype first.\n",
      "  closest_meal = meal_df.loc[meal_df['time_difference'].idxmin()]\n"
     ]
    },
    {
     "name": "stdout",
     "output_type": "stream",
     "text": [
      "category is  basal\n",
      "length of root.findall(category) is  1\n"
     ]
    },
    {
     "name": "stderr",
     "output_type": "stream",
     "text": [
      "\\\\dartfs-hpc\\rc\\home\\j\\f007g3j\\ReproducibilityStudy_DL_BGPrediction\\GluNet_Again\\GlucNet_functions.py:321: FutureWarning: Setting an item of incompatible dtype is deprecated and will raise an error in a future version of pandas. Value '1.7' has dtype incompatible with int64, please explicitly cast to a compatible dtype first.\n",
      "  closest_bolus = bolus_df.loc[bolus_df['time_difference'].idxmin()]\n",
      "\\\\dartfs-hpc\\rc\\home\\j\\f007g3j\\ReproducibilityStudy_DL_BGPrediction\\GluNet_Again\\GlucNet_functions.py:321: FutureWarning: Setting an item of incompatible dtype is deprecated and will raise an error in a future version of pandas. Value '0.9' has dtype incompatible with int64, please explicitly cast to a compatible dtype first.\n",
      "  closest_bolus = bolus_df.loc[bolus_df['time_difference'].idxmin()]\n",
      "\\\\dartfs-hpc\\rc\\home\\j\\f007g3j\\ReproducibilityStudy_DL_BGPrediction\\GluNet_Again\\GlucNet_functions.py:321: FutureWarning: Setting an item of incompatible dtype is deprecated and will raise an error in a future version of pandas. Value '6.6' has dtype incompatible with int64, please explicitly cast to a compatible dtype first.\n",
      "  closest_bolus = bolus_df.loc[bolus_df['time_difference'].idxmin()]\n"
     ]
    },
    {
     "name": "stdout",
     "output_type": "stream",
     "text": [
      "len of segment_df is  401\n",
      "len of segment_df is  1649\n",
      "len of segment_df is  741\n",
      "len of features_list 2752\n",
      "RMSE on test set: 19.791423381180167\n",
      "file_dir is  ../OhioT1DM/2018_test\\591-ws-testing.xml\n",
      "category is  glucose_level\n",
      "length of root.findall(category) is  1\n",
      "segment_2\n",
      "before:  2022-01-20 05:29:00\n",
      "after:  2022-01-20 05:44:00\n",
      "segment_2\n",
      "before:  2022-01-20 17:29:00\n",
      "after:  2022-01-20 17:49:00\n"
     ]
    },
    {
     "name": "stderr",
     "output_type": "stream",
     "text": [
      "\\\\dartfs-hpc\\rc\\home\\j\\f007g3j\\ReproducibilityStudy_DL_BGPrediction\\GluNet_Again\\GlucNet_functions.py:35: FutureWarning: 'T' is deprecated and will be removed in a future version, please use 'min' instead.\n",
      "  datetime_list = np.array(pd.date_range(start=min(segments[sequence]['timestamp']), end=max(segments[sequence]['timestamp']), freq='5T').tolist())\n",
      "\\\\dartfs-hpc\\rc\\home\\j\\f007g3j\\ReproducibilityStudy_DL_BGPrediction\\GluNet_Again\\GlucNet_functions.py:48: FutureWarning: 'T' is deprecated and will be removed in a future version, please use 'min' instead.\n",
      "  time_index_interpolated = pd.date_range(start=reference_time, periods=len(interpolated_xs), freq='5T')\n"
     ]
    },
    {
     "name": "stdout",
     "output_type": "stream",
     "text": [
      "category is  meal\n",
      "length of root.findall(category) is  1\n"
     ]
    },
    {
     "name": "stderr",
     "output_type": "stream",
     "text": [
      "\\\\dartfs-hpc\\rc\\home\\j\\f007g3j\\ReproducibilityStudy_DL_BGPrediction\\GluNet_Again\\GlucNet_functions.py:430: FutureWarning: Setting an item of incompatible dtype is deprecated and will raise an error in a future version of pandas. Value '32' has dtype incompatible with int64, please explicitly cast to a compatible dtype first.\n",
      "  closest_meal = meal_df.loc[meal_df['time_difference'].idxmin()]\n",
      "\\\\dartfs-hpc\\rc\\home\\j\\f007g3j\\ReproducibilityStudy_DL_BGPrediction\\GluNet_Again\\GlucNet_functions.py:430: FutureWarning: Setting an item of incompatible dtype is deprecated and will raise an error in a future version of pandas. Value '57' has dtype incompatible with int64, please explicitly cast to a compatible dtype first.\n",
      "  closest_meal = meal_df.loc[meal_df['time_difference'].idxmin()]\n",
      "\\\\dartfs-hpc\\rc\\home\\j\\f007g3j\\ReproducibilityStudy_DL_BGPrediction\\GluNet_Again\\GlucNet_functions.py:430: FutureWarning: Setting an item of incompatible dtype is deprecated and will raise an error in a future version of pandas. Value '41' has dtype incompatible with int64, please explicitly cast to a compatible dtype first.\n",
      "  closest_meal = meal_df.loc[meal_df['time_difference'].idxmin()]\n"
     ]
    },
    {
     "name": "stdout",
     "output_type": "stream",
     "text": [
      "category is  basal\n",
      "length of root.findall(category) is  1\n"
     ]
    },
    {
     "name": "stderr",
     "output_type": "stream",
     "text": [
      "\\\\dartfs-hpc\\rc\\home\\j\\f007g3j\\ReproducibilityStudy_DL_BGPrediction\\GluNet_Again\\GlucNet_functions.py:321: FutureWarning: Setting an item of incompatible dtype is deprecated and will raise an error in a future version of pandas. Value '3.0' has dtype incompatible with int64, please explicitly cast to a compatible dtype first.\n",
      "  closest_bolus = bolus_df.loc[bolus_df['time_difference'].idxmin()]\n",
      "\\\\dartfs-hpc\\rc\\home\\j\\f007g3j\\ReproducibilityStudy_DL_BGPrediction\\GluNet_Again\\GlucNet_functions.py:321: FutureWarning: Setting an item of incompatible dtype is deprecated and will raise an error in a future version of pandas. Value '5.0' has dtype incompatible with int64, please explicitly cast to a compatible dtype first.\n",
      "  closest_bolus = bolus_df.loc[bolus_df['time_difference'].idxmin()]\n",
      "\\\\dartfs-hpc\\rc\\home\\j\\f007g3j\\ReproducibilityStudy_DL_BGPrediction\\GluNet_Again\\GlucNet_functions.py:321: FutureWarning: Setting an item of incompatible dtype is deprecated and will raise an error in a future version of pandas. Value '5.5' has dtype incompatible with int64, please explicitly cast to a compatible dtype first.\n",
      "  closest_bolus = bolus_df.loc[bolus_df['time_difference'].idxmin()]\n"
     ]
    },
    {
     "name": "stdout",
     "output_type": "stream",
     "text": [
      "len of segment_df is  388\n",
      "len of segment_df is  1536\n",
      "len of segment_df is  841\n",
      "len of features_list 2726\n",
      "RMSE on test set: 22.01171077805978\n"
     ]
    }
   ],
   "source": [
    "import glob\n",
    "\n",
    "\n",
    "\n",
    "\n",
    "preds = []\n",
    "trues = []\n",
    "errors = []\n",
    "fname = []\n",
    "HISTORY = 7\n",
    "\n",
    "for file in glob.glob(\"../OhioT1DM/2018_test/*.xml\"):\n",
    "    test_filename = file\n",
    "    test_loader = prepare_dataset_test_dataset(test_filename, HISTORY)\n",
    "    # Verify the content\n",
    "    # Calculate RMSE on test set\n",
    "    model.eval()\n",
    "    predictions = []\n",
    "    actuals = []\n",
    "    with torch.no_grad():\n",
    "        for inputs, targets in test_loader:\n",
    "            outputs = model(inputs.permute(0, 2, 1))\n",
    "            predictions.append(outputs)\n",
    "            actuals.append(targets)\n",
    "            \n",
    "    predictions = torch.cat(predictions).cpu().numpy()\n",
    "    actuals = torch.cat(actuals).cpu().numpy()\n",
    "\n",
    "    rmse = np.sqrt(mean_squared_error(actuals,predictions))\n",
    "    print(f'RMSE on test set: {rmse}')\n",
    "\n",
    "\n",
    "\n",
    "    preds.append(predictions)\n",
    "    trues.append(actuals)\n",
    "    errors.append(rmse)\n",
    "    fname.append(test_filename.split('-ws')[0][-3:])\n"
   ]
  },
  {
   "cell_type": "code",
   "execution_count": 102,
   "metadata": {},
   "outputs": [
    {
     "data": {
      "text/html": [
       "<div>\n",
       "<style scoped>\n",
       "    .dataframe tbody tr th:only-of-type {\n",
       "        vertical-align: middle;\n",
       "    }\n",
       "\n",
       "    .dataframe tbody tr th {\n",
       "        vertical-align: top;\n",
       "    }\n",
       "\n",
       "    .dataframe thead th {\n",
       "        text-align: right;\n",
       "    }\n",
       "</style>\n",
       "<table border=\"1\" class=\"dataframe\">\n",
       "  <thead>\n",
       "    <tr style=\"text-align: right;\">\n",
       "      <th></th>\n",
       "      <th>fname</th>\n",
       "      <th>rmse</th>\n",
       "    </tr>\n",
       "  </thead>\n",
       "  <tbody>\n",
       "    <tr>\n",
       "      <th>0</th>\n",
       "      <td>559</td>\n",
       "      <td>20.691586</td>\n",
       "    </tr>\n",
       "    <tr>\n",
       "      <th>1</th>\n",
       "      <td>563</td>\n",
       "      <td>19.337960</td>\n",
       "    </tr>\n",
       "    <tr>\n",
       "      <th>2</th>\n",
       "      <td>570</td>\n",
       "      <td>17.482348</td>\n",
       "    </tr>\n",
       "    <tr>\n",
       "      <th>3</th>\n",
       "      <td>575</td>\n",
       "      <td>22.734288</td>\n",
       "    </tr>\n",
       "    <tr>\n",
       "      <th>4</th>\n",
       "      <td>588</td>\n",
       "      <td>19.791423</td>\n",
       "    </tr>\n",
       "    <tr>\n",
       "      <th>5</th>\n",
       "      <td>591</td>\n",
       "      <td>22.011711</td>\n",
       "    </tr>\n",
       "  </tbody>\n",
       "</table>\n",
       "</div>"
      ],
      "text/plain": [
       "  fname       rmse\n",
       "0   559  20.691586\n",
       "1   563  19.337960\n",
       "2   570  17.482348\n",
       "3   575  22.734288\n",
       "4   588  19.791423\n",
       "5   591  22.011711"
      ]
     },
     "execution_count": 102,
     "metadata": {},
     "output_type": "execute_result"
    }
   ],
   "source": [
    "curr_dat = pd.DataFrame({'fname': fname, 'rmse': errors})\n",
    "curr_dat"
   ]
  },
  {
   "cell_type": "code",
   "execution_count": null,
   "metadata": {},
   "outputs": [],
   "source": [
    "curr_dat = pd.DataFrame({'fname': fname, 'rmse': errors})\n",
    "curr_dat.to_csv(f'wavenet_ph_{PH}_{file_num}.csv', index=False)"
   ]
  },
  {
   "cell_type": "code",
   "execution_count": 103,
   "metadata": {},
   "outputs": [],
   "source": [
    "# print curr_dat without the index\n",
    "# make it copy pasteable into an excel \n",
    "curr_dat.to_clipboard(index=False, header=False)"
   ]
  },
  {
   "cell_type": "code",
   "execution_count": null,
   "metadata": {},
   "outputs": [
    {
     "data": {
      "text/html": [
       "<div>\n",
       "<style scoped>\n",
       "    .dataframe tbody tr th:only-of-type {\n",
       "        vertical-align: middle;\n",
       "    }\n",
       "\n",
       "    .dataframe tbody tr th {\n",
       "        vertical-align: top;\n",
       "    }\n",
       "\n",
       "    .dataframe thead th {\n",
       "        text-align: right;\n",
       "    }\n",
       "</style>\n",
       "<table border=\"1\" class=\"dataframe\">\n",
       "  <thead>\n",
       "    <tr style=\"text-align: right;\">\n",
       "      <th></th>\n",
       "      <th>fname</th>\n",
       "      <th>rmse</th>\n",
       "    </tr>\n",
       "  </thead>\n",
       "  <tbody>\n",
       "    <tr>\n",
       "      <th>0</th>\n",
       "      <td>559</td>\n",
       "      <td>34.685474</td>\n",
       "    </tr>\n",
       "    <tr>\n",
       "      <th>1</th>\n",
       "      <td>563</td>\n",
       "      <td>31.599613</td>\n",
       "    </tr>\n",
       "    <tr>\n",
       "      <th>2</th>\n",
       "      <td>570</td>\n",
       "      <td>29.892048</td>\n",
       "    </tr>\n",
       "    <tr>\n",
       "      <th>3</th>\n",
       "      <td>575</td>\n",
       "      <td>37.283928</td>\n",
       "    </tr>\n",
       "    <tr>\n",
       "      <th>4</th>\n",
       "      <td>588</td>\n",
       "      <td>38.189610</td>\n",
       "    </tr>\n",
       "    <tr>\n",
       "      <th>5</th>\n",
       "      <td>591</td>\n",
       "      <td>36.195969</td>\n",
       "    </tr>\n",
       "  </tbody>\n",
       "</table>\n",
       "</div>"
      ],
      "text/plain": [
       "  fname       rmse\n",
       "0   559  34.685474\n",
       "1   563  31.599613\n",
       "2   570  29.892048\n",
       "3   575  37.283928\n",
       "4   588  38.189610\n",
       "5   591  36.195969"
      ]
     },
     "execution_count": 38,
     "metadata": {},
     "output_type": "execute_result"
    }
   ],
   "source": [
    "curr_dat"
   ]
  },
  {
   "cell_type": "code",
   "execution_count": null,
   "metadata": {},
   "outputs": [
    {
     "data": {
      "text/plain": [
       "<matplotlib.legend.Legend at 0x251f6c97950>"
      ]
     },
     "execution_count": 30,
     "metadata": {},
     "output_type": "execute_result"
    },
    {
     "data": {
      "image/png": "[encoded data removed]",
      "text/plain": [
       "<Figure size 1200x600 with 1 Axes>"
      ]
     },
     "metadata": {},
     "output_type": "display_data"
    }
   ],
   "source": [
    "# plot the prediction\n",
    "plt.figure(figsize=(12, 6))\n",
    "plt.plot(trues[0][:100], label='Actual')\n",
    "plt.plot(preds[0][:100], label='Predicted')\n",
    "plt.legend()\n",
    "\n"
   ]
  },
  {
   "cell_type": "code",
   "execution_count": null,
   "metadata": {},
   "outputs": [
    {
     "data": {
      "text/html": [
       "<div>\n",
       "<style scoped>\n",
       "    .dataframe tbody tr th:only-of-type {\n",
       "        vertical-align: middle;\n",
       "    }\n",
       "\n",
       "    .dataframe tbody tr th {\n",
       "        vertical-align: top;\n",
       "    }\n",
       "\n",
       "    .dataframe thead th {\n",
       "        text-align: right;\n",
       "    }\n",
       "</style>\n",
       "<table border=\"1\" class=\"dataframe\">\n",
       "  <thead>\n",
       "    <tr style=\"text-align: right;\">\n",
       "      <th>trained on</th>\n",
       "      <th>559</th>\n",
       "      <th>563</th>\n",
       "      <th>570</th>\n",
       "      <th>575</th>\n",
       "      <th>588</th>\n",
       "      <th>591</th>\n",
       "      <th>all</th>\n",
       "    </tr>\n",
       "    <tr>\n",
       "      <th>fname</th>\n",
       "      <th></th>\n",
       "      <th></th>\n",
       "      <th></th>\n",
       "      <th></th>\n",
       "      <th></th>\n",
       "      <th></th>\n",
       "      <th></th>\n",
       "    </tr>\n",
       "  </thead>\n",
       "  <tbody>\n",
       "    <tr>\n",
       "      <th>559</th>\n",
       "      <td>36.410465</td>\n",
       "      <td>35.225582</td>\n",
       "      <td>33.402462</td>\n",
       "      <td>38.371143</td>\n",
       "      <td>39.093662</td>\n",
       "      <td>39.255234</td>\n",
       "      <td>34.685474</td>\n",
       "    </tr>\n",
       "    <tr>\n",
       "      <th>563</th>\n",
       "      <td>40.276314</td>\n",
       "      <td>33.883686</td>\n",
       "      <td>30.473051</td>\n",
       "      <td>47.027763</td>\n",
       "      <td>39.698074</td>\n",
       "      <td>42.574295</td>\n",
       "      <td>31.599613</td>\n",
       "    </tr>\n",
       "    <tr>\n",
       "      <th>570</th>\n",
       "      <td>40.084854</td>\n",
       "      <td>38.631165</td>\n",
       "      <td>27.280270</td>\n",
       "      <td>42.094067</td>\n",
       "      <td>38.522625</td>\n",
       "      <td>52.839590</td>\n",
       "      <td>29.892048</td>\n",
       "    </tr>\n",
       "    <tr>\n",
       "      <th>575</th>\n",
       "      <td>40.853190</td>\n",
       "      <td>38.751957</td>\n",
       "      <td>36.972176</td>\n",
       "      <td>39.794506</td>\n",
       "      <td>38.433556</td>\n",
       "      <td>44.562910</td>\n",
       "      <td>37.283928</td>\n",
       "    </tr>\n",
       "    <tr>\n",
       "      <th>588</th>\n",
       "      <td>37.908150</td>\n",
       "      <td>34.175060</td>\n",
       "      <td>32.602142</td>\n",
       "      <td>39.382870</td>\n",
       "      <td>33.703064</td>\n",
       "      <td>38.442844</td>\n",
       "      <td>38.189610</td>\n",
       "    </tr>\n",
       "    <tr>\n",
       "      <th>591</th>\n",
       "      <td>42.047100</td>\n",
       "      <td>37.478480</td>\n",
       "      <td>36.900790</td>\n",
       "      <td>38.473194</td>\n",
       "      <td>39.823467</td>\n",
       "      <td>37.858353</td>\n",
       "      <td>36.195970</td>\n",
       "    </tr>\n",
       "  </tbody>\n",
       "</table>\n",
       "</div>"
      ],
      "text/plain": [
       "trained on        559        563        570        575        588        591  \\\n",
       "fname                                                                          \n",
       "559         36.410465  35.225582  33.402462  38.371143  39.093662  39.255234   \n",
       "563         40.276314  33.883686  30.473051  47.027763  39.698074  42.574295   \n",
       "570         40.084854  38.631165  27.280270  42.094067  38.522625  52.839590   \n",
       "575         40.853190  38.751957  36.972176  39.794506  38.433556  44.562910   \n",
       "588         37.908150  34.175060  32.602142  39.382870  33.703064  38.442844   \n",
       "591         42.047100  37.478480  36.900790  38.473194  39.823467  37.858353   \n",
       "\n",
       "trained on        all  \n",
       "fname                  \n",
       "559         34.685474  \n",
       "563         31.599613  \n",
       "570         29.892048  \n",
       "575         37.283928  \n",
       "588         38.189610  \n",
       "591         36.195970  "
      ]
     },
     "execution_count": 31,
     "metadata": {},
     "output_type": "execute_result"
    }
   ],
   "source": [
    "# load all the data from the csv files\n",
    "df_list = []\n",
    "for file in glob.glob('./wavenet_ph_12*.csv'):\n",
    "    temp = pd.read_csv(file)\n",
    "    temp['trained on'] = file.split('_')[-1].split('.')[0]\n",
    "    df_list.append(temp)\n",
    "# combine all the data into one dataframe\n",
    "\n",
    "df = pd.concat(df_list)\n",
    "# pivot on trained on \n",
    "df = df.pivot(index='fname', columns='trained on', values='rmse') \n",
    "df"
   ]
  },
  {
   "cell_type": "code",
   "execution_count": null,
   "metadata": {},
   "outputs": [
    {
     "data": {
      "text/plain": [
       "39.596678833333335"
      ]
     },
     "execution_count": 32,
     "metadata": {},
     "output_type": "execute_result"
    }
   ],
   "source": [
    "# get the average of the columns\n",
    "df['mean'] = df.mean(axis=0)\n",
    "\n",
    "df['559'].mean()"
   ]
  }
 ],
 "metadata": {
  "kernelspec": {
   "display_name": "ML",
   "language": "python",
   "name": "python3"
  },
  "language_info": {
   "codemirror_mode": {
    "name": "ipython",
    "version": 3
   },
   "file_extension": ".py",
   "mimetype": "text/x-python",
   "name": "python",
   "nbconvert_exporter": "python",
   "pygments_lexer": "ipython3",
   "version": "3.9.21"
  }
 },
 "nbformat": 4,
 "nbformat_minor": 2
}
