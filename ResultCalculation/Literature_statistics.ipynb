{
 "cells": [
  {
   "cell_type": "markdown",
   "metadata": {},
   "source": []
  },
  {
   "cell_type": "code",
   "execution_count": 1,
   "metadata": {},
   "outputs": [
    {
     "name": "stdout",
     "output_type": "stream",
     "text": [
      "Index(['Paper', 'Link', 'Code Available', 'Public Dataset',\n",
      "       'Multiple Datasets', 'Dataset Distribution included',\n",
      "       'Sample size for Evaluation ', 'Hyperparameters Reported',\n",
      "       'Report hyperparameter turning', 'Evaluation metric reported',\n",
      "       'Prediction horizon', 'Sampling horizon', 'Baseline included',\n",
      "       'Variance Reported', 'other lifestyle factors'],\n",
      "      dtype='object')\n"
     ]
    }
   ],
   "source": [
    "import pandas as pd\n",
    "\n",
    "literature = pd.read_csv('literature.csv')\n",
    "columns = literature.columns\n",
    "print(columns)"
   ]
  },
  {
   "cell_type": "code",
   "execution_count": 3,
   "metadata": {},
   "outputs": [
    {
     "name": "stdout",
     "output_type": "stream",
     "text": [
      "Code Available\n",
      "No                                        42\n",
      "Yes                                       11\n",
      "Yes? (had the link, but it is invalid)     1\n",
      "Name: count, dtype: int64\n"
     ]
    }
   ],
   "source": [
    "# Specify the column name\n",
    "column_name = 'Code Available'\n",
    "\n",
    "# Print the count of different types of values in the specified column\n",
    "value_counts = literature[column_name].value_counts()\n",
    "print(value_counts)"
   ]
  },
  {
   "cell_type": "code",
   "execution_count": 5,
   "metadata": {},
   "outputs": [
    {
     "name": "stdout",
     "output_type": "stream",
     "text": [
      "Number of rows with 'OhioT1DM': 28\n",
      "Number of rows without 'OhioT1DM': 26\n"
     ]
    }
   ],
   "source": [
    "# Count the number of rows with \"OhioT1DM\" in the \"Public Dataset\" column\n",
    "ohio_count = literature[literature['Public Dataset'].str.contains('OhioT1DM', na=False)].shape[0]\n",
    "\n",
    "# Count the number of rows without \"OhioT1DM\" in the \"Public Dataset\" column\n",
    "not_ohio_count = literature[~literature['Public Dataset'].str.contains('OhioT1DM', na=False)].shape[0]\n",
    "\n",
    "print(f\"Number of rows with 'OhioT1DM': {ohio_count}\")\n",
    "print(f\"Number of rows without 'OhioT1DM': {not_ohio_count}\")"
   ]
  },
  {
   "cell_type": "code",
   "execution_count": 6,
   "metadata": {},
   "outputs": [
    {
     "name": "stdout",
     "output_type": "stream",
     "text": [
      "Number of rows with 'OhioT1DM': 39\n",
      "Number of rows without 'OhioT1DM': 12\n"
     ]
    }
   ],
   "source": [
    "# Count the number of rows with \"OhioT1DM\" in the \"Public Dataset\" column\n",
    "Yes_count = literature[literature['Public Dataset'].str.contains('Yes', na=False)].shape[0]\n",
    "Y_count = literature[literature['Public Dataset'].str.contains('Y,', na=False)].shape[0]\n",
    "all_yes_count = Yes_count + Y_count\n",
    "\n",
    "\n",
    "# Count the number of rows without \"OhioT1DM\" in the \"Public Dataset\" column\n",
    "No_count = literature[literature['Public Dataset'].str.contains('No', na=False)].shape[0]\n",
    "# Count the number of rows without \"OhioT1DM\" in the \"Public Dataset\" column\n",
    "N_count = literature[literature['Public Dataset'].str.contains('N,', na=False)].shape[0]\n",
    "all_no_count = No_count + N_count\n",
    "\n",
    "print(f\"Number of rows with 'OhioT1DM': {all_yes_count}\")\n",
    "print(f\"Number of rows without 'OhioT1DM': {all_no_count}\")"
   ]
  },
  {
   "cell_type": "code",
   "execution_count": null,
   "metadata": {},
   "outputs": [],
   "source": []
  }
 ],
 "metadata": {
  "kernelspec": {
   "display_name": "Python 3",
   "language": "python",
   "name": "python3"
  },
  "language_info": {
   "codemirror_mode": {
    "name": "ipython",
    "version": 3
   },
   "file_extension": ".py",
   "mimetype": "text/x-python",
   "name": "python",
   "nbconvert_exporter": "python",
   "pygments_lexer": "ipython3",
   "version": "3.9.6"
  }
 },
 "nbformat": 4,
 "nbformat_minor": 2
}
