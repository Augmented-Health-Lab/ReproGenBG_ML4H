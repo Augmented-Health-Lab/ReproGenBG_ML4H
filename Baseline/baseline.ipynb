{
 "cells": [
  {
   "cell_type": "code",
   "execution_count": 1,
   "metadata": {
    "colab": {
     "base_uri": "https://localhost:8080/"
    },
    "executionInfo": {
     "elapsed": 16628,
     "status": "ok",
     "timestamp": 1739896914042,
     "user": {
      "displayName": "Yanjun Cui",
      "userId": "10928157657240567222"
     },
     "user_tz": 300
    },
    "id": "2XkNwUhv5pXX",
    "outputId": "e2795271-bfc1-42e5-96e1-c20001587c06"
   },
   "outputs": [
    {
     "name": "stdout",
     "output_type": "stream",
     "text": [
      "Mounted at /content/drive\n"
     ]
    }
   ],
   "source": [
    "from google.colab import drive\n",
    "drive.mount('/content/drive')"
   ]
  },
  {
   "cell_type": "code",
   "execution_count": 2,
   "metadata": {
    "executionInfo": {
     "elapsed": 1586,
     "status": "ok",
     "timestamp": 1739896915625,
     "user": {
      "displayName": "Yanjun Cui",
      "userId": "10928157657240567222"
     },
     "user_tz": 300
    },
    "id": "eSIVX0BSn7_V"
   },
   "outputs": [],
   "source": [
    "import numpy as np\n",
    "import pandas as pd\n",
    "import copy\n",
    "import matplotlib.pyplot as plt\n",
    "from datetime import datetime, timedelta\n",
    "import os\n",
    "pd.set_option('display.max_columns', None)\n",
    "import pickle"
   ]
  },
  {
   "cell_type": "code",
   "execution_count": 3,
   "metadata": {
    "executionInfo": {
     "elapsed": 4197,
     "status": "ok",
     "timestamp": 1739896919818,
     "user": {
      "displayName": "Yanjun Cui",
      "userId": "10928157657240567222"
     },
     "user_tz": 300
    },
    "id": "uU1t3UsbrbN2"
   },
   "outputs": [],
   "source": [
    "from sklearn.metrics import classification_report\n",
    "from sklearn.metrics import accuracy_score\n",
    "from sklearn.metrics import roc_auc_score\n",
    "from sklearn.metrics import f1_score\n",
    "from sklearn.metrics import precision_score\n",
    "from sklearn.metrics import recall_score # sensitivity\n",
    "from sklearn.metrics import confusion_matrix"
   ]
  },
  {
   "cell_type": "markdown",
   "metadata": {
    "id": "DYe5eaVuwqP6"
   },
   "source": [
    "# T1DEXI"
   ]
  },
  {
   "cell_type": "markdown",
   "metadata": {
    "id": "2hq_XHWpT71M"
   },
   "source": [
    "## data preprocess"
   ]
  },
  {
   "cell_type": "code",
   "execution_count": null,
   "metadata": {
    "id": "po9jXtlzTlYl"
   },
   "outputs": [],
   "source": [
    "def convert_to_datetime(date_str):\n",
    "  try:\n",
    "    return pd.to_datetime(date_str)\n",
    "  except ValueError:\n",
    "    return pd.to_datetime(date_str + ' 00:00:00')"
   ]
  },
  {
   "cell_type": "code",
   "execution_count": null,
   "metadata": {
    "colab": {
     "base_uri": "https://localhost:8080/",
     "height": 435
    },
    "executionInfo": {
     "elapsed": 861,
     "status": "ok",
     "timestamp": 1733427374824,
     "user": {
      "displayName": "PI DigitalSMD",
      "userId": "16790990030515584217"
     },
     "user_tz": 300
    },
    "id": "is8KnpjAwtYt",
    "outputId": "51097210-a1fb-42f0-ca96-17ae591f105d"
   },
   "outputs": [],
   "source": [
    "df = pd.read_csv('../../datasets/t1dexi_subsetcgm_valid.csv')\n",
    "print(df.shape)\n",
    "df.head(5)"
   ]
  },
  {
   "cell_type": "code",
   "execution_count": null,
   "metadata": {
    "colab": {
     "base_uri": "https://localhost:8080/",
     "height": 242
    },
    "executionInfo": {
     "elapsed": 3,
     "status": "ok",
     "timestamp": 1733427375105,
     "user": {
      "displayName": "PI DigitalSMD",
      "userId": "16790990030515584217"
     },
     "user_tz": 300
    },
    "id": "cYFJWDY4Dae9",
    "outputId": "0119f81c-0bf5-4114-a1c1-651d861e8151"
   },
   "outputs": [],
   "source": [
    "print(len(pd.unique(df['USUBJID'])))\n",
    "df = df[df['LBTESTCD'] == 'GLUC']\n",
    "df = df[['USUBJID', 'LBORRES', 'LBDTC']]\n",
    "print(df.shape)\n",
    "df.head(5)"
   ]
  },
  {
   "cell_type": "code",
   "execution_count": null,
   "metadata": {
    "id": "bjiHVmVmUR4i"
   },
   "outputs": [],
   "source": [
    "def daily_filter(df):\n",
    "  # print('func1', df.shape)\n",
    "  samples_per_day = df.groupby(df['LBDTC'].dt.date).size()\n",
    "  dates_with_350_plus_records = samples_per_day[samples_per_day > 350]\n",
    "  df = df[~df['LBDTC'].dt.date.isin(dates_with_350_plus_records.index)]\n",
    "  # print('func1', df.shape)\n",
    "  return df"
   ]
  },
  {
   "cell_type": "code",
   "execution_count": null,
   "metadata": {
    "id": "LaCFkM92UR4j"
   },
   "outputs": [],
   "source": [
    "def BG_value_filter(df):\n",
    "  # print(df.shape)\n",
    "  time_diffs = df['LBDTC'].diff().dt.total_seconds() / 60  # Difference in minutes\n",
    "  df.insert(len(df.columns), 'time_diffs', time_diffs)\n",
    "\n",
    "  # rows_to_remove = df[(time_diffs >= 0) & (time_diffs <= .5)]\n",
    "  # print(rows_to_remove)\n",
    "  df = df[~df['time_diffs'].between(0, .5)] # remove BG values that time difference with last value < 0.5 min\n",
    "  df = df.drop('time_diffs', axis=1)\n",
    "  # print(df.shape)\n",
    "\n",
    "  return df"
   ]
  },
  {
   "cell_type": "code",
   "execution_count": null,
   "metadata": {
    "colab": {
     "base_uri": "https://localhost:8080/"
    },
    "executionInfo": {
     "elapsed": 3914,
     "status": "ok",
     "timestamp": 1733428530997,
     "user": {
      "displayName": "PI DigitalSMD",
      "userId": "16790990030515584217"
     },
     "user_tz": 300
    },
    "id": "miAzGpVnYuaD",
    "outputId": "f464902c-e9f3-4587-c078-fcf034952c41"
   },
   "outputs": [
    {
     "name": "stdout",
     "output_type": "stream",
     "text": [
      "LBDTC\n",
      "2019-07-23    419\n",
      "2019-07-24    576\n",
      "2019-07-25    502\n",
      "dtype: int64\n"
     ]
    }
   ],
   "source": [
    "# uid 1127 has 3 days with more than 350 records, and these 3 days data are deleted\n",
    "# uid 1509 is removed, all days have > 350 records\n",
    "\n",
    "cur_df = df[df['USUBJID'] == 1127]\n",
    "cur_df['LBDTC'] = cur_df['LBDTC'].apply(convert_to_datetime)\n",
    "samples_per_day = cur_df.groupby(cur_df['LBDTC'].dt.date).size()\n",
    "dates_with_350_plus_records = samples_per_day[samples_per_day > 350]\n",
    "print(dates_with_350_plus_records)"
   ]
  },
  {
   "cell_type": "code",
   "execution_count": null,
   "metadata": {
    "colab": {
     "base_uri": "https://localhost:8080/"
    },
    "executionInfo": {
     "elapsed": 201339,
     "status": "ok",
     "timestamp": 1733428015430,
     "user": {
      "displayName": "PI DigitalSMD",
      "userId": "16790990030515584217"
     },
     "user_tz": 300
    },
    "id": "LXABnN_WDahS",
    "outputId": "6e7effa4-8bd3-43f0-a756-c128dbd075ca"
   },
   "outputs": [],
   "source": [
    "pd.options.mode.chained_assignment = None  # Disable the warning\n",
    "\n",
    "uid_lst = pd.unique(df['USUBJID'])\n",
    "\n",
    "for uid in uid_lst:\n",
    "  print(uid)\n",
    "  cur_df = df[df['USUBJID'] == uid]\n",
    "  print(cur_df.shape)\n",
    "  # cur_df['LBDTC'] = pd.to_datetime(cur_df['LBDTC'])\n",
    "  cur_df['LBDTC'] = cur_df['LBDTC'].apply(convert_to_datetime)\n",
    "  cur_df = daily_filter(cur_df)\n",
    "  cur_df = BG_value_filter(cur_df)\n",
    "  print(cur_df.shape)\n",
    "\n",
    "  cur_df.to_csv('../datasets/t1dexi_subset/' + str(uid) + '.csv', index=False)\n"
   ]
  },
  {
   "cell_type": "markdown",
   "metadata": {
    "id": "X3V5rh6_Z5Hn"
   },
   "source": [
    "## baseline functions"
   ]
  },
  {
   "cell_type": "code",
   "execution_count": null,
   "metadata": {
    "id": "8KvY1xJuZ5Hn"
   },
   "outputs": [],
   "source": [
    "def find_continuous_rows(df):\n",
    "  continuous_rows = []\n",
    "  for i in range(len(df) - (6 + 6 -1)): # fit with seq_len + pred_len\n",
    "    current_rows = df.iloc[i:i+6+6]\n",
    "    time_diffs = np.diff(pd.to_datetime(current_rows['LBDTC'])).astype('timedelta64[m]')\n",
    "    # print(time_diffs)\n",
    "    if all(diff <= timedelta(minutes=7) for diff in time_diffs):\n",
    "      continuous_rows.append(current_rows)\n",
    "  return continuous_rows"
   ]
  },
  {
   "cell_type": "code",
   "execution_count": null,
   "metadata": {
    "id": "uHAX7SrRZ5Ho"
   },
   "outputs": [],
   "source": [
    "def data_process(cgm_df):\n",
    "  continuous_segments = find_continuous_rows(cgm_df)\n",
    "  print(len(continuous_segments))\n",
    "  # print(continuous_segments[0])\n",
    "  if continuous_segments:\n",
    "    num_train = int(len(continuous_segments) * 0.7)\n",
    "    num_test = int(len(continuous_segments) * 0.2)\n",
    "    num_vali = len(continuous_segments) - num_train - num_test\n",
    "    border1s = [0, num_train - 6, len(continuous_segments) - num_test - 6]\n",
    "    border2s = [num_train, num_train + num_vali, len(continuous_segments)]\n",
    "\n",
    "    # # print('last time in train set:', continuous_segments[num_train-1].LBDTC.values[-1], cgm_df.shape)\n",
    "    # train_df = cgm_df[cgm_df['mg/dl'] <= continuous_segments[num_train-1].LBDTC.values[-1]]\n",
    "    # train_segments = continuous_segments[border1s[0]:border2s[0]]\n",
    "    # print(f\"Number of train segments: {len(train_segments)}\")\n",
    "\n",
    "    # vali_segments = continuous_segments[border1s[1]:border2s[1]]\n",
    "    # print(f\"Number of vali segments: {len(vali_segments)}\")\n",
    "\n",
    "    border1 = border1s[2]\n",
    "    border2 = border2s[2]\n",
    "    # print(border1, border2)\n",
    "    test_segments = continuous_segments[border1:border2]\n",
    "    print(f\"Number of test segments: {len(test_segments)}\")\n",
    "\n",
    "    # return train_df, train_segments, vali_segments, test_segments\n",
    "    return test_segments"
   ]
  },
  {
   "cell_type": "code",
   "execution_count": null,
   "metadata": {
    "id": "6b_ws1utZ5Ho"
   },
   "outputs": [],
   "source": [
    "def data_process_population(cgm_df):\n",
    "  continuous_segments = find_continuous_rows(cgm_df)\n",
    "  # print(len(continuous_segments))\n",
    "  # print(continuous_segments[0])\n",
    "  if continuous_segments:\n",
    "    return continuous_segments"
   ]
  },
  {
   "cell_type": "code",
   "execution_count": null,
   "metadata": {
    "id": "fVd2Ys0uZ5Ho"
   },
   "outputs": [],
   "source": [
    "def get_seq_pred(test_segments):\n",
    "  features_list = []\n",
    "  trues_list = []\n",
    "\n",
    "  for segment in test_segments:\n",
    "    features = segment.iloc[:6]['LBORRES'].values\n",
    "    trues = segment['LBORRES'].values[-1]\n",
    "    features_list.append(features)\n",
    "    trues_list.append(trues)\n",
    "\n",
    "  return features_list, trues_list"
   ]
  },
  {
   "cell_type": "code",
   "execution_count": null,
   "metadata": {
    "id": "BHRh1O_eZ5Ho"
   },
   "outputs": [],
   "source": [
    "from sklearn.metrics import mean_squared_error, mean_absolute_error\n",
    "import numpy as np\n",
    "\n",
    "def get_mse_rmse_mae(true, pred):\n",
    "  # Calculate MSE\n",
    "  mse = mean_squared_error(true, pred)\n",
    "  # Calculate RMSE\n",
    "  rmse = np.sqrt(mse)\n",
    "  # Calculate MAE\n",
    "  mae = mean_absolute_error(true, pred)\n",
    "\n",
    "  true, pred = np.array(true), np.array(pred)\n",
    "  mape = np.mean(np.abs((true - pred) / true)) * 100\n",
    "\n",
    "  return mse, rmse, mae, mape"
   ]
  },
  {
   "cell_type": "code",
   "execution_count": null,
   "metadata": {
    "id": "XFBU3hOsZ5Ho"
   },
   "outputs": [],
   "source": [
    "def get_baseline_performance(test_segments):\n",
    "    features_list, trues_list = get_seq_pred(test_segments)\n",
    "\n",
    "    # 30 mins diff\n",
    "    trues = trues_list\n",
    "    preds = [i[-1] for i in features_list]\n",
    "\n",
    "    # print('----- 30 mins differnece (between features[-1], and pred[5]) ----')\n",
    "    diff_30_mins = abs(np.array(trues) - np.array(preds))\n",
    "    print('30 mins diff avg:', round(np.mean(diff_30_mins), 2), 'std:', round(np.std(diff_30_mins), 2))\n",
    "    mse, rmse, mae, mape = get_mse_rmse_mae(trues, preds)\n",
    "    print('MSE:', round(mse, 2), 'RMSE:', round(rmse, 2), 'MAE:', round(mae, 2), 'MAPE', round(mape, 2))\n",
    "    return mse, rmse, mae, mape"
   ]
  },
  {
   "cell_type": "markdown",
   "metadata": {
    "id": "oab3Hxl7W5y2"
   },
   "source": [
    "## baseline calculation"
   ]
  },
  {
   "cell_type": "markdown",
   "metadata": {
    "id": "lqqMlDvAW8gE"
   },
   "source": [
    "### population (last 20% data (test))\n"
   ]
  },
  {
   "cell_type": "code",
   "execution_count": null,
   "metadata": {
    "colab": {
     "base_uri": "https://localhost:8080/"
    },
    "executionInfo": {
     "elapsed": 418634,
     "status": "ok",
     "timestamp": 1733429287269,
     "user": {
      "displayName": "PI DigitalSMD",
      "userId": "16790990030515584217"
     },
     "user_tz": 300
    },
    "id": "xlp7ELBqDajo",
    "outputId": "31478e06-e236-40f1-820a-e68e47401f0a"
   },
   "outputs": [],
   "source": [
    "# individual\n",
    "\n",
    "root = '/content/drive/Shareddrives/Yanjun/ReproGenBG/ReproGenBG_Dataset/T1DEXI_processed/'\n",
    "\n",
    "res_lst = []\n",
    "\n",
    "for file in os.listdir(root):\n",
    "  if file.endswith('.csv'):\n",
    "    print(file)\n",
    "    df = pd.read_csv(root + file)\n",
    "    df['LBDTC'] = df['LBDTC'].apply(convert_to_datetime)\n",
    "    test_segments = data_process(df)\n",
    "    print(len(test_segments))\n",
    "    mse, rmse, mae, mape = get_baseline_performance(test_segments)\n",
    "\n",
    "    res_lst.append([file.split('.')[0], rmse, mae, mape])"
   ]
  },
  {
   "cell_type": "code",
   "execution_count": null,
   "metadata": {
    "colab": {
     "base_uri": "https://localhost:8080/"
    },
    "executionInfo": {
     "elapsed": 273,
     "status": "ok",
     "timestamp": 1733429473930,
     "user": {
      "displayName": "PI DigitalSMD",
      "userId": "16790990030515584217"
     },
     "user_tz": 300
    },
    "id": "v15oqovfaPnQ",
    "outputId": "e811aa77-3d60-465f-f9ff-0edc78b858e4"
   },
   "outputs": [],
   "source": [
    "print(res_lst)\n",
    "\n",
    "df = pd.DataFrame(res_lst, columns=['Test patient', 'RMSE', 'MAE', 'MAPE'])\n",
    "df.to_csv('/content/drive/Shareddrives/Yanjun/ReproGenBG/baseline_performance/T1DEXI_20test.csv', index=False)"
   ]
  },
  {
   "cell_type": "markdown",
   "metadata": {
    "id": "7y84L4-rW-zA"
   },
   "source": [
    "### loocv (whole data)"
   ]
  },
  {
   "cell_type": "code",
   "execution_count": null,
   "metadata": {
    "colab": {
     "base_uri": "https://localhost:8080/"
    },
    "executionInfo": {
     "elapsed": 499153,
     "status": "ok",
     "timestamp": 1733430132903,
     "user": {
      "displayName": "PI DigitalSMD",
      "userId": "16790990030515584217"
     },
     "user_tz": 300
    },
    "id": "p-sdLrLSaiak",
    "outputId": "a2862540-2bdf-4400-fc1a-f0987e98df29"
   },
   "outputs": [],
   "source": [
    "# population\n",
    "\n",
    "root = '/content/drive/Shareddrives/Yanjun/ReproGenBG/ReproGenBG_Dataset/T1DEXI_processed/'\n",
    "\n",
    "res_lst = []\n",
    "\n",
    "for file in os.listdir(root):\n",
    "  if file.endswith('.csv'):\n",
    "    print(file.split('.')[0].split('_')[-1])\n",
    "    df = pd.read_csv(root + file)\n",
    "    df['LBDTC'] = df['LBDTC'].apply(convert_to_datetime)\n",
    "    test_segments = data_process_population(df)\n",
    "    print(len(test_segments))\n",
    "    mse, rmse, mae, mape = get_baseline_performance(test_segments)\n",
    "    res_lst.append([file.split('.')[0], rmse, mae, mape])"
   ]
  },
  {
   "cell_type": "code",
   "execution_count": null,
   "metadata": {
    "colab": {
     "base_uri": "https://localhost:8080/"
    },
    "executionInfo": {
     "elapsed": 2,
     "status": "ok",
     "timestamp": 1733430132903,
     "user": {
      "displayName": "PI DigitalSMD",
      "userId": "16790990030515584217"
     },
     "user_tz": 300
    },
    "id": "PAT7HhQNaial",
    "outputId": "8d8fa6c9-cd01-42ab-b55a-01512338525d"
   },
   "outputs": [
    {
     "name": "stdout",
     "output_type": "stream",
     "text": [
      "[['1127', 23.583880251135547, 17.61162036384149, 14.280914861912159], ['1', 32.460614579981645, 22.408001025772535, 15.422695831246823], ['1010', 27.62154380557665, 19.018273305084747, 16.083398222570803], ['1015', 13.46805954455484, 9.349100923375993, 7.181502798502512], ['103', 13.51357591114699, 9.63795825293808, 8.058932058368686], ['1043', 23.869956377662273, 16.811323171512743, 12.615797498450402], ['1082', 20.07432640169085, 14.158301647655259, 12.92493202339699], ['11', 20.723957974479198, 15.206398996235885, 15.642455109627896], ['1115', 25.35568365775996, 17.22677909799412, 10.154811379927672], ['1121', 28.54588878450734, 20.46294416243655, 17.6790618802732], ['1139', 22.896329206861587, 16.890599230346343, 12.526402604403945], ['114', 24.426069211865777, 17.905064935064935, 12.803172937243538], ['1143', 21.324485075934422, 15.626581452980306, 11.21157189103998], ['115', 27.766280532981682, 20.11373092926491, 14.58248719939995], ['1171', 24.929650250599096, 18.017656090071647, 14.633359367001677], ['1194', 18.784100790772612, 13.78125392637266, 10.67490696077917], ['1201', 20.35257453011291, 14.810591663499304, 11.904752545702358], ['1205', 22.270286163531726, 15.431691078561917, 11.006941126551368], ['1211', 31.175586029358243, 22.320416719603607, 15.295070180826961], ['1219', 21.624943706741227, 15.641981549349172, 12.495807048493077], ['1230', 19.408045091570326, 14.299830971265115, 12.393720022809253], ['1239', 20.915046852246782, 15.664130014188057, 12.332455666982097], ['1271', 31.841536035270458, 22.692964824120605, 15.204017904801011], ['1286', 16.382277777672247, 12.131687758426262, 9.528984346316015], ['1311', 23.545279208099416, 17.442581503659348, 14.526994863808826], ['1330', 25.167525211696844, 18.051852788668267, 13.604230604415212], ['1336', 29.308120415552075, 20.775913256744545, 16.562088807458615], ['1343', 13.987673290020334, 9.335503119066992, 8.518161150598445], ['1345', 25.179443591192474, 18.32342402123424, 13.583169540208765], ['1348', 40.31852783245874, 27.38946692357097, 16.22335334155414], ['1361', 21.879418286761002, 15.779436583149423, 14.28313733790684], ['1362', 21.14188848839372, 15.480460843842442, 13.066064295601615], ['1363', 26.117812201007556, 18.38012454592631, 12.534456738336846], ['1377', 24.663436012864857, 18.140303842716712, 13.753643311823694], ['1381', 20.72430900414149, 14.703504043126685, 10.730712915546153], ['1386', 29.067535477138552, 20.917316482925518, 17.732250238265973], ['1408', 32.67626939244817, 23.389844169801183, 15.432164603831492], ['1422', 28.39094120257733, 20.467016284846814, 14.503548871246737], ['1427', 24.62934214883601, 18.06782398062172, 17.143357373097977], ['1433', 25.283670803860264, 17.094473922609033, 15.849456111969792], ['1435', 21.170953517254794, 14.27522547914318, 8.994819423700683], ['144', 21.595096109201858, 15.380633047210301, 10.471815084071313], ['1457', 27.635025599543503, 20.36855571190994, 16.998821952764455], ['1459', 29.189169644858513, 22.315235966872617, 15.868061411909462], ['1484', 25.388329814434872, 17.68939030244839, 10.195267711782135], ['1503', 25.290835348830008, 18.689879057924887, 13.783640850620813], ['152', 28.17362386547125, 20.27030118185284, 16.339778291045814], ['1554', 29.258138014409848, 21.240245891356167, 16.71503229699826], ['1558', 35.429732174401266, 24.12766574786015, 18.767777253259318], ['1636', 17.743042514282607, 12.534489768261283, 8.251666343954165], ['1650', 19.7220720285099, 13.97393797237425, 10.624162884150888], ['1683', 23.726530347148913, 15.968089246335452, 11.797584118314877], ['1689', 22.67161843640624, 16.27745371544509, 10.316684285969483], ['1695', 23.461526235443397, 16.686189157103286, 14.244804870626043], ['1722', 23.014269847786153, 16.672385517850383, 11.428785558641389], ['1726', 18.61261850581365, 13.279320400659312, 8.66857332916357], ['173', 21.961983551043037, 15.66641045349731, 12.296833460817979], ['18', 24.506519263347737, 18.2134944612286, 13.546151437188431], ['187', 28.035129604344796, 20.485834074450516, 14.082292555137569], ['24', 27.236375844827496, 20.342225113858166, 17.450754132182343], ['248', 17.463299696422435, 12.772416213370766, 12.109212464053325], ['25', 20.474496937789922, 15.319763536208518, 7.604545448921013], ['252', 23.6648074412459, 16.52669279632383, 13.99306679441293]]\n"
     ]
    }
   ],
   "source": [
    "print(res_lst)\n",
    "\n",
    "df = pd.DataFrame(res_lst, columns=['Test patient', 'RMSE', 'MAE', 'MAPE'])\n",
    "df.to_csv('/content/drive/Shareddrives/Yanjun/ReproGenBG/baseline_performance/T1DEXI_loocv.csv', index=False)"
   ]
  },
  {
   "cell_type": "markdown",
   "metadata": {
    "id": "CSwMuMdv7ua-"
   },
   "source": [
    "# DiaTrend"
   ]
  },
  {
   "cell_type": "markdown",
   "metadata": {
    "id": "bLzL7JqVRrJf"
   },
   "source": [
    "## data preprocess"
   ]
  },
  {
   "cell_type": "code",
   "execution_count": 14,
   "metadata": {
    "executionInfo": {
     "elapsed": 200,
     "status": "ok",
     "timestamp": 1739897363644,
     "user": {
      "displayName": "Yanjun Cui",
      "userId": "10928157657240567222"
     },
     "user_tz": 300
    },
    "id": "CoChZ2wvDcg3"
   },
   "outputs": [],
   "source": [
    "def daily_filter(df):\n",
    "  # print(df.shape)\n",
    "  samples_per_day = df.groupby(df['date'].dt.date).size()\n",
    "  dates_with_350_plus_records = samples_per_day[samples_per_day > 350]\n",
    "  print('-----', dates_with_350_plus_records)\n",
    "  df = df[~df['date'].dt.date.isin(dates_with_350_plus_records.index)]\n",
    "  # print(df.shape)\n",
    "  return df"
   ]
  },
  {
   "cell_type": "code",
   "execution_count": 15,
   "metadata": {
    "executionInfo": {
     "elapsed": 114,
     "status": "ok",
     "timestamp": 1739897364411,
     "user": {
      "displayName": "Yanjun Cui",
      "userId": "10928157657240567222"
     },
     "user_tz": 300
    },
    "id": "u-sdcqVQDqXo"
   },
   "outputs": [],
   "source": [
    "def BG_value_filter(df):\n",
    "  # print(df.shape)\n",
    "  time_diffs = df['date'].diff().dt.total_seconds() / 60  # Difference in minutes\n",
    "  df.insert(len(df.columns), 'time_diffs', time_diffs)\n",
    "\n",
    "  # rows_to_remove = df[(time_diffs >= 0) & (time_diffs <= .5)]\n",
    "  # print(rows_to_remove)\n",
    "  df = df[~df['time_diffs'].between(0, .5)] # remove BG values that time difference with last value < 0.5 min\n",
    "  df = df.drop('time_diffs', axis=1)\n",
    "  # print(df.shape)\n",
    "\n",
    "  return df"
   ]
  },
  {
   "cell_type": "code",
   "execution_count": null,
   "metadata": {
    "colab": {
     "base_uri": "https://localhost:8080/"
    },
    "executionInfo": {
     "elapsed": 8992,
     "status": "ok",
     "timestamp": 1739897373898,
     "user": {
      "displayName": "Yanjun Cui",
      "userId": "10928157657240567222"
     },
     "user_tz": 300
    },
    "id": "HCWW7yK33XZ1",
    "outputId": "d4414a60-53ec-4289-a78a-29faa22ef7db"
   },
   "outputs": [],
   "source": [
    "root = '/content/drive/Shareddrives/Yanjun/ReproGenBG/ReproGenBG_Dataset/diatrend_subset/'\n",
    "\n",
    "for file in os.listdir(root):\n",
    "  if file.endswith('.csv'):\n",
    "    print(file)\n",
    "    df = pd.read_csv(root + file)\n",
    "    print(\"original size:\", df.shape)\n",
    "    df['date'] = pd.to_datetime(df['date'])\n",
    "    df = daily_filter(df)\n",
    "    print('remove duplicated values: ', df.shape)\n",
    "    df = BG_value_filter(df)\n",
    "    print('remove days with > 350 values: ', df.shape)\n",
    "\n",
    "\n",
    "    # df.to_csv('/content/drive/Shareddrives/Yanjun/ReproGenBG/ReproGenBG_Dataset/diatrend_processed/' + file, index=False)"
   ]
  },
  {
   "cell_type": "markdown",
   "metadata": {
    "id": "dvCK9hyrRtxw"
   },
   "source": [
    "## baseline functions"
   ]
  },
  {
   "cell_type": "code",
   "execution_count": null,
   "metadata": {
    "id": "P0GV4EqTRx7u"
   },
   "outputs": [],
   "source": [
    "def find_continuous_rows(df):\n",
    "  continuous_rows = []\n",
    "  for i in range(len(df) - (6 + 6 -1)): # fit with seq_len + pred_len\n",
    "    current_rows = df.iloc[i:i+6+6]\n",
    "    time_diffs = np.diff(pd.to_datetime(current_rows['date'])).astype('timedelta64[m]')\n",
    "    # print(time_diffs)\n",
    "    if all(diff <= timedelta(minutes=7) for diff in time_diffs):\n",
    "      continuous_rows.append(current_rows)\n",
    "  return continuous_rows"
   ]
  },
  {
   "cell_type": "code",
   "execution_count": null,
   "metadata": {
    "id": "TCUGN3oBSH2N"
   },
   "outputs": [],
   "source": [
    "def data_process(cgm_df):\n",
    "  continuous_segments = find_continuous_rows(cgm_df)\n",
    "  print(len(continuous_segments))\n",
    "  # print(continuous_segments[0])\n",
    "  if continuous_segments:\n",
    "    num_train = int(len(continuous_segments) * 0.7)\n",
    "    num_test = int(len(continuous_segments) * 0.2)\n",
    "    num_vali = len(continuous_segments) - num_train - num_test\n",
    "    border1s = [0, num_train - 6, len(continuous_segments) - num_test - 6]\n",
    "    border2s = [num_train, num_train + num_vali, len(continuous_segments)]\n",
    "\n",
    "    # # print('last time in train set:', continuous_segments[num_train-1].LBDTC.values[-1], cgm_df.shape)\n",
    "    # train_df = cgm_df[cgm_df['mg/dl'] <= continuous_segments[num_train-1].LBDTC.values[-1]]\n",
    "    # train_segments = continuous_segments[border1s[0]:border2s[0]]\n",
    "    # print(f\"Number of train segments: {len(train_segments)}\")\n",
    "\n",
    "    # vali_segments = continuous_segments[border1s[1]:border2s[1]]\n",
    "    # print(f\"Number of vali segments: {len(vali_segments)}\")\n",
    "\n",
    "    border1 = border1s[2]\n",
    "    border2 = border2s[2]\n",
    "    # print(border1, border2)\n",
    "    test_segments = continuous_segments[border1:border2]\n",
    "    print(f\"Number of test segments: {len(test_segments)}\")\n",
    "\n",
    "    # return train_df, train_segments, vali_segments, test_segments\n",
    "    return test_segments"
   ]
  },
  {
   "cell_type": "code",
   "execution_count": null,
   "metadata": {
    "id": "2uvjqzBwrK9h"
   },
   "outputs": [],
   "source": [
    "def data_process_population(cgm_df):\n",
    "  continuous_segments = find_continuous_rows(cgm_df)\n",
    "  # print(len(continuous_segments))\n",
    "  # print(continuous_segments[0])\n",
    "  if continuous_segments:\n",
    "    return continuous_segments"
   ]
  },
  {
   "cell_type": "code",
   "execution_count": null,
   "metadata": {
    "id": "jhStd0MOxaQe"
   },
   "outputs": [],
   "source": [
    "def get_seq_pred(test_segments):\n",
    "  features_list = []\n",
    "  trues_list = []\n",
    "\n",
    "  for segment in test_segments:\n",
    "    features = segment.iloc[:6]['mg/dl'].values\n",
    "    trues = segment['mg/dl'].values[-1]\n",
    "    features_list.append(features)\n",
    "    trues_list.append(trues)\n",
    "\n",
    "  return features_list, trues_list"
   ]
  },
  {
   "cell_type": "code",
   "execution_count": null,
   "metadata": {
    "id": "DHUvy2wt5gvr"
   },
   "outputs": [],
   "source": [
    "from sklearn.metrics import mean_squared_error, mean_absolute_error\n",
    "import numpy as np\n",
    "\n",
    "def get_mse_rmse_mae(true, pred):\n",
    "  # Calculate MSE\n",
    "  mse = mean_squared_error(true, pred)\n",
    "  # Calculate RMSE\n",
    "  rmse = np.sqrt(mse)\n",
    "  # Calculate MAE\n",
    "  mae = mean_absolute_error(true, pred)\n",
    "\n",
    "  true, pred = np.array(true), np.array(pred)\n",
    "  mape = np.mean(np.abs((true - pred) / true)) * 100\n",
    "\n",
    "  return mse, rmse, mae, mape"
   ]
  },
  {
   "cell_type": "code",
   "execution_count": null,
   "metadata": {
    "id": "mCe7vxQpxVkO"
   },
   "outputs": [],
   "source": [
    "def get_baseline_performance(test_segments):\n",
    "    features_list, trues_list = get_seq_pred(test_segments)\n",
    "\n",
    "    # 30 mins diff\n",
    "    trues = trues_list\n",
    "    preds = [i[-1] for i in features_list]\n",
    "\n",
    "    # print('----- 30 mins differnece (between features[-1], and pred[5]) ----')\n",
    "    diff_30_mins = abs(np.array(trues) - np.array(preds))\n",
    "    print('30 mins diff avg:', round(np.mean(diff_30_mins), 2), 'std:', round(np.std(diff_30_mins), 2))\n",
    "    mse, rmse, mae, mape = get_mse_rmse_mae(trues, preds)\n",
    "    print('MSE:', round(mse, 2), 'RMSE:', round(rmse, 2), 'MAE:', round(mae, 2), 'MAPE', round(mape, 2))\n",
    "    return mse, rmse, mae, mape"
   ]
  },
  {
   "cell_type": "markdown",
   "metadata": {
    "id": "-Sd94hFozju6"
   },
   "source": [
    "## baseline calculation"
   ]
  },
  {
   "cell_type": "markdown",
   "metadata": {
    "id": "Z9KRamlKM3rN"
   },
   "source": [
    "### population"
   ]
  },
  {
   "cell_type": "code",
   "execution_count": null,
   "metadata": {
    "colab": {
     "base_uri": "https://localhost:8080/"
    },
    "executionInfo": {
     "elapsed": 741073,
     "status": "ok",
     "timestamp": 1732657695326,
     "user": {
      "displayName": "Yanjun Cui",
      "userId": "10928157657240567222"
     },
     "user_tz": 300
    },
    "id": "szcQ_ZnKKNs-",
    "outputId": "22bc9d8d-292f-4eb6-d147-c3c73e82b19b"
   },
   "outputs": [],
   "source": [
    "# individual\n",
    "\n",
    "root = '/content/drive/Shareddrives/Yanjun/ReproGenBG/ReproGenBG_Dataset/diatrend_processed/'\n",
    "\n",
    "MSE_lst = []\n",
    "RMSE_lst = []\n",
    "MAE_lst = []\n",
    "MAPE_lst = []\n",
    "\n",
    "for file in os.listdir(root):\n",
    "  if file.endswith('.csv'):\n",
    "    print(file)\n",
    "    df = pd.read_csv(root + file)\n",
    "    df['date'] = df['date'].apply(convert_to_datetime)\n",
    "    test_segments = data_process(df)\n",
    "    print(len(test_segments))\n",
    "    mse, rmse, mae, mape = get_baseline_performance(test_segments)\n",
    "    MSE_lst.append(mse)\n",
    "    RMSE_lst.append(rmse)\n",
    "    MAE_lst.append(mae)\n",
    "    MAPE_lst.append(mape)\n",
    "    # break"
   ]
  },
  {
   "cell_type": "code",
   "execution_count": null,
   "metadata": {
    "colab": {
     "base_uri": "https://localhost:8080/"
    },
    "executionInfo": {
     "elapsed": 366,
     "status": "ok",
     "timestamp": 1732657698253,
     "user": {
      "displayName": "Yanjun Cui",
      "userId": "10928157657240567222"
     },
     "user_tz": 300
    },
    "id": "GiXVUtJRHrNZ",
    "outputId": "74fbcf6b-2f57-464a-d1a1-19c3aaae3309"
   },
   "outputs": [
    {
     "name": "stdout",
     "output_type": "stream",
     "text": [
      "MSE: 859.11 356.51\n",
      "RMSE: 28.73 5.81\n",
      "MAE: 20.82 4.2\n",
      "MAPE: 12.42 2.81\n"
     ]
    }
   ],
   "source": [
    "print('MSE:', round(np.mean(MSE_lst), 2), round(np.std(MSE_lst), 2))\n",
    "print('RMSE:', round(np.mean(RMSE_lst), 2), round(np.std(RMSE_lst), 2))\n",
    "print('MAE:', round(np.mean(MAE_lst), 2), round(np.std(MAE_lst), 2))\n",
    "print('MAPE:', round(np.mean(MAPE_lst), 2), round(np.std(MAPE_lst), 2))"
   ]
  },
  {
   "cell_type": "code",
   "execution_count": null,
   "metadata": {
    "colab": {
     "base_uri": "https://localhost:8080/"
    },
    "executionInfo": {
     "elapsed": 513035,
     "status": "ok",
     "timestamp": 1733427071049,
     "user": {
      "displayName": "PI DigitalSMD",
      "userId": "16790990030515584217"
     },
     "user_tz": 300
    },
    "id": "c_ehvp3XMLbt",
    "outputId": "d7b3e1be-c541-4123-95f8-c8ededef1061"
   },
   "outputs": [],
   "source": [
    "# individual\n",
    "\n",
    "root = '/content/drive/Shareddrives/Yanjun/ReproGenBG/ReproGenBG_Dataset/diatrend_processed/'\n",
    "\n",
    "res_lst = []\n",
    "\n",
    "for file in os.listdir(root):\n",
    "  if file.endswith('.csv'):\n",
    "    print(file)\n",
    "    df = pd.read_csv(root + file)\n",
    "    df['date'] = df['date'].apply(convert_to_datetime)\n",
    "    test_segments = data_process(df)\n",
    "    print(len(test_segments))\n",
    "    mse, rmse, mae, mape = get_baseline_performance(test_segments)\n",
    "\n",
    "    res_lst.append([file.split('.')[0].split('_')[-1], rmse, mae, mape])"
   ]
  },
  {
   "cell_type": "code",
   "execution_count": null,
   "metadata": {
    "colab": {
     "base_uri": "https://localhost:8080/"
    },
    "executionInfo": {
     "elapsed": 253,
     "status": "ok",
     "timestamp": 1733427113245,
     "user": {
      "displayName": "PI DigitalSMD",
      "userId": "16790990030515584217"
     },
     "user_tz": 300
    },
    "id": "Q4jQwQopMjSe",
    "outputId": "9fbb3872-4ae1-455a-9eba-d08e64ca3f02"
   },
   "outputs": [
    {
     "name": "stdout",
     "output_type": "stream",
     "text": [
      "[['Subject1', 21.671059917848112, 16.03298611111111, 9.935905878186189], ['Subject10', 31.997304557502847, 23.587937579080556, 11.252483826318436], ['Subject11', 30.678017741245746, 21.763090128755366, 13.065541170101525], ['Subject12', 35.00801287253616, 25.95977984758679, 14.450174659625697], ['Subject13', 18.874885851635568, 12.784881007932805, 10.525128160180735], ['Subject14', 26.609598108195907, 16.971628109995635, 5.5016374320356745], ['Subject15', 31.451915206079526, 22.784602440050485, 13.40479668257849], ['Subject16', 32.667164652121855, 22.564810879728007, 10.926822805100135], ['Subject17', 29.793201922636836, 22.11836051861146, 10.12098679434024], ['Subject18', 21.421931578230122, 15.75593220338983, 8.962439985103675], ['Subject19', 31.79152162853529, 22.406779661016948, 9.01694745275826], ['Subject2', 25.340244988669525, 18.349195710455763, 10.033740674636066], ['Subject20', 33.13533943663976, 23.321849105974707, 14.04040640689112], ['Subject21', 28.77540610503349, 19.456806282722514, 15.73396807919836], ['Subject22', 22.44982261665169, 16.187894073139976, 9.092067714902441], ['Subject23', 43.59384048573153, 32.533705452984115, 15.346576696776618], ['Subject24', 37.10791691132093, 27.11761761761762, 15.409985963020892], ['Subject25', 27.83402179987695, 19.27061310782241, 11.426509970198937], ['Subject26', 30.190916971446757, 20.9419795221843, 9.240665071423228], ['Subject27', 26.8768326392331, 19.62914741705166, 12.465216986347812], ['Subject28', 26.078607133050646, 19.42483108108108, 11.952415652938447], ['Subject29', 29.190586593534015, 21.35168118220952, 14.769403227860314], ['Subject3', 23.341520264663195, 16.858548585485856, 10.786153814919896], ['Subject30', 27.931545793780284, 20.303480919429166, 11.798482779732], ['Subject32', 35.63181030218873, 24.53855986365573, 11.804254778665575], ['Subject31', 23.796387258458093, 18.275316073676155, 10.901988295467085], ['Subject33', 35.880785424454636, 27.28163613123136, 15.217049459536632], ['Subject34', 24.934147033971072, 18.30909090909091, 8.717081421543789], ['Subject35', 37.19389808048854, 28.1343537414966, 19.735856040569146], ['Subject36', 28.371770372387257, 21.54174944444445, 12.39249828825243], ['Subject37', 32.990235376449036, 23.216880848843303, 14.54500331909547], ['Subject38', 26.12200287038345, 19.65765121030043, 13.886434266946225], ['Subject39', 21.629338901875315, 16.437617252650174, 12.30899528335458], ['Subject4', 26.80555335432955, 20.474074074074075, 17.81977374523921], ['Subject40', 35.7574394776566, 26.099223468507333, 15.985825119922342], ['Subject41', 22.178134685307917, 15.478205128205127, 10.03736890146582], ['Subject43', 37.439153408861564, 28.256932409012133, 19.181348707142867], ['Subject42', 24.15024412706599, 18.38682425989673, 13.375415667697807], ['Subject47', 21.568155643354682, 16.35875509578544, 10.982069716611305], ['Subject46', 30.861305836707924, 20.884731458647146, 11.24869457150733], ['Subject44', 23.879431069597103, 17.678746327130263, 12.79560491777931], ['Subject45', 29.856807850290927, 22.77533788453063, 16.155510403590352], ['Subject49', 24.13504753448723, 17.89540546288055, 12.797929153125482], ['Subject48', 21.40995291926377, 15.623249893932966, 8.934159735210095], ['Subject51', 29.576912944937263, 22.261497793871865, 12.798259774977122], ['Subject50', 25.57459136303289, 19.20664282298259, 8.454606312046756], ['Subject5', 21.001766866213494, 15.628014842300557, 10.571407201057651], ['Subject53', 34.389359518356855, 24.279588116704293, 15.667210778112883], ['Subject54', 21.52066328543037, 15.099609568965516, 11.995625359171683], ['Subject6', 26.28856388591999, 18.045375972342264, 10.21827673016503], ['Subject7', 34.821533607860076, 24.7634691195795, 12.571769493519557], ['Subject8', 44.68453875243684, 30.256816182937555, 15.755844647809662], ['Subject9', 26.40649330562627, 19.329226847918438, 12.14589455188307]]\n"
     ]
    }
   ],
   "source": [
    "print(res_lst)\n",
    "\n",
    "df = pd.DataFrame(res_lst, columns=['Test patient', 'RMSE', 'MAE', 'MAPE'])\n",
    "df.to_csv('/content/drive/Shareddrives/Yanjun/ReproGenBG/baseline_performance/diatrend_20test.csv', index=False)"
   ]
  },
  {
   "cell_type": "markdown",
   "metadata": {
    "id": "U-5tizq7MkEN"
   },
   "source": [
    "### loocv"
   ]
  },
  {
   "cell_type": "code",
   "execution_count": null,
   "metadata": {
    "colab": {
     "base_uri": "https://localhost:8080/"
    },
    "executionInfo": {
     "elapsed": 851771,
     "status": "ok",
     "timestamp": 1732679359217,
     "user": {
      "displayName": "Yanjun Cui",
      "userId": "10928157657240567222"
     },
     "user_tz": 300
    },
    "id": "9AiwVJXlZkQ1",
    "outputId": "35ed2a41-2082-4aa4-bd08-73183e6c9dc0"
   },
   "outputs": [],
   "source": [
    "# population\n",
    "\n",
    "root = '/content/drive/Shareddrives/Yanjun/ReproGenBG/ReproGenBG_Dataset/diatrend_processed/'\n",
    "\n",
    "MSE_lst = []\n",
    "RMSE_lst = []\n",
    "MAE_lst = []\n",
    "MAPE_lst = []\n",
    "\n",
    "for file in os.listdir(root):\n",
    "  if file.endswith('.csv'):\n",
    "    print(file)\n",
    "    df = pd.read_csv(root + file)\n",
    "    df['date'] = df['date'].apply(convert_to_datetime)\n",
    "    test_segments = data_process_population(df)\n",
    "    print(len(test_segments))\n",
    "    mse, rmse, mae, mape = get_baseline_performance(test_segments)\n",
    "    MSE_lst.append(mse)\n",
    "    RMSE_lst.append(rmse)\n",
    "    MAE_lst.append(mae)\n",
    "    MAPE_lst.append(mape)\n",
    "    # break"
   ]
  },
  {
   "cell_type": "code",
   "execution_count": null,
   "metadata": {
    "colab": {
     "base_uri": "https://localhost:8080/"
    },
    "executionInfo": {
     "elapsed": 24,
     "status": "ok",
     "timestamp": 1732679359217,
     "user": {
      "displayName": "Yanjun Cui",
      "userId": "10928157657240567222"
     },
     "user_tz": 300
    },
    "id": "6pdrtwaNrZdt",
    "outputId": "a8473a6c-1816-45d8-dca3-464eac75bd34"
   },
   "outputs": [],
   "source": [
    "print('MSE:', round(np.mean(MSE_lst), 2), round(np.std(MSE_lst), 2))\n",
    "print('RMSE:', round(np.mean(RMSE_lst), 2), round(np.std(RMSE_lst), 2))\n",
    "print('MAE:', round(np.mean(MAE_lst), 2), round(np.std(MAE_lst), 2))\n",
    "print('MAPE:', round(np.mean(MAPE_lst), 2), round(np.std(MAPE_lst), 2))"
   ]
  },
  {
   "cell_type": "code",
   "execution_count": null,
   "metadata": {
    "colab": {
     "base_uri": "https://localhost:8080/"
    },
    "executionInfo": {
     "elapsed": 609197,
     "status": "ok",
     "timestamp": 1733425919390,
     "user": {
      "displayName": "PI DigitalSMD",
      "userId": "16790990030515584217"
     },
     "user_tz": 300
    },
    "id": "A6-jn8Ulr92p",
    "outputId": "75d5f7f7-2e1b-492c-b7e5-fff57dd0cd6f"
   },
   "outputs": [],
   "source": [
    "# population\n",
    "\n",
    "root = '/content/drive/Shareddrives/Yanjun/ReproGenBG/ReproGenBG_Dataset/diatrend_processed/'\n",
    "\n",
    "res_lst = []\n",
    "\n",
    "for file in os.listdir(root):\n",
    "  if file.endswith('.csv'):\n",
    "    print(file.split('.')[0].split('_')[-1])\n",
    "    df = pd.read_csv(root + file)\n",
    "    df['date'] = df['date'].apply(convert_to_datetime)\n",
    "    test_segments = data_process_population(df)\n",
    "    print(len(test_segments))\n",
    "    mse, rmse, mae, mape = get_baseline_performance(test_segments)\n",
    "    res_lst.append([file.split('.')[0].split('_')[-1], rmse, mae, mape])"
   ]
  },
  {
   "cell_type": "code",
   "execution_count": null,
   "metadata": {
    "colab": {
     "base_uri": "https://localhost:8080/"
    },
    "executionInfo": {
     "elapsed": 265,
     "status": "ok",
     "timestamp": 1733425929085,
     "user": {
      "displayName": "PI DigitalSMD",
      "userId": "16790990030515584217"
     },
     "user_tz": 300
    },
    "id": "wsl1_kJvK_5O",
    "outputId": "a571424a-4909-4de6-f63c-e442b473dc0a"
   },
   "outputs": [
    {
     "name": "stdout",
     "output_type": "stream",
     "text": [
      "[['Subject1', 21.4656255660761, 15.711647892230868, 9.897633648018934], ['Subject10', 36.10057362441069, 26.19401470961197, 14.208083257291557], ['Subject11', 36.46932547961089, 25.77045513206573, 15.739481702456223], ['Subject12', 36.12570347643983, 26.081643045064926, 14.625285006497887], ['Subject13', 22.024268307053422, 14.749906437125748, 11.43444777049782], ['Subject14', 28.23072658817312, 18.029926496324816, 7.0855073592853115], ['Subject15', 31.02178429129553, 23.16580922661719, 15.414293539892507], ['Subject16', 35.03095086842119, 23.984832992501705, 10.854045352408038], ['Subject17', 30.44199232098296, 22.226506832089864, 10.325088980518764], ['Subject18', 23.89526143019642, 17.740463851839266, 11.310332396197799], ['Subject19', 31.434982112549026, 22.162857871038995, 10.123828025351044], ['Subject2', 30.302852116285862, 21.210653753026634, 12.882096417989713], ['Subject20', 33.15626808224288, 24.354813325172685, 15.089124524518184], ['Subject21', 28.543799903763972, 19.836511546536038, 15.649543875378443], ['Subject22', 23.480452468583813, 16.245028648466466, 9.559498116378101], ['Subject23', 35.39586263013898, 26.059998278385127, 12.039141136091219], ['Subject24', 38.728991021035895, 27.63999598433892, 15.172768776843757], ['Subject25', 26.862380521536526, 18.707358426585284, 11.028036713552687], ['Subject26', 30.42414366359651, 21.10452484817381, 9.49126396951325], ['Subject27', 30.76484404741429, 22.231837696775823, 14.85890280809333], ['Subject28', 21.857147245011028, 15.941490262489415, 10.429946003981795], ['Subject29', 25.778742414610086, 19.050237987425653, 12.178614824089001], ['Subject3', 24.967872208834926, 18.076286878163188, 12.291463750940581], ['Subject30', 24.869106921859306, 17.9401022513033, 9.360208074312878], ['Subject32', 34.29937867386656, 24.451990432256963, 13.046540573213694], ['Subject31', 22.19910375265297, 16.88253888727476, 10.163478048888345], ['Subject33', 34.352918716588974, 26.03058521999146, 14.953286871571036], ['Subject34', 27.71539159976362, 20.44372125314588, 10.297710663905494], ['Subject35', 35.66462866290636, 26.40228415579988, 17.948801662808286], ['Subject36', 26.97628963217681, 20.08937942720764, 10.951305448362582], ['Subject37', 28.94154953109207, 20.868782852377944, 12.023574067592325], ['Subject38', 24.754323585431216, 18.363494255227604, 12.220814915621919], ['Subject39', 21.43114790019208, 15.63738794828655, 11.624050673225863], ['Subject4', 26.807454544971524, 19.486680059393834, 16.812321257049444], ['Subject40', 33.4208874932084, 24.467439245870448, 16.0393813709404], ['Subject41', 27.00149146830879, 19.331591123297063, 12.482814832632945], ['Subject43', 34.76852911241158, 25.9421573736321, 20.186769365649685], ['Subject42', 21.350514845676702, 16.081574892589074, 10.930229105155217], ['Subject47', 20.781548342867595, 15.809865941101155, 10.623746636733811], ['Subject46', 28.97228724361386, 20.652953190455158, 12.225559978534548], ['Subject44', 23.220631788734266, 16.51679764243615, 10.936109796426004], ['Subject45', 30.061057218469003, 22.18264103756076, 15.58146061780207], ['Subject49', 24.770911275484984, 17.517534670480828, 12.536586285717], ['Subject48', 26.55975915547303, 18.93645797890439, 10.863929984739379], ['Subject51', 33.51835069194757, 25.043262117384014, 14.68732282898286], ['Subject50', 24.931879708292776, 17.796102424264127, 8.61432213122467], ['Subject5', 22.745773723123914, 16.55816981307542, 10.48640762287733], ['Subject53', 32.278270638086944, 23.528839545411486, 15.590456189286817], ['Subject54', 21.74303158401141, 15.268500578277525, 12.55843592269064], ['Subject6', 23.699917209349195, 16.83640932328221, 11.908719444514224], ['Subject7', 30.59836002944196, 22.03608745280534, 11.275589677537964], ['Subject8', 42.4976469936866, 29.51878306878307, 15.524687218864205], ['Subject9', 28.788377714225124, 20.600732288828336, 12.041502070572866]]\n"
     ]
    }
   ],
   "source": [
    "print(res_lst)\n",
    "\n",
    "df = pd.DataFrame(res_lst, columns=['Test patient', 'RMSE', 'MAE', 'MAPE'])\n",
    "df.to_csv('/content/drive/Shareddrives/Yanjun/ReproGenBG/baseline_performance/diatrend_loocv.csv', index=False)"
   ]
  },
  {
   "cell_type": "code",
   "execution_count": null,
   "metadata": {
    "id": "x5QtWA54M0DV"
   },
   "outputs": [],
   "source": []
  }
 ],
 "metadata": {
  "colab": {
   "provenance": [],
   "toc_visible": true
  },
  "kernelspec": {
   "display_name": "Python 3",
   "name": "python3"
  },
  "language_info": {
   "name": "python"
  }
 },
 "nbformat": 4,
 "nbformat_minor": 0
}
