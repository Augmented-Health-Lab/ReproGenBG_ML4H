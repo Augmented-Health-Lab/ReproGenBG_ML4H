{
 "cells": [
  {
   "cell_type": "code",
   "execution_count": 1,
   "metadata": {},
   "outputs": [],
   "source": [
    "import numpy as np\n",
    "import pandas as pd\n",
    "import matplotlib.pyplot as plt\n",
    "import torch\n",
    "import torch.nn as nn\n",
    "import torch.optim as optim\n",
    "import datetime\n",
    "import os\n",
    "import xml.etree.ElementTree as ET\n",
    "\n",
    "from sklearn.model_selection import train_test_split\n",
    "from torch.utils.data import DataLoader, TensorDataset\n",
    "from sklearn.metrics import mean_squared_error"
   ]
  },
  {
   "cell_type": "code",
   "execution_count": 2,
   "metadata": {},
   "outputs": [
    {
     "name": "stdout",
     "output_type": "stream",
     "text": [
      "CUDA is available! Training on GPU...\n"
     ]
    }
   ],
   "source": [
    "if torch.cuda.is_available():\n",
    "    print(\"CUDA is available! Training on GPU...\")\n",
    "else:\n",
    "    print(\"CUDA is not available. Training on CPU...\")"
   ]
  },
  {
   "cell_type": "code",
   "execution_count": 3,
   "metadata": {},
   "outputs": [
    {
     "name": "stdout",
     "output_type": "stream",
     "text": [
      "['1343_training_data', '1617_training_data', '255_training_data', '354_training_data', '695_training_data', '816_training_data', '854_training_data', '856_training_data', '862_training_data', '894_training_data', '900_training_data', '907_training_data', '953_training_data', '979_training_data', '981_training_data', '987_training_data']\n"
     ]
    }
   ],
   "source": [
    "# Define the directory path\n",
    "train_directory_path = r'C:\\Users\\anonymoususer\\OneDrive\\Desktop\\BGprediction\\LB_split\\training'  # Use a raw string for paths on Windows\n",
    "\n",
    "# List files without their extensions\n",
    "train_file_names = [os.path.splitext(file)[0] for file in os.listdir(train_directory_path)\n",
    "              if os.path.isfile(os.path.join(train_directory_path, file))]\n",
    "\n",
    "# Print the list of file names\n",
    "print(train_file_names)\n",
    "\n",
    "# subject = pd.read_csv(f\"../LB_split/training/63_training_data.csv\")"
   ]
  },
  {
   "cell_type": "code",
   "execution_count": 4,
   "metadata": {},
   "outputs": [],
   "source": [
    "def preprocess_t1dexi(path):\n",
    "\n",
    "    subject = pd.read_csv(path)\n",
    "    subject['LBDTC'] = pd.to_datetime(subject['LBDTC'], errors='coerce')  # Convert 'date' column to datetime if not already\n",
    "    # print(subject['date'][0])\n",
    "    subject.sort_values('LBDTC', inplace=True)  # Sort the DataFrame by the 'date' column\n",
    "\n",
    "    # Assuming self.interval_timedelta is set, for example:\n",
    "    interval_timedelta = datetime.timedelta(minutes=6)  # Example timedelta of 6 minutes, providing a range for latency\n",
    "\n",
    "    # Create a list to store the results\n",
    "    res = []\n",
    "\n",
    "    # Initialize the first group\n",
    "    if not subject.empty:\n",
    "        current_group = [subject.iloc[0]['LBORRES']]\n",
    "        last_time = subject.iloc[0]['LBDTC']\n",
    "\n",
    "    # Iterate over rows in DataFrame starting from the second row\n",
    "    for index, row in subject.iloc[1:].iterrows():\n",
    "        current_time = row['LBDTC']\n",
    "        if (current_time - last_time) <= interval_timedelta:\n",
    "            # If the time difference is within the limit, add to the current group\n",
    "            current_group.append(row['LBORRES'])\n",
    "        else:\n",
    "            # Otherwise, start a new group\n",
    "            res.append(current_group)\n",
    "            current_group = [row['LBORRES']]\n",
    "        last_time = current_time\n",
    "\n",
    "    # Add the last group if it's not empty\n",
    "    if current_group:\n",
    "        res.append(current_group)\n",
    "    \n",
    "    # Filter out groups with fewer than 10 glucose readings\n",
    "    res = [group for group in res if len(group) >= 10]\n",
    "\n",
    "    return res"
   ]
  },
  {
   "cell_type": "code",
   "execution_count": 5,
   "metadata": {},
   "outputs": [],
   "source": [
    "def preprocess_OhioT1DM(path):\n",
    "    tree = ET.parse(path)\n",
    "    root = tree.getroot()\n",
    "    interval_timedelta = datetime.timedelta(minutes=6)\n",
    "\n",
    "    res = []\n",
    "    for item in root.findall(\"glucose_level\"):\n",
    "        entry0 = item[0].attrib\n",
    "        res.append([float(entry0[\"value\"])])\n",
    "        for i in range(1, len(item)):\n",
    "            last_entry = item[i - 1].attrib\n",
    "            entry = item[i].attrib\n",
    "            t1 = datetime.datetime.strptime(entry[\"ts\"], \"%d-%m-%Y %H:%M:%S\")\n",
    "            t0 = datetime.datetime.strptime(last_entry[\"ts\"], \"%d-%m-%Y %H:%M:%S\")\n",
    "            delt = t1 - t0\n",
    "            if delt <= interval_timedelta:\n",
    "                res[-1].append(float(entry[\"value\"]))\n",
    "            else:\n",
    "                res.append([float(entry[\"value\"])])\n",
    "    return res\n",
    "\n"
   ]
  },
  {
   "cell_type": "code",
   "execution_count": null,
   "metadata": {},
   "outputs": [],
   "source": [
    "res = preprocess_t1dexi(f\"../LB_split/training/63_training_data.csv\")"
   ]
  },
  {
   "cell_type": "code",
   "execution_count": 7,
   "metadata": {},
   "outputs": [],
   "source": [
    "def create_sequences(data, seq_length, pred_step):\n",
    "    \"\"\"\n",
    "    Create sequences and targets from time series data.\n",
    "\n",
    "    Args:\n",
    "    data (list or ndarray): The time series data.\n",
    "    seq_length (int): Length of the sequence.\n",
    "    pred_step (int): Steps ahead to predict.\n",
    "\n",
    "    Returns:\n",
    "    tuple of torch.Tensors: sequences and targets.\n",
    "    \"\"\"\n",
    "    sequences = []\n",
    "    targets = []\n",
    "    for i in range(len(data) - seq_length - pred_step + 1):\n",
    "        sequences.append(data[i:i+seq_length])\n",
    "        targets.append(data[i+seq_length+pred_step-1])\n",
    "    return torch.tensor(sequences, dtype=torch.float32), torch.tensor(targets, dtype=torch.float32)\n",
    "\n",
    "\n",
    "# reconstruct_data = create_sequences(res[0], 6, 3)"
   ]
  },
  {
   "cell_type": "code",
   "execution_count": 8,
   "metadata": {},
   "outputs": [],
   "source": [
    "# Loop thru all subjects to stack the data\n",
    "X_stack_tensor = []\n",
    "y_stack_tensor = []\n",
    "\n",
    "for ii in res:\n",
    "    reconstruct_data = create_sequences(ii, 6, 3) # sequence length = 6(30min), pediction_horizon = 3(predict 15 minutes ahead)\n",
    "    \n",
    "    X_stack_tensor.append(reconstruct_data[0])\n",
    "    y_stack_tensor.append(reconstruct_data[1])"
   ]
  },
  {
   "cell_type": "code",
   "execution_count": 9,
   "metadata": {},
   "outputs": [
    {
     "name": "stdout",
     "output_type": "stream",
     "text": [
      "6206\n",
      "6206\n"
     ]
    }
   ],
   "source": [
    "all_sequences = torch.cat(X_stack_tensor, dim=0) # yy_0 includes the X\n",
    "all_targets = torch.cat(y_stack_tensor, dim=0) # yy_1 includes the y label\n",
    "\n",
    "print(len(all_sequences))\n",
    "print(len(all_targets))\n",
    "\n",
    "# Convert to numpy for train_test_split if needed\n",
    "from sklearn.model_selection import train_test_split\n",
    "sequences_train, sequences_val, targets_train, targets_val = train_test_split(\n",
    "    all_sequences, all_targets, test_size=0.2, shuffle=False\n",
    ")"
   ]
  },
  {
   "cell_type": "code",
   "execution_count": 10,
   "metadata": {},
   "outputs": [],
   "source": [
    "# Create TensorDataset and DataLoader\n",
    "from torch.utils.data import DataLoader, TensorDataset\n",
    "train_dataset = TensorDataset(sequences_train, targets_train)\n",
    "val_dataset = TensorDataset(sequences_val, targets_val)\n",
    "train_data_loader = DataLoader(train_dataset, batch_size=32, shuffle=False)\n",
    "val_data_loader = DataLoader(val_dataset, batch_size=32, shuffle=False)\n"
   ]
  },
  {
   "cell_type": "markdown",
   "metadata": {},
   "source": [
    "# Single RNN"
   ]
  },
  {
   "cell_type": "code",
   "execution_count": 11,
   "metadata": {},
   "outputs": [],
   "source": [
    "# Create TensorDataset and DataLoader\n",
    "from torch.utils.data import DataLoader, TensorDataset\n",
    "train_dataset = TensorDataset(sequences_train, targets_train)\n",
    "val_dataset = TensorDataset(sequences_val, targets_val)\n",
    "train_data_loader = DataLoader(train_dataset, batch_size=32, shuffle=False)\n",
    "val_data_loader = DataLoader(val_dataset, batch_size=32, shuffle=False)"
   ]
  },
  {
   "cell_type": "code",
   "execution_count": 12,
   "metadata": {},
   "outputs": [],
   "source": [
    "import torch\n",
    "import torch.nn as nn\n",
    "from torch.utils.data import DataLoader, TensorDataset\n",
    "\n",
    "class RNNModel(nn.Module):\n",
    "    def __init__(self, input_size, hidden_size, output_size):\n",
    "        super(RNNModel, self).__init__()\n",
    "        self.rnn = nn.RNN(input_size, hidden_size, batch_first=True, nonlinearity='relu')\n",
    "        self.fc = nn.Linear(hidden_size, output_size)\n",
    "    \n",
    "    def forward(self, x):\n",
    "        out, _ = self.rnn(x)\n",
    "        # print(\"Shape after RNN:\", out.shape)  # Debugging: Check shape after RNN\n",
    "        # out = out[:, -1, :]\n",
    "        # print(\"Shape before FC:\", out.shape)  # Debugging: Check shape before FC\n",
    "        out = self.fc(out)\n",
    "        return out"
   ]
  },
  {
   "cell_type": "code",
   "execution_count": 13,
   "metadata": {},
   "outputs": [],
   "source": [
    "# Model parameters\n",
    "input_size = sequences_train.shape[-1]  # Number of features\n",
    "hidden_size = 100\n",
    "output_size = 1\n",
    "\n",
    "# Model instantiation\n",
    "model_rnn = RNNModel(input_size, hidden_size, output_size)\n",
    "\n",
    "# Loss and optimizer\n",
    "criterion = nn.MSELoss()\n",
    "optimizer = torch.optim.Adam(model_rnn.parameters())"
   ]
  },
  {
   "cell_type": "code",
   "execution_count": null,
   "metadata": {},
   "outputs": [],
   "source": [
    "# Assuming x_train_uni and y_train_uni are torch tensors and properly formatted\n",
    "# Training and validation loop\n",
    "def train_epoch(model, loader, optimizer):\n",
    "    model.train()\n",
    "    total_loss = 0\n",
    "    for data, target in loader:\n",
    "        optimizer.zero_grad()\n",
    "        output = model(data)\n",
    "        loss = criterion(output, target)\n",
    "        loss.backward()\n",
    "        optimizer.step()\n",
    "        total_loss += loss.item()\n",
    "    return total_loss / len(loader)\n",
    "\n",
    "def validate_epoch(model, loader):\n",
    "    model.eval()\n",
    "    total_loss = 0\n",
    "    with torch.no_grad():\n",
    "        for data, target in loader:\n",
    "            output = model(data)\n",
    "            loss = criterion(output, target)\n",
    "            total_loss += loss.item()\n",
    "    return total_loss / len(loader)\n",
    "\n",
    "# Run training and validation\n",
    "\n",
    "# device = torch.device(\"cuda\" if torch.cuda.is_available() else \"cpu\")\n",
    "# model_rnn.to(device)\n",
    "num_epochs = 100\n",
    "for epoch in range(num_epochs):\n",
    "    train_loss = train_epoch(model_rnn, train_data_loader, optimizer)\n",
    "    val_loss = validate_epoch(model_rnn, val_data_loader)\n",
    "    print(f'Epoch {epoch+1}: Train Loss {train_loss:.4f}, Val Loss {val_loss:.4f}')\n"
   ]
  },
  {
   "cell_type": "code",
   "execution_count": 15,
   "metadata": {},
   "outputs": [],
   "source": [
    "import torch\n",
    "import matplotlib.pyplot as plt\n",
    "\n",
    "def get_predictions_and_targets(model, data_loader):\n",
    "    device = torch.device(\"cuda\" if torch.cuda.is_available() else \"cpu\")\n",
    "    model.to(device)  # Ensure model is on the right device\n",
    "    model.eval()\n",
    "    predictions = []\n",
    "    targets = []\n",
    "    with torch.no_grad():\n",
    "        for data, target in data_loader:\n",
    "            data, target = data.to(device), target.to(device)  # Move data & target to the same device as model\n",
    "            output = model(data)\n",
    "            predictions.extend(output.detach().cpu().numpy())  # Move output back to CPU for storage/manipulation\n",
    "            targets.extend(target.detach().cpu().numpy())\n",
    "    return predictions, targets\n",
    "\n",
    "# Assuming model and val_loader are already defined\n",
    "predictions, targets = get_predictions_and_targets(model_rnn, val_data_loader)\n"
   ]
  },
  {
   "cell_type": "code",
   "execution_count": 16,
   "metadata": {},
   "outputs": [
    {
     "data": {
      "image/png": "[encoded data removed]",
      "text/plain": [
       "<Figure size 1000x600 with 1 Axes>"
      ]
     },
     "metadata": {},
     "output_type": "display_data"
    }
   ],
   "source": [
    "\n",
    "\n",
    "def plot_predictions_vs_targets(predictions, targets):\n",
    "    plt.figure(figsize=(10, 6))\n",
    "    plt.plot(targets, label='Ground Truth', color='blue')\n",
    "    plt.plot(predictions, label='Predictions', color='red', linestyle='--')\n",
    "    plt.scatter(range(len(targets)), targets, color='blue', s=10)  # Ground truth points\n",
    "    plt.scatter(range(len(predictions)), predictions, color='red', s=10)  # Prediction points\n",
    "    plt.title('Model Predictions vs Ground Truth')\n",
    "    plt.xlabel('Sample Index')\n",
    "    plt.ylabel('Output Value')\n",
    "    plt.legend()\n",
    "    plt.show()\n",
    "\n",
    "plot_predictions_vs_targets(predictions[200:300], targets[200:300])"
   ]
  },
  {
   "cell_type": "code",
   "execution_count": null,
   "metadata": {},
   "outputs": [],
   "source": [
    "import torch\n",
    "from sklearn.metrics import mean_squared_error\n",
    "\n",
    "def rmse_pytorch(predictions, targets):\n",
    "    # Convert predictions and targets to float tensors if they are not already\n",
    "    predictions = predictions.float()\n",
    "    targets = targets.float()\n",
    "    \n",
    "    # Calculate MSE\n",
    "    # mse = torch.mean((predictions - targets) ** 2)\n",
    "    mse = mean_squared_error(targets, predictions)\n",
    "    \n",
    "    # Calculate RMSE\n",
    "    rmse = np.sqrt(mse)\n",
    "    return rmse\n",
    "\n",
    "# Example usage:\n",
    "# predictions, targets should be PyTorch tensors\n",
    "# Assuming predictions and targets are already defined:\n",
    "rmse_value = rmse_pytorch(torch.tensor(predictions), torch.tensor(targets))\n",
    "print(f'RMSE: {rmse_value.item()}')"
   ]
  },
  {
   "cell_type": "markdown",
   "metadata": {},
   "source": [
    "# For all subjects"
   ]
  },
  {
   "cell_type": "code",
   "execution_count": 8,
   "metadata": {},
   "outputs": [],
   "source": [
    "sequence_window = 12 # *5\n",
    "prediction_horizon = 6 # *5 minute ahead\n",
    "hidden_size = 256\n",
    "output_size = 1\n",
    "num_epochs = 100"
   ]
  },
  {
   "cell_type": "code",
   "execution_count": 10,
   "metadata": {},
   "outputs": [],
   "source": [
    "class RNNModel(nn.Module):\n",
    "    def __init__(self, input_size, hidden_size, output_size):\n",
    "        super(RNNModel, self).__init__()\n",
    "        self.rnn = nn.RNN(input_size, hidden_size, batch_first=True, nonlinearity='relu')\n",
    "        self.fc = nn.Linear(hidden_size, output_size)\n",
    "    \n",
    "    def forward(self, x):\n",
    "        out, _ = self.rnn(x)\n",
    "        # print(\"Shape after RNN:\", out.shape)  # Debugging: Check shape after RNN\n",
    "        # out = out[:, -1, :]\n",
    "        # print(\"Shape before FC:\", out.shape)  # Debugging: Check shape before FC\n",
    "        out = self.fc(out)\n",
    "        return out"
   ]
  },
  {
   "cell_type": "code",
   "execution_count": 12,
   "metadata": {},
   "outputs": [],
   "source": [
    "# Model parameters from Paper 4\n",
    "sequence_window = 6  # 12 * 5 = 60 minutes\n",
    "prediction_horizon = 6  # 6 * 5 = 30 minutes ahead\n",
    "hidden_size = 256  # Hidden size as described for the best model in the paper\n",
    "output_size = 1  # Output is the predicted glucose level\n",
    "num_epochs = 100  # Number of epochs for training\n",
    "\n",
    "class StackedLSTMModel(nn.Module):\n",
    "    def __init__(self, input_features, hidden_dim, output_features, num_layers=2):\n",
    "        super(StackedLSTMModel, self).__init__()\n",
    "        self.lstm = nn.LSTM(input_features, hidden_dim, num_layers=num_layers, batch_first=True)\n",
    "        self.fc = nn.Linear(hidden_dim, output_features)\n",
    "        self.dropout = nn.Dropout(0.3)  # Adding dropout for regularization\n",
    "    \n",
    "    def forward(self, x):\n",
    "        # Forward pass through LSTM layers\n",
    "        lstm_out, _ = self.lstm(x)\n",
    "        # Apply dropout to the output of the last LSTM layer\n",
    "        lstm_out = self.dropout(lstm_out)  # Taking the output of the last time step\n",
    "        # Pass the output through the fully connected layer\n",
    "        y_pred = self.fc(lstm_out)\n",
    "        return y_pred"
   ]
  },
  {
   "cell_type": "code",
   "execution_count": 11,
   "metadata": {},
   "outputs": [],
   "source": [
    "def train_epoch(model, loader, optimizer, device):\n",
    "    model.train()\n",
    "    total_loss = 0\n",
    "    for data, target in loader:\n",
    "        data, target = data.to(device), target.to(device)  # Move data to the correct device\n",
    "        optimizer.zero_grad()\n",
    "        \n",
    "        output = model(data)\n",
    "        loss = criterion(output, target)\n",
    "        loss.backward()\n",
    "        optimizer.step()\n",
    "        total_loss += loss.item()\n",
    "    return total_loss / len(loader)\n",
    "\n",
    "def validate_epoch(model, loader, device):\n",
    "    model.eval()\n",
    "    total_loss = 0\n",
    "    with torch.no_grad():\n",
    "        for data, target in loader:\n",
    "            data, target = data.to(device), target.to(device)  # Move data to the correct device\n",
    "            output = model(data)\n",
    "            loss = criterion(output, target)\n",
    "            total_loss += loss.item()\n",
    "    return total_loss / len(loader)"
   ]
  },
  {
   "cell_type": "code",
   "execution_count": 12,
   "metadata": {},
   "outputs": [],
   "source": [
    "def get_predictions_and_targets(model, data_loader):\n",
    "    device = torch.device(\"cuda\" if torch.cuda.is_available() else \"cpu\")\n",
    "    model.to(device)  # Ensure model is on the right device\n",
    "    model.eval()\n",
    "    predictions = []\n",
    "    targets = []\n",
    "    with torch.no_grad():\n",
    "        for data, target in data_loader:\n",
    "            data, target = data.to(device), target.to(device)  # Move data & target to the same device as model\n",
    "            output = model(data)\n",
    "            predictions.extend(output.detach().cpu().numpy())  # Move output back to CPU for storage/manipulation\n",
    "            targets.extend(target.detach().cpu().numpy())\n",
    "    return predictions, targets\n"
   ]
  },
  {
   "cell_type": "code",
   "execution_count": 13,
   "metadata": {},
   "outputs": [],
   "source": [
    "from sklearn.metrics import mean_squared_error\n",
    "\n",
    "def rmse_pytorch(predictions, targets):\n",
    "    # Convert predictions and targets to float tensors if they are not already\n",
    "    predictions = predictions.float()\n",
    "    targets = targets.float()\n",
    "    \n",
    "    # Calculate MSE\n",
    "    # mse = torch.mean((predictions - targets) ** 2)\n",
    "    mse = mean_squared_error(targets, predictions)\n",
    "    \n",
    "    # Calculate RMSE\n",
    "    rmse = np.sqrt(mse)\n",
    "    return rmse\n",
    "\n"
   ]
  },
  {
   "cell_type": "code",
   "execution_count": null,
   "metadata": {},
   "outputs": [],
   "source": [
    "device = torch.device(\"cuda\" if torch.cuda.is_available() else \"cpu\")\n",
    "print(f\"Using {device} device.\")\n",
    "rmse_list = []\n",
    "\n",
    "for subj in train_file_names:\n",
    "    # res = preprocess_DiaTrend(f\"../DiaTrend/train/{subj}.csv\") # for Diatrend, it's csv, for \n",
    "    res = preprocess_t1dexi(f\"../LB_split/training/{subj}.csv\")\n",
    "    # reconstruct_data = create_sequences(res[0], sequence_window, prediction_horizon)\n",
    "    # Loop thru all subjects to stack the data\n",
    "    X_stack_tensor = []\n",
    "    y_stack_tensor = []\n",
    "\n",
    "    for ii in res:\n",
    "        reconstruct_data = create_sequences(ii, sequence_window, prediction_horizon) # sequence length = 6(30min), pediction_horizon = 3(predict 15 minutes ahead)\n",
    "        X_stack_tensor.append(reconstruct_data[0])\n",
    "        y_stack_tensor.append(reconstruct_data[1])\n",
    "    \n",
    "    all_sequences = torch.cat(X_stack_tensor, dim=0) # yy_0 includes the X\n",
    "    all_targets = torch.cat(y_stack_tensor, dim=0) # yy_1 includes the y label\n",
    "    sequences_train, sequences_val, targets_train, targets_val = train_test_split(\n",
    "        all_sequences, all_targets, test_size=0.2, shuffle=False\n",
    "    )\n",
    "\n",
    "    # Build the data loader and model\n",
    "    train_dataset = TensorDataset(sequences_train, targets_train)\n",
    "    val_dataset = TensorDataset(sequences_val, targets_val)\n",
    "    train_data_loader = DataLoader(train_dataset, batch_size=32, shuffle=False)\n",
    "    val_data_loader = DataLoader(val_dataset, batch_size=32, shuffle=False)\n",
    "\n",
    "    # Model parameters\n",
    "    input_size = sequences_train.shape[-1]  # Number of features\n",
    "\n",
    "    # Model instantiation\n",
    "    model_rnn = RNNModel(input_size, hidden_size, output_size).to(device)\n",
    "\n",
    "    # Loss and optimizer\n",
    "    # Loss and optimizer\n",
    "    criterion = nn.L1Loss()  # Using L1 Loss to approximate MAPE since PyTorch does not have a direct MAPE function\n",
    "    optimizer = torch.optim.RMSprop(model_rnn.parameters(), lr=0.0001)  # Using RMSprop optimizer with a learning rate of 0.001\n",
    "\n",
    "\n",
    "    # Training\n",
    "    for epoch in range(num_epochs):\n",
    "        train_loss = train_epoch(model_rnn, train_data_loader, optimizer, device)\n",
    "        val_loss = validate_epoch(model_rnn, val_data_loader, device)\n",
    "        # Print every 10 epochs\n",
    "        if (epoch + 1) % 10 == 0:\n",
    "            print(f'Epoch {epoch+1}: Train Loss {train_loss:.4f}, Val Loss {val_loss:.4f}')\n",
    "\n",
    "    # Assuming model and val_loader are already defined\n",
    "    predictions, targets = get_predictions_and_targets(model_rnn, val_data_loader)\n",
    "    rmse_value = rmse_pytorch(torch.tensor(predictions), torch.tensor(targets))\n",
    "    rmse_list.append(rmse_value)\n",
    "    print(f'RMSE: {rmse_value.item()}')\n",
    "    print(f\"=================================================\")\n"
   ]
  }
 ],
 "metadata": {
  "kernelspec": {
   "display_name": "Python 3",
   "language": "python",
   "name": "python3"
  },
  "language_info": {
   "codemirror_mode": {
    "name": "ipython",
    "version": 3
   },
   "file_extension": ".py",
   "mimetype": "text/x-python",
   "name": "python",
   "nbconvert_exporter": "python",
   "pygments_lexer": "ipython3",
   "version": "3.10.5"
  }
 },
 "nbformat": 4,
 "nbformat_minor": 2
}
