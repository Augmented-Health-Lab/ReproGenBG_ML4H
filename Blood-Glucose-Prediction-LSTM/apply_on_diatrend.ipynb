{
 "cells": [
  {
   "cell_type": "code",
   "execution_count": 1,
   "metadata": {},
   "outputs": [],
   "source": [
    "import numpy as np\n",
    "import pandas as pd\n",
    "import matplotlib.pyplot as plt\n",
    "import torch\n",
    "import torch.nn as nn\n",
    "import torch.optim as optim\n",
    "import datetime\n",
    "import os\n",
    "import xml.etree.ElementTree as ET\n",
    "\n",
    "from sklearn.model_selection import train_test_split\n",
    "from torch.utils.data import DataLoader, TensorDataset\n",
    "from sklearn.metrics import mean_squared_error"
   ]
  },
  {
   "cell_type": "markdown",
   "metadata": {},
   "source": [
    "## Top"
   ]
  },
  {
   "cell_type": "code",
   "execution_count": 2,
   "metadata": {},
   "outputs": [
    {
     "name": "stdout",
     "output_type": "stream",
     "text": [
      "CUDA is available! Training on GPU...\n"
     ]
    }
   ],
   "source": [
    "if torch.cuda.is_available():\n",
    "    print(\"CUDA is available! Training on GPU...\")\n",
    "else:\n",
    "    print(\"CUDA is not available. Training on CPU...\")"
   ]
  },
  {
   "cell_type": "code",
   "execution_count": null,
   "metadata": {},
   "outputs": [],
   "source": [
    "# Define the directory path\n",
    "train_directory_path = r'C:\\Users\\username\\OneDrive\\Desktop\\BGprediction\\DiaTrend\\train'  # Use a raw string for paths on Windows\n",
    "\n",
    "# List files without their extensions\n",
    "train_file_names = [os.path.splitext(file)[0] for file in os.listdir(train_directory_path)\n",
    "              if os.path.isfile(os.path.join(train_directory_path, file))]\n",
    "\n",
    "# Print the list of file names\n",
    "print(train_file_names)"
   ]
  },
  {
   "cell_type": "code",
   "execution_count": 3,
   "metadata": {},
   "outputs": [],
   "source": [
    "subject = pd.read_csv(f\"../DiaTrend/train/Subject1_training_data.csv\")"
   ]
  },
  {
   "cell_type": "code",
   "execution_count": 4,
   "metadata": {},
   "outputs": [
    {
     "data": {
      "text/html": [
       "<div>\n",
       "<style scoped>\n",
       "    .dataframe tbody tr th:only-of-type {\n",
       "        vertical-align: middle;\n",
       "    }\n",
       "\n",
       "    .dataframe tbody tr th {\n",
       "        vertical-align: top;\n",
       "    }\n",
       "\n",
       "    .dataframe thead th {\n",
       "        text-align: right;\n",
       "    }\n",
       "</style>\n",
       "<table border=\"1\" class=\"dataframe\">\n",
       "  <thead>\n",
       "    <tr style=\"text-align: right;\">\n",
       "      <th></th>\n",
       "      <th>date</th>\n",
       "      <th>mg/dl</th>\n",
       "    </tr>\n",
       "  </thead>\n",
       "  <tbody>\n",
       "    <tr>\n",
       "      <th>0</th>\n",
       "      <td>2015-12-01 21:01:07.925</td>\n",
       "      <td>160</td>\n",
       "    </tr>\n",
       "    <tr>\n",
       "      <th>1</th>\n",
       "      <td>2015-12-01 21:06:07.043</td>\n",
       "      <td>161</td>\n",
       "    </tr>\n",
       "    <tr>\n",
       "      <th>2</th>\n",
       "      <td>2015-12-01 21:11:08.277</td>\n",
       "      <td>165</td>\n",
       "    </tr>\n",
       "    <tr>\n",
       "      <th>3</th>\n",
       "      <td>2015-12-01 21:16:08.223</td>\n",
       "      <td>162</td>\n",
       "    </tr>\n",
       "    <tr>\n",
       "      <th>4</th>\n",
       "      <td>2015-12-01 21:21:07.953</td>\n",
       "      <td>163</td>\n",
       "    </tr>\n",
       "    <tr>\n",
       "      <th>5</th>\n",
       "      <td>2015-12-01 21:26:07.943</td>\n",
       "      <td>166</td>\n",
       "    </tr>\n",
       "    <tr>\n",
       "      <th>6</th>\n",
       "      <td>2015-12-01 21:31:13.902</td>\n",
       "      <td>167</td>\n",
       "    </tr>\n",
       "    <tr>\n",
       "      <th>7</th>\n",
       "      <td>2015-12-01 21:36:06.755</td>\n",
       "      <td>164</td>\n",
       "    </tr>\n",
       "    <tr>\n",
       "      <th>8</th>\n",
       "      <td>2015-12-01 21:41:09.283</td>\n",
       "      <td>162</td>\n",
       "    </tr>\n",
       "    <tr>\n",
       "      <th>9</th>\n",
       "      <td>2015-12-01 21:46:07.121</td>\n",
       "      <td>150</td>\n",
       "    </tr>\n",
       "  </tbody>\n",
       "</table>\n",
       "</div>"
      ],
      "text/plain": [
       "                      date  mg/dl\n",
       "0  2015-12-01 21:01:07.925    160\n",
       "1  2015-12-01 21:06:07.043    161\n",
       "2  2015-12-01 21:11:08.277    165\n",
       "3  2015-12-01 21:16:08.223    162\n",
       "4  2015-12-01 21:21:07.953    163\n",
       "5  2015-12-01 21:26:07.943    166\n",
       "6  2015-12-01 21:31:13.902    167\n",
       "7  2015-12-01 21:36:06.755    164\n",
       "8  2015-12-01 21:41:09.283    162\n",
       "9  2015-12-01 21:46:07.121    150"
      ]
     },
     "execution_count": 4,
     "metadata": {},
     "output_type": "execute_result"
    }
   ],
   "source": [
    "subject.head(10)"
   ]
  },
  {
   "cell_type": "code",
   "execution_count": 3,
   "metadata": {},
   "outputs": [],
   "source": [
    "def preprocess_DiaTrend(path):\n",
    "\n",
    "    subject = pd.read_csv(path)\n",
    "    subject['date'] = pd.to_datetime(subject['date'], errors='coerce')  # Convert 'date' column to datetime if not already\n",
    "    # print(subject['date'][0])\n",
    "    subject.sort_values('date', inplace=True)  # Sort the DataFrame by the 'date' column\n",
    "\n",
    "    # Assuming self.interval_timedelta is set, for example:\n",
    "    interval_timedelta = datetime.timedelta(minutes=6)  # Example timedelta of 6 minutes, providing a range for latency\n",
    "\n",
    "    # Create a list to store the results\n",
    "    res = []\n",
    "\n",
    "    # Initialize the first group\n",
    "    if not subject.empty:\n",
    "        current_group = [subject.iloc[0]['mg/dl']]\n",
    "        last_time = subject.iloc[0]['date']\n",
    "\n",
    "    # Iterate over rows in DataFrame starting from the second row\n",
    "    for index, row in subject.iloc[1:].iterrows():\n",
    "        current_time = row['date']\n",
    "        if (current_time - last_time) <= interval_timedelta:\n",
    "            # If the time difference is within the limit, add to the current group\n",
    "            current_group.append(row['mg/dl'])\n",
    "        else:\n",
    "            # Otherwise, start a new group\n",
    "            res.append(current_group)\n",
    "            current_group = [row['mg/dl']]\n",
    "        last_time = current_time\n",
    "\n",
    "    # Add the last group if it's not empty\n",
    "    if current_group:\n",
    "        res.append(current_group)\n",
    "    \n",
    "    # Filter out groups with fewer than 10 glucose readings\n",
    "    res = [group for group in res if len(group) >= 10]\n",
    "\n",
    "    return res"
   ]
  },
  {
   "cell_type": "code",
   "execution_count": 4,
   "metadata": {},
   "outputs": [],
   "source": [
    "def preprocess_OhioT1DM(path):\n",
    "    tree = ET.parse(path)\n",
    "    root = tree.getroot()\n",
    "    interval_timedelta = datetime.timedelta(minutes=6)\n",
    "\n",
    "    res = []\n",
    "    for item in root.findall(\"glucose_level\"):\n",
    "        entry0 = item[0].attrib\n",
    "        res.append([float(entry0[\"value\"])])\n",
    "        for i in range(1, len(item)):\n",
    "            last_entry = item[i - 1].attrib\n",
    "            entry = item[i].attrib\n",
    "            t1 = datetime.datetime.strptime(entry[\"ts\"], \"%d-%m-%Y %H:%M:%S\")\n",
    "            t0 = datetime.datetime.strptime(last_entry[\"ts\"], \"%d-%m-%Y %H:%M:%S\")\n",
    "            delt = t1 - t0\n",
    "            if delt <= interval_timedelta:\n",
    "                res[-1].append(float(entry[\"value\"]))\n",
    "            else:\n",
    "                res.append([float(entry[\"value\"])])\n",
    "    return res\n",
    "\n"
   ]
  },
  {
   "cell_type": "code",
   "execution_count": null,
   "metadata": {},
   "outputs": [],
   "source": [
    "res = preprocess_DiaTrend(f\"../DiaTrend/train/Subject2_training_data.csv\")"
   ]
  },
  {
   "cell_type": "code",
   "execution_count": 5,
   "metadata": {},
   "outputs": [],
   "source": [
    "res = preprocess_OhioT1DM(f\"../OhioT1DM/2018/train/559-ws-training.xml\")"
   ]
  },
  {
   "cell_type": "code",
   "execution_count": null,
   "metadata": {},
   "outputs": [],
   "source": [
    "def create_sequences(data, seq_length, pred_step):\n",
    "    \"\"\"\n",
    "    Create sequences and targets from time series data.\n",
    "\n",
    "    Args:\n",
    "    data (list or ndarray): The time series data.\n",
    "    seq_length (int): Length of the sequence.\n",
    "    pred_step (int): Steps ahead to predict.\n",
    "\n",
    "    Returns:\n",
    "    tuple of torch.Tensors: sequences and targets.\n",
    "    \"\"\"\n",
    "    sequences = []\n",
    "    targets = []\n",
    "    for i in range(len(data) - seq_length - pred_step + 1):\n",
    "        sequences.append(data[i:i+seq_length])\n",
    "        targets.append(data[i+seq_length+pred_step-1])\n",
    "    return torch.tensor(sequences, dtype=torch.float32), torch.tensor(targets, dtype=torch.float32)\n",
    "\n",
    "\n",
    "reconstruct_data = create_sequences(res[0], 6, 3)\n",
    "reconstruct_data"
   ]
  },
  {
   "cell_type": "code",
   "execution_count": null,
   "metadata": {},
   "outputs": [],
   "source": [
    "reconstruct_data[1]"
   ]
  },
  {
   "cell_type": "code",
   "execution_count": 8,
   "metadata": {},
   "outputs": [],
   "source": [
    "# Loop thru all subjects to stack the data\n",
    "X_stack_tensor = []\n",
    "y_stack_tensor = []\n",
    "\n",
    "for ii in res:\n",
    "    reconstruct_data = create_sequences(ii, 6, 3) # sequence length = 6(30min), pediction_horizon = 3(predict 15 minutes ahead)\n",
    "    \n",
    "    X_stack_tensor.append(reconstruct_data[0])\n",
    "    y_stack_tensor.append(reconstruct_data[1])"
   ]
  },
  {
   "cell_type": "code",
   "execution_count": 9,
   "metadata": {},
   "outputs": [
    {
     "data": {
      "text/plain": [
       "43"
      ]
     },
     "execution_count": 9,
     "metadata": {},
     "output_type": "execute_result"
    }
   ],
   "source": [
    "len(X_stack_tensor)"
   ]
  },
  {
   "cell_type": "code",
   "execution_count": 10,
   "metadata": {},
   "outputs": [
    {
     "name": "stdout",
     "output_type": "stream",
     "text": [
      "10452\n",
      "10452\n"
     ]
    }
   ],
   "source": [
    "all_sequences = torch.cat(X_stack_tensor, dim=0) # yy_0 includes the X\n",
    "all_targets = torch.cat(y_stack_tensor, dim=0) # yy_1 includes the y label\n",
    "\n",
    "print(len(all_sequences))\n",
    "print(len(all_targets))"
   ]
  },
  {
   "cell_type": "code",
   "execution_count": 11,
   "metadata": {},
   "outputs": [],
   "source": [
    "# Convert to numpy for train_test_split if needed\n",
    "from sklearn.model_selection import train_test_split\n",
    "sequences_train, sequences_val, targets_train, targets_val = train_test_split(\n",
    "    all_sequences, all_targets, test_size=0.2, shuffle=False\n",
    ")\n",
    "\n",
    "# # Convert numpy arrays back to torch tensors\n",
    "# sequences_train = torch.from_numpy(sequences_train)\n",
    "# sequences_val = torch.from_numpy(sequences_val)\n",
    "# targets_train = torch.from_numpy(targets_train)\n",
    "\n",
    "# targets_val = torch.from_numpy(targets_val)\n",
    "    "
   ]
  },
  {
   "cell_type": "code",
   "execution_count": 12,
   "metadata": {},
   "outputs": [
    {
     "data": {
      "text/plain": [
       "torch.Size([8361, 6])"
      ]
     },
     "execution_count": 12,
     "metadata": {},
     "output_type": "execute_result"
    }
   ],
   "source": [
    "sequences_train.shape"
   ]
  },
  {
   "cell_type": "code",
   "execution_count": 13,
   "metadata": {},
   "outputs": [
    {
     "data": {
      "text/plain": [
       "torch.Size([8361])"
      ]
     },
     "execution_count": 13,
     "metadata": {},
     "output_type": "execute_result"
    }
   ],
   "source": [
    "targets_train.shape"
   ]
  },
  {
   "cell_type": "code",
   "execution_count": 14,
   "metadata": {},
   "outputs": [
    {
     "data": {
      "text/plain": [
       "torch.Size([2091, 6])"
      ]
     },
     "execution_count": 14,
     "metadata": {},
     "output_type": "execute_result"
    }
   ],
   "source": [
    "sequences_val.shape"
   ]
  },
  {
   "cell_type": "markdown",
   "metadata": {},
   "source": [
    "## RNN"
   ]
  },
  {
   "cell_type": "code",
   "execution_count": null,
   "metadata": {},
   "outputs": [],
   "source": [
    "# Create TensorDataset and DataLoader\n",
    "from torch.utils.data import DataLoader, TensorDataset\n",
    "train_dataset = TensorDataset(sequences_train, targets_train)\n",
    "val_dataset = TensorDataset(sequences_val, targets_val)\n",
    "train_data_loader = DataLoader(train_dataset, batch_size=32, shuffle=False)\n",
    "val_data_loader = DataLoader(val_dataset, batch_size=32, shuffle=False)\n"
   ]
  },
  {
   "cell_type": "code",
   "execution_count": 7,
   "metadata": {},
   "outputs": [],
   "source": [
    "import torch\n",
    "import torch.nn as nn\n",
    "from torch.utils.data import DataLoader, TensorDataset\n",
    "\n",
    "class RNNModel(nn.Module):\n",
    "    def __init__(self, input_size, hidden_size, output_size):\n",
    "        super(RNNModel, self).__init__()\n",
    "        self.rnn = nn.RNN(input_size, hidden_size, batch_first=True, nonlinearity='relu')\n",
    "        self.fc = nn.Linear(hidden_size, output_size)\n",
    "    \n",
    "    def forward(self, x):\n",
    "        out, _ = self.rnn(x)\n",
    "        # print(\"Shape after RNN:\", out.shape)  # Debugging: Check shape after RNN\n",
    "        # out = out[:, -1, :]\n",
    "        # print(\"Shape before FC:\", out.shape)  # Debugging: Check shape before FC\n",
    "        out = self.fc(out)\n",
    "        return out\n"
   ]
  },
  {
   "cell_type": "code",
   "execution_count": 17,
   "metadata": {},
   "outputs": [],
   "source": [
    "# Model parameters\n",
    "input_size = sequences_train.shape[-1]  # Number of features\n",
    "hidden_size = 50\n",
    "output_size = 1\n",
    "\n",
    "# Model instantiation\n",
    "model_rnn = RNNModel(input_size, hidden_size, output_size)\n",
    "\n",
    "# Loss and optimizer\n",
    "criterion = nn.MSELoss()\n",
    "optimizer = torch.optim.Adam(model_rnn.parameters())\n"
   ]
  },
  {
   "cell_type": "code",
   "execution_count": null,
   "metadata": {},
   "outputs": [],
   "source": [
    "# Assuming x_train_uni and y_train_uni are torch tensors and properly formatted\n",
    "# Training and validation loop\n",
    "def train_epoch(model, loader, optimizer):\n",
    "    model.train()\n",
    "    total_loss = 0\n",
    "    for data, target in loader:\n",
    "        optimizer.zero_grad()\n",
    "        output = model(data)\n",
    "        loss = criterion(output, target)\n",
    "        loss.backward()\n",
    "        optimizer.step()\n",
    "        total_loss += loss.item()\n",
    "    return total_loss / len(loader)\n",
    "\n",
    "def validate_epoch(model, loader):\n",
    "    model.eval()\n",
    "    total_loss = 0\n",
    "    with torch.no_grad():\n",
    "        for data, target in loader:\n",
    "            output = model(data)\n",
    "            loss = criterion(output, target)\n",
    "            total_loss += loss.item()\n",
    "    return total_loss / len(loader)\n",
    "\n",
    "# Run training and validation\n",
    "\n",
    "# device = torch.device(\"cuda\" if torch.cuda.is_available() else \"cpu\")\n",
    "# model_rnn.to(device)\n",
    "num_epochs = 100\n",
    "for epoch in range(num_epochs):\n",
    "    train_loss = train_epoch(model_rnn, train_data_loader, optimizer)\n",
    "    val_loss = validate_epoch(model_rnn, val_data_loader)\n",
    "    print(f'Epoch {epoch+1}: Train Loss {train_loss:.4f}, Val Loss {val_loss:.4f}')\n"
   ]
  },
  {
   "cell_type": "code",
   "execution_count": 19,
   "metadata": {},
   "outputs": [],
   "source": [
    "import torch\n",
    "import matplotlib.pyplot as plt\n",
    "\n",
    "def get_predictions_and_targets(model, data_loader):\n",
    "    device = torch.device(\"cuda\" if torch.cuda.is_available() else \"cpu\")\n",
    "    model.to(device)  # Ensure model is on the right device\n",
    "    model.eval()\n",
    "    predictions = []\n",
    "    targets = []\n",
    "    with torch.no_grad():\n",
    "        for data, target in data_loader:\n",
    "            data, target = data.to(device), target.to(device)  # Move data & target to the same device as model\n",
    "            output = model(data)\n",
    "            predictions.extend(output.detach().cpu().numpy())  # Move output back to CPU for storage/manipulation\n",
    "            targets.extend(target.detach().cpu().numpy())\n",
    "    return predictions, targets\n",
    "\n",
    "# Assuming model and val_loader are already defined\n",
    "predictions, targets = get_predictions_and_targets(model_rnn, val_data_loader)\n",
    "\n"
   ]
  },
  {
   "cell_type": "code",
   "execution_count": 20,
   "metadata": {},
   "outputs": [
    {
     "data": {
      "image/png": "[encoded data removed]",
      "text/plain": [
       "<Figure size 1000x600 with 1 Axes>"
      ]
     },
     "metadata": {},
     "output_type": "display_data"
    }
   ],
   "source": [
    "import matplotlib.pyplot as plt\n",
    "\n",
    "def plot_predictions_vs_targets(predictions, targets):\n",
    "    plt.figure(figsize=(10, 6))\n",
    "    plt.plot(targets, label='Ground Truth', color='blue')\n",
    "    plt.plot(predictions, label='Predictions', color='red', linestyle='--')\n",
    "    plt.scatter(range(len(targets)), targets, color='blue', s=10)  # Ground truth points\n",
    "    plt.scatter(range(len(predictions)), predictions, color='red', s=10)  # Prediction points\n",
    "    plt.title('Model Predictions vs Ground Truth')\n",
    "    plt.xlabel('Sample Index')\n",
    "    plt.ylabel('Output Value')\n",
    "    plt.legend()\n",
    "    plt.show()\n",
    "\n",
    "plot_predictions_vs_targets(predictions[200:300], targets[200:300])\n"
   ]
  },
  {
   "cell_type": "code",
   "execution_count": 21,
   "metadata": {},
   "outputs": [
    {
     "name": "stdout",
     "output_type": "stream",
     "text": [
      "RMSE: 33.85307693481445\n"
     ]
    },
    {
     "name": "stderr",
     "output_type": "stream",
     "text": [
      "C:\\Users\\username\\AppData\\Local\\Temp\\ipykernel_28444\\1082537536.py:20: UserWarning: Creating a tensor from a list of numpy.ndarrays is extremely slow. Please consider converting the list to a single numpy.ndarray with numpy.array() before converting to a tensor. (Triggered internally at ..\\torch\\csrc\\utils\\tensor_new.cpp:278.)\n",
      "  rmse_value = rmse_pytorch(torch.tensor(predictions), torch.tensor(targets))\n"
     ]
    }
   ],
   "source": [
    "import torch\n",
    "from sklearn.metrics import mean_squared_error\n",
    "\n",
    "def rmse_pytorch(predictions, targets):\n",
    "    # Convert predictions and targets to float tensors if they are not already\n",
    "    predictions = predictions.float()\n",
    "    targets = targets.float()\n",
    "    \n",
    "    # Calculate MSE\n",
    "    # mse = torch.mean((predictions - targets) ** 2)\n",
    "    mse = mean_squared_error(targets, predictions)\n",
    "    \n",
    "    # Calculate RMSE\n",
    "    rmse = np.sqrt(mse)\n",
    "    return rmse\n",
    "\n",
    "# Example usage:\n",
    "# predictions, targets should be PyTorch tensors\n",
    "# Assuming predictions and targets are already defined:\n",
    "rmse_value = rmse_pytorch(torch.tensor(predictions), torch.tensor(targets))\n",
    "print(f'RMSE: {rmse_value.item()}')\n"
   ]
  },
  {
   "cell_type": "code",
   "execution_count": 24,
   "metadata": {},
   "outputs": [
    {
     "data": {
      "text/plain": [
       "Text(0.5, 1.0, 'Simple RNN Normal Q-Q Plot')"
      ]
     },
     "execution_count": 24,
     "metadata": {},
     "output_type": "execute_result"
    },
    {
     "data": {
      "image/png": "[encoded data removed]",
      "text/plain": [
       "<Figure size 640x480 with 1 Axes>"
      ]
     },
     "metadata": {},
     "output_type": "display_data"
    }
   ],
   "source": [
    "from scipy.stats import probplot\n",
    "\n",
    "residuals = [targets[i]-predictions[i] for i in range(len(predictions))]\n",
    "converted_list = [float(arr.item()) for arr in predictions]\n",
    "residuals = np.array(targets) - np.array(converted_list)\n",
    "probplot(residuals,dist=\"norm\",plot=plt)\n",
    "plt.title(\"Simple RNN Normal Q-Q Plot\")"
   ]
  },
  {
   "cell_type": "code",
   "execution_count": 25,
   "metadata": {},
   "outputs": [
    {
     "data": {
      "text/plain": [
       "30.640112"
      ]
     },
     "execution_count": 25,
     "metadata": {},
     "output_type": "execute_result"
    }
   ],
   "source": [
    "from sklearn.metrics import mean_squared_error\n",
    "def RMSE(y_test,y_predict):\n",
    "    return np.sqrt(mean_squared_error(y_test,y_predict))\n",
    "\n",
    "RMSE(targets, predictions)"
   ]
  },
  {
   "cell_type": "markdown",
   "metadata": {},
   "source": [
    "## For all subjects"
   ]
  },
  {
   "cell_type": "code",
   "execution_count": 3,
   "metadata": {},
   "outputs": [],
   "source": [
    "sequence_window = 12 # *5\n",
    "prediction_horizon = 6 # *5 minute ahead\n",
    "hidden_size = 256\n",
    "output_size = 1\n",
    "num_epochs = 100"
   ]
  },
  {
   "cell_type": "code",
   "execution_count": 4,
   "metadata": {},
   "outputs": [],
   "source": [
    "def preprocess_DiaTrend(path):\n",
    "\n",
    "    subject = pd.read_csv(path)\n",
    "    subject['date'] = pd.to_datetime(subject['date'], errors='coerce')  # Convert 'date' column to datetime if not already\n",
    "    # print(subject['date'][0])\n",
    "    subject.sort_values('date', inplace=True)  # Sort the DataFrame by the 'date' column\n",
    "\n",
    "    # Assuming self.interval_timedelta is set, for example:\n",
    "    interval_timedelta = datetime.timedelta(minutes=6)  # Example timedelta of 6 minutes, providing a range for latency\n",
    "\n",
    "    # Create a list to store the results\n",
    "    res = []\n",
    "\n",
    "    # Initialize the first group\n",
    "    if not subject.empty:\n",
    "        current_group = [subject.iloc[0]['mg/dl']]\n",
    "        last_time = subject.iloc[0]['date']\n",
    "\n",
    "    # Iterate over rows in DataFrame starting from the second row\n",
    "    for index, row in subject.iloc[1:].iterrows():\n",
    "        current_time = row['date']\n",
    "        if (current_time - last_time) <= interval_timedelta:\n",
    "            # If the time difference is within the limit, add to the current group\n",
    "            current_group.append(row['mg/dl'])\n",
    "        else:\n",
    "            # Otherwise, start a new group\n",
    "            res.append(current_group)\n",
    "            current_group = [row['mg/dl']]\n",
    "        last_time = current_time\n",
    "\n",
    "    # Add the last group if it's not empty\n",
    "    if current_group:\n",
    "        res.append(current_group)\n",
    "    \n",
    "    # Filter out groups with fewer than 10 glucose readings\n",
    "    res = [group for group in res if len(group) >= 10]\n",
    "\n",
    "    return res"
   ]
  },
  {
   "cell_type": "code",
   "execution_count": 5,
   "metadata": {},
   "outputs": [],
   "source": [
    "def preprocess_OhioT1DM(path):\n",
    "    tree = ET.parse(path)\n",
    "    root = tree.getroot()\n",
    "    interval_timedelta = datetime.timedelta(minutes=6)\n",
    "\n",
    "    res = []\n",
    "    for item in root.findall(\"glucose_level\"):\n",
    "        entry0 = item[0].attrib\n",
    "        res.append([float(entry0[\"value\"])])\n",
    "        for i in range(1, len(item)):\n",
    "            last_entry = item[i - 1].attrib\n",
    "            entry = item[i].attrib\n",
    "            t1 = datetime.datetime.strptime(entry[\"ts\"], \"%d-%m-%Y %H:%M:%S\")\n",
    "            t0 = datetime.datetime.strptime(last_entry[\"ts\"], \"%d-%m-%Y %H:%M:%S\")\n",
    "            delt = t1 - t0\n",
    "            if delt <= interval_timedelta:\n",
    "                res[-1].append(float(entry[\"value\"]))\n",
    "            else:\n",
    "                res.append([float(entry[\"value\"])])\n",
    "    return res\n"
   ]
  },
  {
   "cell_type": "code",
   "execution_count": 6,
   "metadata": {},
   "outputs": [],
   "source": [
    "def create_sequences(data, seq_length, pred_step):\n",
    "    \"\"\"\n",
    "    Create sequences and targets from time series data.\n",
    "\n",
    "    Args:\n",
    "    data (list or ndarray): The time series data.\n",
    "    seq_length (int): Length of the sequence.\n",
    "    pred_step (int): Steps ahead to predict.\n",
    "\n",
    "    Returns:\n",
    "    tuple of torch.Tensors: sequences and targets.\n",
    "    \"\"\"\n",
    "    sequences = []\n",
    "    targets = []\n",
    "    for i in range(len(data) - seq_length - pred_step + 1):\n",
    "        sequences.append(data[i:i+seq_length])\n",
    "        targets.append(data[i+seq_length+pred_step-1])\n",
    "    return torch.tensor(sequences, dtype=torch.float32), torch.tensor(targets, dtype=torch.float32)"
   ]
  },
  {
   "cell_type": "code",
   "execution_count": 7,
   "metadata": {},
   "outputs": [
    {
     "name": "stdout",
     "output_type": "stream",
     "text": [
      "['Subject11_training_data', 'Subject15_training_data', 'Subject26_training_data', 'Subject30_training_data', 'Subject31_training_data', 'Subject36_training_data', 'Subject37_training_data', 'Subject38_training_data', 'Subject39_training_data', 'Subject3_training_data', 'Subject41_training_data', 'Subject42_training_data', 'Subject43_training_data', 'Subject5_training_data', 'Subject6_training_data', 'Subject8_training_data']\n"
     ]
    }
   ],
   "source": [
    "# FOR DIATREND\n",
    "\n",
    "# Define the directory path\n",
    "train_directory_path = r'C:\\Users\\username\\OneDrive\\Desktop\\BGprediction\\DiaTrend\\train'  # Use a raw string for paths on Windows\n",
    "\n",
    "# List files without their extensions\n",
    "train_file_names = [os.path.splitext(file)[0] for file in os.listdir(train_directory_path)\n",
    "              if os.path.isfile(os.path.join(train_directory_path, file))]\n",
    "\n",
    "# Print the list of file names\n",
    "print(train_file_names)"
   ]
  },
  {
   "cell_type": "code",
   "execution_count": 11,
   "metadata": {},
   "outputs": [
    {
     "name": "stdout",
     "output_type": "stream",
     "text": [
      "['559-ws-training', '563-ws-training', '570-ws-training', '575-ws-training', '588-ws-training', '591-ws-training']\n"
     ]
    }
   ],
   "source": [
    "# FOR OHIOT1DM\n",
    "\n",
    "train_directory_path = r'C:\\Users\\username\\OneDrive\\Desktop\\BGprediction\\OhioT1DM\\2018\\train'  # Use a raw string for paths on Windows\n",
    "\n",
    "# List files without their extensions\n",
    "train_file_names = [os.path.splitext(file)[0] for file in os.listdir(train_directory_path)\n",
    "              if os.path.isfile(os.path.join(train_directory_path, file))]\n",
    "\n",
    "# Print the list of file names\n",
    "print(train_file_names)"
   ]
  },
  {
   "cell_type": "code",
   "execution_count": 8,
   "metadata": {},
   "outputs": [],
   "source": [
    "import torch\n",
    "import torch.nn as nn\n",
    "from torch.utils.data import DataLoader, TensorDataset\n",
    "\n",
    "class RNNModel(nn.Module):\n",
    "    def __init__(self, input_size, hidden_size, output_size):\n",
    "        super(RNNModel, self).__init__()\n",
    "        self.rnn = nn.RNN(input_size, hidden_size, batch_first=True, nonlinearity='relu')\n",
    "        self.fc = nn.Linear(hidden_size, output_size)\n",
    "    \n",
    "    def forward(self, x):\n",
    "        out, _ = self.rnn(x)\n",
    "        # print(\"Shape after RNN:\", out.shape)  # Debugging: Check shape after RNN\n",
    "        # out = out[:, -1, :]\n",
    "        # print(\"Shape before FC:\", out.shape)  # Debugging: Check shape before FC\n",
    "        out = self.fc(out)\n",
    "        return out"
   ]
  },
  {
   "cell_type": "code",
   "execution_count": 14,
   "metadata": {},
   "outputs": [],
   "source": [
    "class LSTMModel(nn.Module):\n",
    "    def __init__(self, input_features, hidden_dim, output_features):\n",
    "        super(LSTMModel, self).__init__()\n",
    "        self.lstm = nn.LSTM(input_features, hidden_dim, batch_first=True)\n",
    "        self.relu = nn.ReLU()  # Define ReLU activation\n",
    "        self.fc = nn.Linear(hidden_dim, output_features)\n",
    "    \n",
    "    def forward(self, x):\n",
    "        # Forward pass through LSTM layer\n",
    "        lstm_out, _ = self.lstm(x)\n",
    "        # Apply ReLU activation to the output of the LSTM\n",
    "        lstm_out = self.relu(lstm_out)  # Applying ReLU to only the last time step's output\n",
    "        # Pass the output through the fully connected layer\n",
    "        y_pred = self.fc(lstm_out)\n",
    "        return y_pred"
   ]
  },
  {
   "cell_type": "code",
   "execution_count": 14,
   "metadata": {},
   "outputs": [],
   "source": [
    "# def train_epoch(model, loader, optimizer):\n",
    "#     model.train()\n",
    "#     total_loss = 0\n",
    "#     for data, target in loader:\n",
    "#         optimizer.zero_grad()\n",
    "        \n",
    "#         output = model(data)\n",
    "#         loss = criterion(output, target)\n",
    "#         loss.backward()\n",
    "#         optimizer.step()\n",
    "#         total_loss += loss.item()\n",
    "#     return total_loss / len(loader)\n",
    "\n",
    "# def validate_epoch(model, loader):\n",
    "#     model.eval()\n",
    "#     total_loss = 0\n",
    "#     with torch.no_grad():\n",
    "#         for data, target in loader:\n",
    "#             output = model(data)\n",
    "#             loss = criterion(output, target)\n",
    "#             total_loss += loss.item()\n",
    "#     return total_loss / len(loader)"
   ]
  },
  {
   "cell_type": "code",
   "execution_count": 9,
   "metadata": {},
   "outputs": [],
   "source": [
    "def train_epoch(model, loader, optimizer, device):\n",
    "    model.train()\n",
    "    total_loss = 0\n",
    "    for data, target in loader:\n",
    "        data, target = data.to(device), target.to(device)  # Move data to the correct device\n",
    "        optimizer.zero_grad()\n",
    "        \n",
    "        output = model(data)\n",
    "        loss = criterion(output, target)\n",
    "        loss.backward()\n",
    "        optimizer.step()\n",
    "        total_loss += loss.item()\n",
    "    return total_loss / len(loader)\n",
    "\n",
    "def validate_epoch(model, loader, device):\n",
    "    model.eval()\n",
    "    total_loss = 0\n",
    "    with torch.no_grad():\n",
    "        for data, target in loader:\n",
    "            data, target = data.to(device), target.to(device)  # Move data to the correct device\n",
    "            output = model(data)\n",
    "            loss = criterion(output, target)\n",
    "            total_loss += loss.item()\n",
    "    return total_loss / len(loader)\n",
    "\n",
    "\n",
    "\n"
   ]
  },
  {
   "cell_type": "code",
   "execution_count": 10,
   "metadata": {},
   "outputs": [],
   "source": [
    "def get_predictions_and_targets(model, data_loader):\n",
    "    device = torch.device(\"cuda\" if torch.cuda.is_available() else \"cpu\")\n",
    "    model.to(device)  # Ensure model is on the right device\n",
    "    model.eval()\n",
    "    predictions = []\n",
    "    targets = []\n",
    "    with torch.no_grad():\n",
    "        for data, target in data_loader:\n",
    "            data, target = data.to(device), target.to(device)  # Move data & target to the same device as model\n",
    "            output = model(data)\n",
    "            predictions.extend(output.detach().cpu().numpy())  # Move output back to CPU for storage/manipulation\n",
    "            targets.extend(target.detach().cpu().numpy())\n",
    "    return predictions, targets\n"
   ]
  },
  {
   "cell_type": "code",
   "execution_count": 11,
   "metadata": {},
   "outputs": [],
   "source": [
    "from sklearn.metrics import mean_squared_error\n",
    "\n",
    "def rmse_pytorch(predictions, targets):\n",
    "    # Convert predictions and targets to float tensors if they are not already\n",
    "    predictions = predictions.float()\n",
    "    targets = targets.float()\n",
    "    \n",
    "    # Calculate MSE\n",
    "    # mse = torch.mean((predictions - targets) ** 2)\n",
    "    mse = mean_squared_error(targets, predictions)\n",
    "    \n",
    "    # Calculate RMSE\n",
    "    rmse = np.sqrt(mse)\n",
    "    return rmse\n",
    "\n"
   ]
  },
  {
   "cell_type": "code",
   "execution_count": null,
   "metadata": {},
   "outputs": [],
   "source": [
    "device = torch.device(\"cuda\" if torch.cuda.is_available() else \"cpu\")\n",
    "print(f\"Using {device} device.\")\n",
    "rmse_list = []\n",
    "\n",
    "for subj in train_file_names:\n",
    "    res = preprocess_DiaTrend(f\"../DiaTrend/train/{subj}.csv\") # for Diatrend, it's csv, for \n",
    "    # res = preprocess_OhioT1DM(f\"../OhioT1DM/2018/train/{subj}.xml\")\n",
    "    # reconstruct_data = create_sequences(res[0], sequence_window, prediction_horizon)\n",
    "    # Loop thru all subjects to stack the data\n",
    "    X_stack_tensor = []\n",
    "    y_stack_tensor = []\n",
    "\n",
    "    for ii in res:\n",
    "        reconstruct_data = create_sequences(ii, sequence_window, prediction_horizon) # sequence length = 6(30min), pediction_horizon = 3(predict 15 minutes ahead)\n",
    "        X_stack_tensor.append(reconstruct_data[0])\n",
    "        y_stack_tensor.append(reconstruct_data[1])\n",
    "    \n",
    "    all_sequences = torch.cat(X_stack_tensor, dim=0) # yy_0 includes the X\n",
    "    all_targets = torch.cat(y_stack_tensor, dim=0) # yy_1 includes the y label\n",
    "    sequences_train, sequences_val, targets_train, targets_val = train_test_split(\n",
    "        all_sequences, all_targets, test_size=0.2, shuffle=False\n",
    "    )\n",
    "\n",
    "    # Build the data loader and model\n",
    "    train_dataset = TensorDataset(sequences_train, targets_train)\n",
    "    val_dataset = TensorDataset(sequences_val, targets_val)\n",
    "    train_data_loader = DataLoader(train_dataset, batch_size=32, shuffle=False)\n",
    "    val_data_loader = DataLoader(val_dataset, batch_size=32, shuffle=False)\n",
    "\n",
    "    # Model parameters\n",
    "    input_size = sequences_train.shape[-1]  # Number of features\n",
    "\n",
    "    # Model instantiation\n",
    "    model_rnn = RNNModel(input_size, hidden_size, output_size).to(device)\n",
    "\n",
    "    # Loss and optimizer\n",
    "    criterion = nn.MSELoss()\n",
    "    optimizer = torch.optim.Adam(model_rnn.parameters())\n",
    "\n",
    "    # Training\n",
    "    for epoch in range(num_epochs):\n",
    "        train_loss = train_epoch(model_rnn, train_data_loader, optimizer, device)\n",
    "        val_loss = validate_epoch(model_rnn, val_data_loader, device)\n",
    "        # Print every 10 epochs\n",
    "        if (epoch + 1) % 10 == 0:\n",
    "            print(f'Epoch {epoch+1}: Train Loss {train_loss:.4f}, Val Loss {val_loss:.4f}')\n",
    "\n",
    "    # Assuming model and val_loader are already defined\n",
    "    predictions, targets = get_predictions_and_targets(model_rnn, val_data_loader)\n",
    "    rmse_value = rmse_pytorch(torch.tensor(predictions), torch.tensor(targets))\n",
    "    rmse_list.append(rmse_value)\n",
    "    print(f'RMSE: {rmse_value.item()}')\n",
    "    print(f\"=================================================\")\n"
   ]
  },
  {
   "cell_type": "code",
   "execution_count": 15,
   "metadata": {},
   "outputs": [
    {
     "data": {
      "text/plain": [
       "[43.213413,\n",
       " 28.957304,\n",
       " 31.91793,\n",
       " 25.906792,\n",
       " 26.443092,\n",
       " 33.935417,\n",
       " 30.781582,\n",
       " 27.132692,\n",
       " 21.898863,\n",
       " 32.458874,\n",
       " 26.585081,\n",
       " 27.470108,\n",
       " 38.945244,\n",
       " 28.268785,\n",
       " 28.703484,\n",
       " 41.456165]"
      ]
     },
     "execution_count": 15,
     "metadata": {},
     "output_type": "execute_result"
    }
   ],
   "source": [
    "rmse_list"
   ]
  },
  {
   "cell_type": "code",
   "execution_count": null,
   "metadata": {},
   "outputs": [],
   "source": [
    "# Based on LSTM \n",
    "\n",
    "device = torch.device(\"cuda\" if torch.cuda.is_available() else \"cpu\")\n",
    "print(f\"Using {device} device.\")\n",
    "lstm_rmse_list = []\n",
    "\n",
    "for subj in train_file_names[:10]:\n",
    "    # res = preprocess_DiaTrend(f\"../DiaTrend/train/{subj}.csv\")\n",
    "    res = preprocess_OhioT1DM(f\"../OhioT1DM/2018/train/{subj}.xml\")\n",
    "    # reconstruct_data = create_sequences(res[0], sequence_window, prediction_horizon)\n",
    "    # Loop thru all subjects to stack the data\n",
    "    X_stack_tensor = []\n",
    "    y_stack_tensor = []\n",
    "\n",
    "    for ii in res:\n",
    "        reconstruct_data = create_sequences(ii, sequence_window, prediction_horizon) # sequence length = 6(30min), pediction_horizon = 3(predict 15 minutes ahead)\n",
    "        X_stack_tensor.append(reconstruct_data[0])\n",
    "        y_stack_tensor.append(reconstruct_data[1])\n",
    "    \n",
    "    all_sequences = torch.cat(X_stack_tensor, dim=0) # yy_0 includes the X\n",
    "    all_targets = torch.cat(y_stack_tensor, dim=0) # yy_1 includes the y label\n",
    "    sequences_train, sequences_val, targets_train, targets_val = train_test_split(\n",
    "        all_sequences, all_targets, test_size=0.2, shuffle=False\n",
    "    )\n",
    "\n",
    "    # Build the data loader and model\n",
    "    train_dataset = TensorDataset(sequences_train, targets_train)\n",
    "    val_dataset = TensorDataset(sequences_val, targets_val)\n",
    "    train_data_loader = DataLoader(train_dataset, batch_size=32, shuffle=False)\n",
    "    val_data_loader = DataLoader(val_dataset, batch_size=32, shuffle=False)\n",
    "\n",
    "    # Model parameters\n",
    "    input_size = sequences_train.shape[-1]  # Number of features\n",
    "\n",
    "    # Model instantiation\n",
    "    model_lstm = LSTMModel(input_size, hidden_size, output_size).to(device)\n",
    "\n",
    "    # Loss and optimizer\n",
    "    criterion = nn.MSELoss()\n",
    "    optimizer = torch.optim.Adam(model_lstm.parameters())\n",
    "\n",
    "    # Training\n",
    "    for epoch in range(num_epochs):\n",
    "        train_loss = train_epoch(model_lstm, train_data_loader, optimizer, device)\n",
    "        val_loss = validate_epoch(model_lstm, val_data_loader, device)\n",
    "        # Print every 10 epochs\n",
    "        if (epoch + 1) % 10 == 0:\n",
    "            print(f'Epoch {epoch+1}: Train Loss {train_loss:.4f}, Val Loss {val_loss:.4f}')\n",
    "\n",
    "    # Assuming model and val_loader are already defined\n",
    "    predictions, targets = get_predictions_and_targets(model_lstm, val_data_loader)\n",
    "    rmse_value = rmse_pytorch(torch.tensor(predictions), torch.tensor(targets))\n",
    "    lstm_rmse_list.append(rmse_value)\n",
    "    print(f'RMSE: {rmse_value.item()}')\n",
    "    print(f\"=================================================\")\n"
   ]
  },
  {
   "cell_type": "code",
   "execution_count": 44,
   "metadata": {},
   "outputs": [
    {
     "data": {
      "text/plain": [
       "45.173035"
      ]
     },
     "execution_count": 44,
     "metadata": {},
     "output_type": "execute_result"
    }
   ],
   "source": [
    "np.average(lstm_rmse_list)"
   ]
  },
  {
   "cell_type": "markdown",
   "metadata": {},
   "source": [
    "## LSTM"
   ]
  },
  {
   "cell_type": "code",
   "execution_count": 19,
   "metadata": {},
   "outputs": [],
   "source": [
    "\n",
    "class LSTMModel(nn.Module):\n",
    "    def __init__(self, input_features, hidden_dim, output_features):\n",
    "        super(LSTMModel, self).__init__()\n",
    "        self.lstm = nn.LSTM(input_features, hidden_dim, batch_first=True)\n",
    "        self.relu = nn.ReLU()  # Define ReLU activation\n",
    "        self.fc = nn.Linear(hidden_dim, output_features)\n",
    "    \n",
    "    def forward(self, x):\n",
    "        # Forward pass through LSTM layer\n",
    "        lstm_out, _ = self.lstm(x)\n",
    "        # Apply ReLU activation to the output of the LSTM\n",
    "        lstm_out = self.relu(lstm_out)  # Applying ReLU to only the last time step's output\n",
    "        # Pass the output through the fully connected layer\n",
    "        y_pred = self.fc(lstm_out)\n",
    "        return y_pred\n",
    "\n"
   ]
  },
  {
   "cell_type": "code",
   "execution_count": 20,
   "metadata": {},
   "outputs": [],
   "source": [
    "# Model parameters\n",
    "input_size = sequences_train.shape[-1]  # Number of features\n",
    "hidden_size = 50\n",
    "output_size = 1\n",
    "\n",
    "# Model instantiation\n",
    "model_lstm = LSTMModel(input_size, hidden_size, output_size)\n",
    "\n",
    "# Loss and optimizer\n",
    "criterion = nn.MSELoss()\n",
    "optimizer = torch.optim.Adam(model_lstm.parameters())"
   ]
  },
  {
   "cell_type": "code",
   "execution_count": null,
   "metadata": {},
   "outputs": [],
   "source": [
    "# Assuming x_train_uni and y_train_uni are torch tensors and properly formatted\n",
    "# Training and validation loop\n",
    "def train_epoch(model, loader, optimizer):\n",
    "    model.train()\n",
    "    total_loss = 0\n",
    "    for data, target in loader:\n",
    "        optimizer.zero_grad()\n",
    "        output = model(data)\n",
    "        loss = criterion(output, target)\n",
    "        loss.backward()\n",
    "        optimizer.step()\n",
    "        total_loss += loss.item()\n",
    "    return total_loss / len(loader)\n",
    "\n",
    "def validate_epoch(model, loader):\n",
    "    model.eval()\n",
    "    total_loss = 0\n",
    "    with torch.no_grad():\n",
    "        for data, target in loader:\n",
    "            output = model(data)\n",
    "            loss = criterion(output, target)\n",
    "            total_loss += loss.item()\n",
    "    return total_loss / len(loader)\n",
    "\n",
    "# Run training and validation\n",
    "\n",
    "# device = torch.device(\"cuda\" if torch.cuda.is_available() else \"cpu\")\n",
    "# model_rnn.to(device)\n",
    "num_epochs = 300\n",
    "for epoch in range(num_epochs):\n",
    "    train_loss = train_epoch(model_lstm, train_data_loader, optimizer)\n",
    "    val_loss = validate_epoch(model_lstm, val_data_loader)\n",
    "    print(f'Epoch {epoch+1}: Train Loss {train_loss:.4f}, Val Loss {val_loss:.4f}')\n"
   ]
  },
  {
   "cell_type": "code",
   "execution_count": 139,
   "metadata": {},
   "outputs": [],
   "source": [
    "import torch\n",
    "import matplotlib.pyplot as plt\n",
    "\n",
    "def get_predictions_and_targets(model, data_loader):\n",
    "    device = torch.device(\"cuda\" if torch.cuda.is_available() else \"cpu\")\n",
    "    model.to(device)  # Ensure model is on the right device\n",
    "    model.eval()\n",
    "    predictions = []\n",
    "    targets = []\n",
    "    with torch.no_grad():\n",
    "        for data, target in data_loader:\n",
    "            data, target = data.to(device), target.to(device)  # Move data & target to the same device as model\n",
    "            output = model(data)\n",
    "            predictions.extend(output.detach().cpu().numpy())  # Move output back to CPU for storage/manipulation\n",
    "            targets.extend(target.detach().cpu().numpy())\n",
    "    return predictions, targets\n",
    "\n",
    "# Assuming model and val_loader are already defined\n",
    "predictions, targets = get_predictions_and_targets(model_lstm, val_data_loader)\n",
    "\n"
   ]
  },
  {
   "cell_type": "code",
   "execution_count": 140,
   "metadata": {},
   "outputs": [
    {
     "data": {
      "image/png": "[encoded data removed]",
      "text/plain": [
       "<Figure size 1000x600 with 1 Axes>"
      ]
     },
     "metadata": {},
     "output_type": "display_data"
    }
   ],
   "source": [
    "import matplotlib.pyplot as plt\n",
    "\n",
    "def plot_predictions_vs_targets(predictions, targets):\n",
    "    plt.figure(figsize=(10, 6))\n",
    "    plt.plot(targets, label='Ground Truth', color='blue')\n",
    "    plt.plot(predictions, label='Predictions', color='red', linestyle='--')\n",
    "    plt.scatter(range(len(targets)), targets, color='blue', s=10)  # Ground truth points\n",
    "    plt.scatter(range(len(predictions)), predictions, color='red', s=10)  # Prediction points\n",
    "    plt.title('Model Predictions vs Ground Truth')\n",
    "    plt.xlabel('Sample Index')\n",
    "    plt.ylabel('Output Value')\n",
    "    plt.legend()\n",
    "    plt.show()\n",
    "\n",
    "plot_predictions_vs_targets(predictions[200:300], targets[200:300])"
   ]
  },
  {
   "cell_type": "code",
   "execution_count": 141,
   "metadata": {},
   "outputs": [
    {
     "name": "stdout",
     "output_type": "stream",
     "text": [
      "RMSE: 67.39815521240234\n"
     ]
    }
   ],
   "source": [
    "def rmse_pytorch(predictions, targets):\n",
    "    # Convert predictions and targets to float tensors if they are not already\n",
    "    predictions = predictions.float()\n",
    "    targets = targets.float()\n",
    "    \n",
    "    # Calculate MSE\n",
    "    mse = torch.mean((predictions - targets) ** 2)\n",
    "    \n",
    "    # Calculate RMSE\n",
    "    rmse = torch.sqrt(mse)\n",
    "    return rmse\n",
    "\n",
    "# Example usage:\n",
    "# predictions, targets should be PyTorch tensors\n",
    "# Assuming predictions and targets are already defined:\n",
    "rmse_value = rmse_pytorch(torch.tensor(predictions), torch.tensor(targets))\n",
    "print(f'RMSE: {rmse_value.item()}')"
   ]
  },
  {
   "cell_type": "code",
   "execution_count": null,
   "metadata": {},
   "outputs": [],
   "source": [
    "from sklearn.metrics import mean_squared_error\n",
    "def RMSE(y_test,y_predict):\n",
    "    return np.sqrt(mean_squared_error(y_test,y_predict))\n",
    "\n",
    "RMSE(targets, predictions)"
   ]
  },
  {
   "cell_type": "code",
   "execution_count": null,
   "metadata": {},
   "outputs": [],
   "source": [
    "from scipy.stats import probplot\n",
    "\n",
    "residuals = [targets[i]-predictions[i] for i in range(len(predictions))]\n",
    "converted_list = [float(arr.item()) for arr in predictions]\n",
    "residuals = np.array(targets) - np.array(converted_list)\n",
    "probplot(residuals,dist=\"norm\",plot=plt)\n",
    "plt.title(\"Simple RNN Normal Q-Q Plot\")"
   ]
  },
  {
   "cell_type": "markdown",
   "metadata": {},
   "source": [
    "# LSTM for all subjects"
   ]
  },
  {
   "cell_type": "code",
   "execution_count": null,
   "metadata": {},
   "outputs": [],
   "source": [
    "device = torch.device(\"cuda\" if torch.cuda.is_available() else \"cpu\")\n",
    "print(f\"Using {device} device.\")\n",
    "rmse_list = []\n",
    "\n",
    "for subj in train_file_names:\n",
    "    # res = preprocess_DiaTrend(f\"../DiaTrend/train/{subj}.csv\") # for Diatrend, it's csv, for \n",
    "    res = preprocess_OhioT1DM(f\"../OhioT1DM/2018/train/{subj}.xml\")\n",
    "    # reconstruct_data = create_sequences(res[0], sequence_window, prediction_horizon)\n",
    "    # Loop thru all subjects to stack the data\n",
    "    X_stack_tensor = []\n",
    "    y_stack_tensor = []\n",
    "\n",
    "    for ii in res:\n",
    "        reconstruct_data = create_sequences(ii, sequence_window, prediction_horizon) # sequence length = 6(30min), pediction_horizon = 3(predict 15 minutes ahead)\n",
    "        X_stack_tensor.append(reconstruct_data[0])\n",
    "        y_stack_tensor.append(reconstruct_data[1])\n",
    "    \n",
    "    all_sequences = torch.cat(X_stack_tensor, dim=0) # yy_0 includes the X\n",
    "    all_targets = torch.cat(y_stack_tensor, dim=0) # yy_1 includes the y label\n",
    "    sequences_train, sequences_val, targets_train, targets_val = train_test_split(\n",
    "        all_sequences, all_targets, test_size=0.2, shuffle=False\n",
    "    )\n",
    "\n",
    "    # Build the data loader and model\n",
    "    train_dataset = TensorDataset(sequences_train, targets_train)\n",
    "    val_dataset = TensorDataset(sequences_val, targets_val)\n",
    "    train_data_loader = DataLoader(train_dataset, batch_size=32, shuffle=False)\n",
    "    val_data_loader = DataLoader(val_dataset, batch_size=32, shuffle=False)\n",
    "\n",
    "    # Model parameters\n",
    "    input_size = sequences_train.shape[-1]  # Number of features\n",
    "\n",
    "    # Model instantiation\n",
    "    model_lstm = LSTMModel(input_size, hidden_size, output_size).to(device)\n",
    "\n",
    "    # Loss and optimizer\n",
    "    criterion = nn.MSELoss()\n",
    "    optimizer = torch.optim.Adam(model_lstm.parameters())\n",
    "\n",
    "    # Training\n",
    "    for epoch in range(num_epochs):\n",
    "        train_loss = train_epoch(model_lstm, train_data_loader, optimizer, device)\n",
    "        val_loss = validate_epoch(model_lstm, val_data_loader, device)\n",
    "        # Print every 10 epochs\n",
    "        if (epoch + 1) % 10 == 0:\n",
    "            print(f'Epoch {epoch+1}: Train Loss {train_loss:.4f}, Val Loss {val_loss:.4f}')\n",
    "\n",
    "    # Assuming model and val_loader are already defined\n",
    "    predictions, targets = get_predictions_and_targets(model_lstm, val_data_loader)\n",
    "    rmse_value = rmse_pytorch(torch.tensor(predictions), torch.tensor(targets))\n",
    "    rmse_list.append(rmse_value)\n",
    "    print(f'RMSE: {rmse_value.item()}')\n",
    "    print(f\"=================================================\")\n"
   ]
  },
  {
   "cell_type": "markdown",
   "metadata": {},
   "source": []
  }
 ],
 "metadata": {
  "kernelspec": {
   "display_name": "Python 3",
   "language": "python",
   "name": "python3"
  },
  "language_info": {
   "codemirror_mode": {
    "name": "ipython",
    "version": 3
   },
   "file_extension": ".py",
   "mimetype": "text/x-python",
   "name": "python",
   "nbconvert_exporter": "python",
   "pygments_lexer": "ipython3",
   "version": "3.10.5"
  }
 },
 "nbformat": 4,
 "nbformat_minor": 2
}
