{
 "cells": [
  {
   "cell_type": "code",
   "execution_count": null,
   "metadata": {},
   "outputs": [],
   "source": [
    "import pandas as pd\n",
    "\n",
    "# Define the path to the errors.txt file\n",
    "errors_file_path = f\"./ohio_results/ph_6_sh24_rmse/errors.txt\"\n",
    "\n",
    "# Read the errors.txt file\n",
    "errors_data = pd.read_csv(errors_file_path, delim_whitespace=True, header=None)\n",
    "\n",
    "# Define the column names\n",
    "column_names = [\"subjectID\", \"no_transfer\", \"transfer_1\", \"transfer_2\", \"transfer_3\"]\n",
    "\n",
    "# Assign the column names to the DataFrame\n",
    "errors_data.columns = column_names\n",
    "\n",
    "# Write the DataFrame to an Excel file\n",
    "output_excel_path = \"./ohio_results/ph_6_sh24_rmse/processed_errors.xlsx\"\n",
    "errors_data.to_excel(output_excel_path, index=False)\n",
    "\n",
    "print(f\"Data has been written to {output_excel_path}\")"
   ]
  },
  {
   "cell_type": "markdown",
   "metadata": {},
   "source": [
    "# For Deng method"
   ]
  },
  {
   "cell_type": "code",
   "execution_count": null,
   "metadata": {},
   "outputs": [],
   "source": [
    "import pandas as pd\n",
    "import os\n",
    "sh = 6\n",
    "\n",
    "# List of directories containing errors.txt files\n",
    "directories = [\n",
    "    f'./t1dexi_results/ph_6_sh{sh}_cross_check',\n",
    "    f'./t1dexi_results/ph_6_sh{sh}_cross_check',\n",
    "    f'./t1dexi_results/ph_6_sh{sh}_cross_check',\n",
    "    f'./t1dexi_results/ph_6_sh{sh}_cross_check',\n",
    "    f'./t1dexi_results/ph_6_sh{sh}_cross_check'\n",
    "]\n",
    "\n",
    "# Initialize an empty DataFrame to store combined data\n",
    "combined_df = pd.DataFrame(columns=['Subject', 'RMSE'])\n",
    "\n",
    "# Loop through each directory and read the errors.txt file\n",
    "for directory in directories:\n",
    "    file_path = os.path.join(directory, 'errors.txt')\n",
    "    if os.path.exists(file_path):\n",
    "        df = pd.read_csv(file_path, delim_whitespace=True, header=None, names=['Subject', 'RMSE'])\n",
    "        combined_df = pd.concat([combined_df, df], ignore_index=True)\n",
    "\n",
    "# Save the combined DataFrame to an Excel file\n",
    "combined_df.to_excel(f'./t1dexi_results/result_tables/cross_check_errors.xlsx', index=False)"
   ]
  },
  {
   "cell_type": "code",
   "execution_count": null,
   "metadata": {},
   "outputs": [],
   "source": [
    "import pandas as pd\n",
    "import os\n",
    "sh = 24\n",
    "\n",
    "# List of directories containing errors.txt files\n",
    "directories = [\n",
    "    f'./t1dexi_results/ph_6_sh{sh}_fold1_rmse',\n",
    "    f'./t1dexi_results/ph_6_sh{sh}_fold2_rmse',\n",
    "    f'./t1dexi_results/ph_6_sh{sh}_fold3_rmse',\n",
    "    f'./t1dexi_results/ph_6_sh{sh}_fold4_rmse',\n",
    "    f'./t1dexi_results/ph_6_sh{sh}_fold5_rmse'\n",
    "]\n",
    "\n",
    "# Initialize an empty DataFrame to store combined data\n",
    "combined_df = pd.DataFrame(columns=['Subject', 'RMSE'])\n",
    "\n",
    "# Loop through each directory and read the errors.txt file\n",
    "for directory in directories:\n",
    "    file_path = os.path.join(directory, 'errors.txt')\n",
    "    if os.path.exists(file_path):\n",
    "        df = pd.read_csv(file_path, delim_whitespace=True, header=None, names=['Subject', 'RMSE'])\n",
    "        combined_df = pd.concat([combined_df, df], ignore_index=True)\n",
    "\n",
    "# Save the combined DataFrame to an Excel file\n",
    "combined_df.to_excel(f'./t1dexi_results/result_tables/combined_errors_sh{sh}.xlsx', index=False)"
   ]
  },
  {
   "cell_type": "code",
   "execution_count": null,
   "metadata": {},
   "outputs": [],
   "source": []
  }
 ],
 "metadata": {
  "kernelspec": {
   "display_name": "3.10.5",
   "language": "python",
   "name": "python3"
  },
  "language_info": {
   "codemirror_mode": {
    "name": "ipython",
    "version": 3
   },
   "file_extension": ".py",
   "mimetype": "text/x-python",
   "name": "python",
   "nbconvert_exporter": "python",
   "pygments_lexer": "ipython3",
   "version": "3.10.5"
  }
 },
 "nbformat": 4,
 "nbformat_minor": 2
}
