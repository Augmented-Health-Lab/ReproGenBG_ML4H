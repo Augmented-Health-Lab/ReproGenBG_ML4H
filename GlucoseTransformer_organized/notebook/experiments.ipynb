{
 "cells": [
  {
   "cell_type": "code",
   "execution_count": null,
   "metadata": {
    "id": "K3IylnX-p8Hl"
   },
   "outputs": [],
   "source": [
    "import sys\n",
    "import os\n",
    "# Add the parent directory to the path to import src\n",
    "sys.path.append(os.path.dirname(os.path.dirname(os.path.abspath(\"__file__\"))))\n",
    "\n",
    "import torch\n",
    "import torch.nn as nn\n",
    "from torch.optim import Adam\n",
    "from torch.optim.lr_scheduler import ReduceLROnPlateau\n",
    "from collections import deque\n",
    "import numpy as np\n",
    "import pandas as pd\n",
    "import matplotlib.pyplot as plt\n",
    "import xml.etree.ElementTree as ET\n",
    "from torch.utils.data import Dataset, DataLoader, ConcatDataset\n",
    "from sklearn.metrics import mean_squared_error\n",
    "\n",
    "# Import from local src package\n",
    "from src.models import TransformerEncoder_version2, PositionalEncoding\n",
    "from src.data import (TimeSeriesDataset, load_ohio_series_train, create_5fold_splits, create_5fold_splits_T1DEXI,\n",
    "                     convert_to_datetime, load_train_data_by_fold, load_train_data_by_fold_T1DEXI,\n",
    "                     split_into_continuous_series,\n",
    "                     create_population_splits, create_train_val_datasets)\n",
    "from src.train import train_model, evaluate_model\n",
    "from src.utils import (save_model, load_model, load_model_population,\n",
    "                      evaluate_and_save_metrics, evaluate_and_save_metrics_population,\n",
    "                      evaluate_and_save_metrics_diatrend, evaluate_and_save_metrics_T1DEXI)"
   ]
  },
  {
   "cell_type": "code",
   "execution_count": null,
   "metadata": {},
   "outputs": [],
   "source": [
    "model_dir = '../saved_models/'\n",
    "evaluation_dir = '../evaluation/'\n",
    "\n",
    "os.makedirs(model_dir, exist_ok=True)\n",
    "os.makedirs(evaluation_dir, exist_ok=True)"
   ]
  },
  {
   "cell_type": "markdown",
   "metadata": {
    "id": "SPf4KPJv1pfP"
   },
   "source": [
    "# Train on DiaTrend"
   ]
  },
  {
   "cell_type": "markdown",
   "metadata": {
    "id": "ZiGrmhdi1uyK"
   },
   "source": [
    "## 5 fold CV"
   ]
  },
  {
   "cell_type": "code",
   "execution_count": null,
   "metadata": {
    "id": "aG-cewuu18wc"
   },
   "outputs": [],
   "source": [
    "data_dir = '../../../ReproGenBG_Dataset/diatrend_processed/'\n",
    "\n",
    "fold_splits = create_5fold_splits(data_dir)\n",
    "print(fold_splits)"
   ]
  },
  {
   "cell_type": "markdown",
   "metadata": {
    "id": "btx9TejX2kMO"
   },
   "source": [
    "## model train"
   ]
  },
  {
   "cell_type": "code",
   "execution_count": null,
   "metadata": {
    "id": "KEfKPYn0181X"
   },
   "outputs": [],
   "source": [
    "fold_lst = fold_splits.keys()\n",
    "print(fold_lst)\n",
    "\n",
    "for fold in fold_lst:\n",
    "    train_df = load_train_data_by_fold(fold, fold_splits, data_dir)\n",
    "    print(fold, '\\ntrain data shape:', train_df.shape)\n",
    "    # break\n",
    "\n",
    "    # Move model to GPU if available\n",
    "    device = torch.device('cuda' if torch.cuda.is_available() else 'cpu')\n",
    "\n",
    "    # Set hyperparameters\n",
    "    past_sequence_length = 12\n",
    "    future_offset = 6\n",
    "    batch_size = 64\n",
    "    max_interval_minutes = 30\n",
    "\n",
    "    # Train model\n",
    "    model = TransformerEncoder_version2(\n",
    "      past_seq_len=past_sequence_length,\n",
    "      num_layers=1,\n",
    "      d_model=512,\n",
    "      nhead=4,\n",
    "      input_dim=1,\n",
    "      dropout=0.2\n",
    "    )\n",
    "    model = model.to(device)\n",
    "\n",
    "    # Create datasets\n",
    "    train_series_list = []\n",
    "    for uid in train_df['USUBJID'].unique():\n",
    "        cur_df = train_df[train_df['USUBJID'] == uid]\n",
    "        cur_df.drop(columns=['USUBJID'], inplace=True)\n",
    "        series_list = split_into_continuous_series(cur_df, past_sequence_length, future_offset, max_interval_minutes)\n",
    "        train_series_list.extend(series_list)\n",
    "\n",
    "    train_dataset, val_dataset = create_train_val_datasets(\n",
    "      train_series_list,\n",
    "      train_ratio=0.8,\n",
    "      past_seq_len=past_sequence_length,\n",
    "      future_offset=future_offset\n",
    "    )\n",
    "\n",
    "    # Create data loaders\n",
    "    train_loader = DataLoader(train_dataset, batch_size=batch_size, shuffle=True)\n",
    "    val_loader = DataLoader(val_dataset, batch_size=batch_size)\n",
    "\n",
    "    # Train model\n",
    "    train_losses, val_losses = train_model(\n",
    "      model=model,\n",
    "      train_loader=train_loader,\n",
    "      val_loader=val_loader,\n",
    "      num_epochs=200,\n",
    "      learning_rate=1e-3\n",
    "    )\n",
    "\n",
    "    model_dir = '../saved_models/'\n",
    "    sh = 'sh'+str(past_sequence_length)\n",
    "\n",
    "    # Save the trained model\n",
    "    save_dir=os.path.join(model_dir, 'saved_models_diatrend/5_fold_'+sh+'/')\n",
    "    os.makedirs(save_dir, exist_ok=True)\n",
    "    save_model(model, sh+'_'+fold, save_dir)\n",
    "#   break\n"
   ]
  },
  {
   "cell_type": "markdown",
   "metadata": {
    "id": "4C04eBOt2msd"
   },
   "source": [
    "## individual evaluation"
   ]
  },
  {
   "cell_type": "code",
   "execution_count": null,
   "metadata": {
    "id": "CGoUldGhPdzI"
   },
   "outputs": [],
   "source": [
    "past_sequence_length = 12\n",
    "future_offset = 6\n",
    "batch_size = 64\n",
    "max_interval_minutes = 30\n",
    "sh = 'sh'+str(past_sequence_length)\n",
    "\n",
    "model_dir = '../saved_models/'\n",
    "evaluation_dir = '../evaluation/'\n",
    "data_dir = '../../../ReproGenBG_Dataset/diatrend_processed/'\n",
    "\n",
    "\n",
    "test_eval = []\n",
    "for fold in fold_splits.keys():\n",
    "    print(fold, fold_splits[fold]['test'])\n",
    "    # Load the saved model\n",
    "    model = load_model_population(sh+'_'+fold, past_sequence_length, model_class=TransformerEncoder_version2, save_dir=os.path.join(model_dir, 'saved_models_diatrend/5_fold_'+sh+'/'))\n",
    "    \n",
    "    for test in fold_splits[fold]['test']:\n",
    "        test_df = pd.read_csv(os.path.join(data_dir, test))\n",
    "        uid = test.split('.')[0].split('processed_cgm_data_Subject')[1]\n",
    "        test_df = test_df.rename(columns={\"date\": \"timestamp\"})\n",
    "        test_df['timestamp'] = test_df['timestamp'].apply(convert_to_datetime)\n",
    "        test_df = test_df.loc[:, ['timestamp', 'mg/dl']]\n",
    "        # print(test_df.shape)\n",
    "#         break\n",
    "        metrics = evaluate_and_save_metrics_diatrend(\n",
    "            model=model,\n",
    "            test_df=test_df,\n",
    "            save_dir=os.path.join(evaluation_dir, 'evaluation_metrics_diatrend/5_fold_individual_'+sh+'/'),\n",
    "            past_sequence_length=past_sequence_length,\n",
    "            future_offset=future_offset,\n",
    "            batch_size=batch_size,\n",
    "            max_interval_minutes=max_interval_minutes,\n",
    "            uid=uid\n",
    "        )\n",
    "\n",
    "    test_eval.append([uid, round(metrics['rmse'], 2), round(metrics['mae'], 2), round(metrics['mape'], 2)])\n",
    "\n",
    "    # print(f\"\\nResults for population model:\")\n",
    "    print(f\"RMSE: {metrics['rmse']:.2f}\")\n",
    "    print(f\"MAE: {metrics['mae']:.2f}\")\n",
    "    print(f\"MAPE: {metrics['mape']:.2f}%\")\n",
    "\n",
    "  # break"
   ]
  },
  {
   "cell_type": "code",
   "execution_count": null,
   "metadata": {
    "id": "vpZHbBfrPdzI"
   },
   "outputs": [],
   "source": [
    "print(test_eval)\n",
    "\n",
    "df = pd.DataFrame(test_eval, columns=['test patient', 'RMSE', 'MAE', 'MAPE'])\n",
    "df.to_csv(os.path.join(\"../evaluation/\", 'evaluation_metrics_diatrend/5_fold_test_eval_'+sh+'.csv'), index=False)"
   ]
  },
  {
   "cell_type": "markdown",
   "metadata": {
    "id": "xZS2zviJfMzI"
   },
   "source": [
    "# Train on T1DEXI dataset"
   ]
  },
  {
   "cell_type": "markdown",
   "metadata": {
    "id": "FwKknMczfSKQ"
   },
   "source": [
    "## population (archive)"
   ]
  },
  {
   "cell_type": "markdown",
   "metadata": {
    "id": "qBaDbRBa0BGY"
   },
   "source": [
    "### data preprocess"
   ]
  },
  {
   "cell_type": "code",
   "execution_count": null,
   "metadata": {
    "id": "avCeJBqufQrz"
   },
   "outputs": [],
   "source": [
    "data_dir = '../../../ReproGenBG_Dataset/T1DEXI_processed/'\n",
    "\n",
    "train_df = pd.DataFrame()\n",
    "test_df = pd.DataFrame()\n",
    "\n",
    "for file in os.listdir(data_dir):\n",
    "  if file.endswith('.csv'):\n",
    "    df = pd.read_csv(os.path.join(data_dir, file))\n",
    "    # df.drop(columns=['USUBJID'], inplace=True)\n",
    "    df = df.rename(columns={\"LBORRES\": \"mg/dl\", \"LBDTC\": \"timestamp\"})\n",
    "    df['timestamp'] = df['timestamp'].apply(convert_to_datetime)\n",
    "    df = df.loc[:, ['USUBJID', 'timestamp', 'mg/dl']] # reorder to keep the same format as Diatrend for future training\n",
    "    num_train = int(len(df) * 0.8)\n",
    "    cur_train_df = df.iloc[:num_train]\n",
    "    cur_test_df = df.iloc[num_train:]\n",
    "    train_df = pd.concat([train_df, cur_train_df])\n",
    "    test_df = pd.concat([test_df, cur_test_df])\n",
    "    # break\n",
    "\n",
    "population_data_dir = '../../../ReproGenBG_Dataset/T1DEXI_population/'\n",
    "train_df.to_csv(os.path.join(population_data_dir, 'T1DEXI_train.csv'), index=False)\n",
    "test_df.to_csv(os.path.join(population_data_dir, 'T1DEXI_test.csv'), index=False)"
   ]
  },
  {
   "cell_type": "code",
   "execution_count": null,
   "metadata": {
    "id": "A0X8ubHroF3S"
   },
   "outputs": [],
   "source": [
    "print(train_df.shape, test_df.shape)\n",
    "train_df.head(3)"
   ]
  },
  {
   "cell_type": "markdown",
   "metadata": {
    "id": "dVQAblVM0DIQ"
   },
   "source": [
    "### model train"
   ]
  },
  {
   "cell_type": "code",
   "execution_count": null,
   "metadata": {
    "id": "qjo0-BJK6tjR"
   },
   "outputs": [],
   "source": [
    "population_data_dir = '../../../ReproGenBG_Dataset/T1DEXI_population/'\n",
    "\n",
    "df = pd.read_csv(population_data_dir + 'T1DEXI_train.csv')\n",
    "df['timestamp'] = pd.to_datetime(df['timestamp'])"
   ]
  },
  {
   "cell_type": "code",
   "execution_count": null,
   "metadata": {
    "id": "tdLq3w8Jzm4O"
   },
   "outputs": [],
   "source": [
    "# Move model to GPU if available\n",
    "device = torch.device('cuda' if torch.cuda.is_available() else 'cpu')\n",
    "\n",
    "# Set hyperparameters\n",
    "past_sequence_length = 12\n",
    "future_offset = 6\n",
    "batch_size = 64\n",
    "max_interval_minutes = 30\n",
    "\n",
    "# Train model\n",
    "model = TransformerEncoder_version2(\n",
    "    past_seq_len=past_sequence_length,\n",
    "    num_layers=1,\n",
    "    d_model=512,\n",
    "    nhead=4,\n",
    "    input_dim=1,\n",
    "    dropout=0.2\n",
    ")\n",
    "model = model.to(device)\n",
    "\n",
    "# Create datasets\n",
    "train_series_list = []\n",
    "for uid in df['USUBJID'].unique():\n",
    "    cur_df = df[df['USUBJID'] == uid]\n",
    "    cur_df.drop(columns=['USUBJID'], inplace=True)\n",
    "    series_list = split_into_continuous_series(cur_df, past_sequence_length, future_offset, max_interval_minutes)\n",
    "    train_series_list.extend(series_list)\n",
    "\n",
    "train_dataset, val_dataset = create_train_val_datasets(\n",
    "    train_series_list,\n",
    "    train_ratio=0.8,\n",
    "    past_seq_len=past_sequence_length,\n",
    "    future_offset=future_offset\n",
    ")"
   ]
  },
  {
   "cell_type": "code",
   "execution_count": null,
   "metadata": {
    "id": "mIwwg85EDOQk"
   },
   "outputs": [],
   "source": [
    "# Create data loaders\n",
    "train_loader = DataLoader(train_dataset, batch_size=batch_size, shuffle=True)\n",
    "val_loader = DataLoader(val_dataset, batch_size=batch_size)\n",
    "\n",
    "# Train model\n",
    "train_losses, val_losses = train_model(\n",
    "    model=model,\n",
    "    train_loader=train_loader,\n",
    "    val_loader=val_loader,\n",
    "    num_epochs=200,\n",
    "    learning_rate=1e-3\n",
    ")"
   ]
  },
  {
   "cell_type": "code",
   "execution_count": null,
   "metadata": {
    "id": "_vRX_nlADSki"
   },
   "outputs": [],
   "source": [
    "model_dir = '../saved_models/'\n",
    "\n",
    "sh = 'sh'+str(past_sequence_length)\n",
    "\n",
    "# Save the trained model\n",
    "save_model(model, 'population_'+sh, save_dir=os.path.join(model_dir, 'saved_models_T1DEXI/'))"
   ]
  },
  {
   "cell_type": "markdown",
   "metadata": {
    "id": "vlXxL_BuFF0B"
   },
   "source": [
    "### individaul evaluation"
   ]
  },
  {
   "cell_type": "code",
   "execution_count": null,
   "metadata": {
    "id": "po4u1Tj4Egef"
   },
   "outputs": [],
   "source": [
    "past_sequence_length = 12\n",
    "future_offset = 6\n",
    "batch_size = 64\n",
    "max_interval_minutes = 30\n",
    "sh = 'sh'+str(past_sequence_length)\n",
    "\n",
    "model_dir = '../saved_models/'\n",
    "evaluation_dir = '../evaluation/'\n",
    "\n",
    "# Load the saved model\n",
    "model = load_model_population('population_'+sh, past_sequence_length, save_dir=os.path.join(model_dir, 'saved_models_T1DEXI'))\n",
    "test_eval = []\n",
    "\n",
    "population_data_dir = '../../../ReproGenBG_Dataset/T1DEXI_population/'\n",
    "test_df = pd.read_csv(population_data_dir + 'T1DEXI_test.csv')\n",
    "test_df['timestamp'] = pd.to_datetime(test_df['timestamp'])\n",
    "\n",
    "for uid in test_df['USUBJID'].unique():\n",
    "    cur_df = test_df[test_df['USUBJID'] == uid]\n",
    "    cur_df.drop(columns=['USUBJID'], inplace=True)\n",
    "    # Evaluate on test data individually\n",
    "    metrics = evaluate_and_save_metrics_T1DEXI(\n",
    "        model=model,\n",
    "        test_df=cur_df,\n",
    "        save_dir=os.path.join(evaluation_dir, 'evaluation_metrics_T1DEXI/80_20_individual_'+sh+'/'),\n",
    "        past_sequence_length=past_sequence_length,\n",
    "        future_offset=future_offset,\n",
    "        batch_size=batch_size,\n",
    "        max_interval_minutes=max_interval_minutes,\n",
    "        uid=uid\n",
    "    )\n",
    "\n",
    "    id = uid\n",
    "    test_eval.append([id, round(metrics['rmse'], 2), round(metrics['mae'], 2), round(metrics['mape'], 2)])\n",
    "\n",
    "    # print(f\"\\nResults for population model:\")\n",
    "    print(f\"RMSE: {metrics['rmse']:.2f}\")\n",
    "    print(f\"MAE: {metrics['mae']:.2f}\")\n",
    "    print(f\"MAPE: {metrics['mape']:.2f}%\")"
   ]
  },
  {
   "cell_type": "code",
   "execution_count": null,
   "metadata": {
    "id": "bbI-8wa5Egef"
   },
   "outputs": [],
   "source": [
    "# print(test_eval)\n",
    "df = pd.DataFrame(test_eval, columns=['test patient', 'RMSE', 'MAE', 'MAPE'])\n",
    "df.to_csv(os.path.join(evaluation_dir, 'evaluation_metrics_T1DEXI/80_20_test_eval_'+sh+'.csv'), index=False)"
   ]
  },
  {
   "cell_type": "code",
   "execution_count": null,
   "metadata": {
    "id": "coyiu34OD-FC"
   },
   "outputs": [],
   "source": []
  },
  {
   "cell_type": "markdown",
   "metadata": {
    "id": "Xl3r74ucfUAW"
   },
   "source": [
    "## 5-fold cross validation"
   ]
  },
  {
   "cell_type": "markdown",
   "metadata": {
    "id": "-f90oIXdjMuR"
   },
   "source": [
    "### data split"
   ]
  },
  {
   "cell_type": "code",
   "execution_count": null,
   "metadata": {
    "id": "31CPseO_bPWm"
   },
   "outputs": [],
   "source": [
    "data_dir = '../../../ReproGenBG_Dataset/T1DEXI_processed/'\n",
    "\n",
    "fold_splits = create_5fold_splits_T1DEXI(data_dir)\n",
    "# print(fold_splits)"
   ]
  },
  {
   "cell_type": "markdown",
   "metadata": {
    "id": "NrrTsa4YjSSw"
   },
   "source": [
    "### model train"
   ]
  },
  {
   "cell_type": "code",
   "execution_count": null,
   "metadata": {
    "id": "qwY57cfDaEAN"
   },
   "outputs": [],
   "source": [
    "fold_lst = fold_splits.keys()\n",
    "print(fold_lst)\n",
    "data_dir = '../../../ReproGenBG_Dataset/T1DEXI_processed/'\n",
    "\n",
    "for fold in fold_lst:\n",
    "  train_df = load_train_data_by_fold_T1DEXI(fold, fold_splits, data_dir)\n",
    "  print(fold, '\\ntrain data shape:', train_df.shape)\n",
    "\n",
    "  # Move model to GPU if available\n",
    "  device = torch.device('cuda' if torch.cuda.is_available() else 'cpu')\n",
    "\n",
    "  # Set hyperparameters\n",
    "  past_sequence_length = 24\n",
    "  future_offset = 6\n",
    "  batch_size = 64\n",
    "  max_interval_minutes = 30\n",
    "\n",
    "  # Train model\n",
    "  model = TransformerEncoder_version2(\n",
    "      past_seq_len=past_sequence_length,\n",
    "      num_layers=1,\n",
    "      d_model=512,\n",
    "      nhead=4,\n",
    "      input_dim=1,\n",
    "      dropout=0.2\n",
    "  )\n",
    "  model = model.to(device)\n",
    "\n",
    "  # Create datasets\n",
    "  train_series_list = []\n",
    "  for uid in train_df['USUBJID'].unique():\n",
    "      cur_df = train_df[train_df['USUBJID'] == uid]\n",
    "      cur_df.drop(columns=['USUBJID'], inplace=True)\n",
    "      series_list = split_into_continuous_series(cur_df, past_sequence_length, future_offset, max_interval_minutes)\n",
    "      train_series_list.extend(series_list)\n",
    "\n",
    "  train_dataset, val_dataset = create_train_val_datasets(\n",
    "      train_series_list,\n",
    "      train_ratio=0.8,\n",
    "      past_seq_len=past_sequence_length,\n",
    "      future_offset=future_offset\n",
    "  )\n",
    "\n",
    "  # Create data loaders\n",
    "  train_loader = DataLoader(train_dataset, batch_size=batch_size, shuffle=True)\n",
    "  val_loader = DataLoader(val_dataset, batch_size=batch_size)\n",
    "\n",
    "  # Train model\n",
    "  train_losses, val_losses = train_model(\n",
    "      model=model,\n",
    "      train_loader=train_loader,\n",
    "      val_loader=val_loader,\n",
    "      num_epochs=200,\n",
    "      learning_rate=1e-3\n",
    "  )\n",
    "\n",
    "  model_dir = '../saved_models/'\n",
    "  sh = 'sh'+str(past_sequence_length)\n",
    "\n",
    "  # Save the trained model\n",
    "  save_dir=os.path.join(model_dir, 'saved_models_T1DEXI/5_fold_'+sh+'/')\n",
    "  os.makedirs(save_dir, exist_ok=True)\n",
    "  save_model(model, sh+'_'+fold, save_dir)\n",
    "\n",
    "#   break"
   ]
  },
  {
   "cell_type": "markdown",
   "metadata": {
    "id": "QkD4k75JjWJM"
   },
   "source": [
    "### individual evaluation"
   ]
  },
  {
   "cell_type": "code",
   "execution_count": null,
   "metadata": {
    "id": "3lpHyWeMydkA"
   },
   "outputs": [],
   "source": [
    "past_sequence_length = 12\n",
    "future_offset = 6\n",
    "batch_size = 64\n",
    "max_interval_minutes = 30\n",
    "sh = 'sh'+str(past_sequence_length)\n",
    "model_dir = '../saved_models/'\n",
    "evaluation_dir = '../evaluation/'\n",
    "data_dir = '../../../ReproGenBG_Dataset/T1DEXI_processed/'\n",
    "\n",
    "test_eval = []\n",
    "for fold in fold_splits.keys():\n",
    "  print(fold, fold_splits[fold]['test'])\n",
    "  # Load the saved model\n",
    "  model = load_model_population(sh+'_'+fold, past_sequence_length, save_dir=os.path.join(model_dir, 'saved_models_T1DEXI/5_fold_'+sh+'/'))\n",
    "\n",
    "  for test in fold_splits[fold]['test']:\n",
    "    uid = test.split('.')[0]\n",
    "    test_df = pd.read_csv(os.path.join(data_dir, test))\n",
    "    test_df = test_df.rename(columns={\"LBORRES\": \"mg/dl\", \"LBDTC\": \"timestamp\"})\n",
    "    test_df['timestamp'] = test_df['timestamp'].apply(convert_to_datetime)\n",
    "    test_df = test_df.loc[:, ['timestamp', 'mg/dl']]\n",
    "    # print(test_df.shape)\n",
    "    # break\n",
    "    metrics = evaluate_and_save_metrics_T1DEXI(\n",
    "        model=model,\n",
    "        test_df=test_df,\n",
    "        save_dir=os.path.join(evaluation_dir, 'evaluation_metrics_T1DEXI/5_fold_individual_'+sh+'/'),\n",
    "        past_sequence_length=past_sequence_length,\n",
    "        future_offset=future_offset,\n",
    "        batch_size=batch_size,\n",
    "        max_interval_minutes=max_interval_minutes,\n",
    "        uid=uid\n",
    "    )\n",
    "\n",
    "    test_eval.append([uid, round(metrics['rmse'], 2), round(metrics['mae'], 2), round(metrics['mape'], 2)])\n",
    "\n",
    "    # print(f\"\\nResults for population model:\")\n",
    "    print(f\"RMSE: {metrics['rmse']:.2f}\")\n",
    "    print(f\"MAE: {metrics['mae']:.2f}\")\n",
    "    print(f\"MAPE: {metrics['mape']:.2f}%\")\n",
    "\n",
    "#   break"
   ]
  },
  {
   "cell_type": "code",
   "execution_count": null,
   "metadata": {
    "id": "LVs364KxydkA"
   },
   "outputs": [],
   "source": [
    "# print(test_eval)\n",
    "evaluation_dir = '../evaluation/'\n",
    "\n",
    "df = pd.DataFrame(test_eval, columns=['test patient', 'RMSE', 'MAE', 'MAPE'])\n",
    "df.to_csv(os.path.join(evaluation_dir, 'evaluation_metrics_T1DEXI/5_fold_test_eval_'+sh+'.csv'), index=False)"
   ]
  },
  {
   "cell_type": "markdown",
   "metadata": {
    "id": "DUk0Ze-Op8Hl"
   },
   "source": [
    "# Train on Ohio dataset"
   ]
  },
  {
   "cell_type": "markdown",
   "metadata": {
    "id": "fghOoKSjp8Hm"
   },
   "source": [
    "## Population data"
   ]
  },
  {
   "cell_type": "code",
   "execution_count": null,
   "metadata": {
    "id": "bAXQudrUp8Hm"
   },
   "outputs": [],
   "source": [
    "data_dir = '../../../ReproGenBG_Dataset/'\n",
    "folder_path_train_2018 = os.path.join(data_dir, \"./OhioT1DM 2020/2018/train\")\n",
    "folder_path_train_2020 = os.path.join(data_dir,\"./OhioT1DM 2020/2020/train\")\n",
    "train_files_2018 = [f for f in os.listdir(folder_path_train_2018) if f.endswith('.xml')]\n",
    "train_files_2020 = [f for f in os.listdir(folder_path_train_2020) if f.endswith('.xml')]\n",
    "\n",
    "folder_path_test_2018 = os.path.join(data_dir,\"./OhioT1DM 2020/2018/test\")\n",
    "folder_path_test_2020 = os.path.join(data_dir,\"./OhioT1DM 2020/2020/test\")\n",
    "test_files_2018 = [f for f in os.listdir(folder_path_test_2018) if f.endswith('.xml')]\n",
    "test_files_2020 = [f for f in os.listdir(folder_path_test_2020) if f.endswith('.xml')]\n",
    "\n",
    "population_splits = create_population_splits(\n",
    "    folder_path_train_2018,\n",
    "    folder_path_train_2020,\n",
    "    train_files_2018,\n",
    "    train_files_2020,\n",
    "    folder_path_test_2018,\n",
    "    folder_path_test_2020,\n",
    "    test_files_2018,\n",
    "    test_files_2020\n",
    ")\n",
    "\n",
    "print(population_splits)"
   ]
  },
  {
   "cell_type": "code",
   "execution_count": null,
   "metadata": {
    "id": "T9lSt2SDp8Hm"
   },
   "outputs": [],
   "source": [
    "# Move model to GPU if available\n",
    "device = torch.device('cuda' if torch.cuda.is_available() else 'cpu')\n",
    "\n",
    "# Set hyperparameters\n",
    "past_sequence_length = 24\n",
    "future_offset = 6\n",
    "batch_size = 64\n",
    "max_interval_minutes = 30\n",
    "\n",
    "# Train model\n",
    "model = TransformerEncoder_version2(\n",
    "    past_seq_len=past_sequence_length,\n",
    "    num_layers=1,\n",
    "    d_model=512,\n",
    "    nhead=4,\n",
    "    input_dim=1,\n",
    "    dropout=0.2\n",
    ")\n",
    "model = model.to(device)\n",
    "\n",
    "# Load and process training data\n",
    "train_dfs = []\n",
    "for train_file in population_splits['train']:\n",
    "    df = load_ohio_series_train(train_file, \"glucose_level\", \"value\")\n",
    "    df['timestamp'] = pd.to_datetime(df['timestamp'])\n",
    "    train_dfs.append(df)\n",
    "\n",
    "# Create datasets\n",
    "train_series_list = []\n",
    "for df in train_dfs:\n",
    "    series_list = split_into_continuous_series(df, past_sequence_length, future_offset, max_interval_minutes)\n",
    "    train_series_list.extend(series_list)\n",
    "\n",
    "train_dataset, val_dataset = create_train_val_datasets(\n",
    "    train_series_list,\n",
    "    train_ratio=0.8,\n",
    "    past_seq_len=past_sequence_length,\n",
    "    future_offset=future_offset\n",
    ")\n",
    "\n",
    "# Create data loaders\n",
    "train_loader = DataLoader(train_dataset, batch_size=batch_size, shuffle=True)\n",
    "val_loader = DataLoader(val_dataset, batch_size=batch_size)\n",
    "\n",
    "# Train model\n",
    "train_losses, val_losses = train_model(\n",
    "    model=model,\n",
    "    train_loader=train_loader,\n",
    "    val_loader=val_loader,\n",
    "    num_epochs=200,\n",
    "    learning_rate=1e-3\n",
    ")\n",
    "\n",
    "model_dir = '../saved_models/'\n",
    "sh = 'sh'+str(past_sequence_length)\n",
    "\n",
    "# Save the trained model\n",
    "save_model(model, 'population_'+sh, save_dir=os.path.join(model_dir, 'saved_models_original_ohio/'))"
   ]
  },
  {
   "cell_type": "code",
   "execution_count": null,
   "metadata": {
    "id": "wqLXr-RFIY-G"
   },
   "outputs": [],
   "source": [
    "past_sequence_length = 24\n",
    "future_offset = 6\n",
    "batch_size = 64\n",
    "max_interval_minutes = 30\n",
    "evaluation_dir = '../evaluation/'\n",
    "\n",
    "sh = 'sh'+str(past_sequence_length)\n",
    "model = load_model_population('population_'+sh, past_sequence_length, save_dir=os.path.join(model_dir, 'saved_models_original_ohio'))\n",
    "\n",
    "# Evaluate on test data\n",
    "metrics = evaluate_and_save_metrics_population(\n",
    "    model=model,\n",
    "    test_file_paths=population_splits['test'],\n",
    "    save_dir=os.path.join(evaluation_dir, 'evaluation_metrics_original_ohio'),\n",
    "    past_sequence_length=past_sequence_length,\n",
    "    future_offset=future_offset,\n",
    "    batch_size=batch_size,\n",
    "    max_interval_minutes=max_interval_minutes\n",
    ")\n",
    "\n",
    "# evaluation on whole test set\n",
    "print(f\"RMSE: {metrics['rmse']:.2f}\")\n",
    "print(f\"MAE: {metrics['mae']:.2f}\")\n",
    "print(f\"MAPE: {metrics['mape']:.2f}%\")"
   ]
  },
  {
   "cell_type": "code",
   "execution_count": null,
   "metadata": {
    "id": "w6MVL9XXp8Hm"
   },
   "outputs": [],
   "source": [
    "# Load the saved model\n",
    "model = load_model_population('population_'+sh, past_sequence_length, save_dir=os.path.join(model_dir, 'saved_models_original_ohio'))\n",
    "test_eval = []\n",
    "\n",
    "for test in population_splits['test']:\n",
    "    print(test)\n",
    "    # Evaluate on test data individually\n",
    "    metrics = evaluate_and_save_metrics(\n",
    "        model=model,\n",
    "        test_file_path=test,\n",
    "        save_dir=os.path.join(evaluation_dir, 'evaluation_metrics_original_ohio/individual_'+sh+'/'),\n",
    "        past_sequence_length=past_sequence_length,\n",
    "        future_offset=future_offset,\n",
    "        batch_size=batch_size,\n",
    "        max_interval_minutes=max_interval_minutes\n",
    "    )\n",
    "\n",
    "    id = test.split('/')[-1].split('-')[0]\n",
    "    test_eval.append([id, round(metrics['rmse'], 2), round(metrics['mae'], 2), round(metrics['mape'], 2)])\n",
    "\n",
    "    # print(f\"\\nResults for population model:\")\n",
    "    print(f\"RMSE: {metrics['rmse']:.2f}\")\n",
    "    print(f\"MAE: {metrics['mae']:.2f}\")\n",
    "    print(f\"MAPE: {metrics['mape']:.2f}%\")"
   ]
  },
  {
   "cell_type": "markdown",
   "metadata": {
    "id": "gUR9U7Vi0O6q"
   },
   "source": [
    "### save individual results to .csv file"
   ]
  },
  {
   "cell_type": "code",
   "execution_count": null,
   "metadata": {
    "id": "IaN4vBfb81B2"
   },
   "outputs": [],
   "source": [
    "print(test_eval)\n",
    "evaluation_dir = '../evaluation/'\n",
    "\n",
    "df = pd.DataFrame(test_eval, columns=['test patient', 'RMSE', 'MAE', 'MAPE'])\n",
    "df.to_csv(os.path.join(evaluation_dir, 'evaluation_metrics_original_ohio/individual_test_eval_'+sh+'.csv'), index=False)"
   ]
  },
  {
   "cell_type": "markdown",
   "metadata": {
    "id": "xx_O-l4hPWzp"
   },
   "source": [
    "# Ohio 60 mins model train on diatrend and T1DEXI"
   ]
  },
  {
   "cell_type": "code",
   "execution_count": null,
   "metadata": {
    "id": "AIwCR3CyPd9v"
   },
   "outputs": [],
   "source": [
    "past_sequence_length = 12\n",
    "future_offset = 6\n",
    "batch_size = 64\n",
    "max_interval_minutes = 30\n",
    "\n",
    "model_dir = '../saved_models/'\n",
    "sh = 'sh'+str(past_sequence_length)\n",
    "model = load_model_population('population_'+sh, past_sequence_length, save_dir=os.path.join(model_dir, 'saved_models_original_ohio'))"
   ]
  },
  {
   "cell_type": "markdown",
   "metadata": {
    "id": "pEulFTo3tL9c"
   },
   "source": [
    "## Diatrend"
   ]
  },
  {
   "cell_type": "code",
   "execution_count": null,
   "metadata": {
    "id": "LmN3_KuIt_B2"
   },
   "outputs": [],
   "source": [
    "past_sequence_length = 12\n",
    "future_offset = 6\n",
    "batch_size = 64\n",
    "max_interval_minutes = 30\n",
    "\n",
    "model_dir = '../saved_models/'\n",
    "\n",
    "sh = 'sh'+str(past_sequence_length)\n",
    "model = load_model_population('population_'+sh, past_sequence_length, save_dir=os.path.join(model_dir, 'saved_models_original_ohio'))"
   ]
  },
  {
   "cell_type": "code",
   "execution_count": null,
   "metadata": {
    "id": "mGI9bwL4tO0E"
   },
   "outputs": [],
   "source": [
    "data_dir = '../../../ReproGenBG_Dataset/diatrend_processed/'\n",
    "test_eval = []\n",
    "\n",
    "for test in os.listdir(data_dir):\n",
    "  test_df = pd.read_csv(os.path.join(data_dir, test))\n",
    "  uid = test.split('.')[0].split('processed_cgm_data_Subject')[1]\n",
    "  test_df = test_df.rename(columns={\"date\": \"timestamp\"})\n",
    "  test_df['timestamp'] = test_df['timestamp'].apply(convert_to_datetime)\n",
    "  test_df = test_df.loc[:, ['timestamp', 'mg/dl']]\n",
    "  # print(test_df.shape)\n",
    "  # break\n",
    "  metrics = evaluate_and_save_metrics_diatrend(\n",
    "      model=model,\n",
    "      test_df=test_df,\n",
    "      save_dir=os.path.join(evaluation_dir, 'evaluation_metrics_original_ohio/individual_t1dexi_diatrend/diatrend_'+sh+'/'),\n",
    "      past_sequence_length=past_sequence_length,\n",
    "      future_offset=future_offset,\n",
    "      batch_size=batch_size,\n",
    "      max_interval_minutes=max_interval_minutes,\n",
    "      uid=uid\n",
    "  )\n",
    "\n",
    "  test_eval.append([uid, round(metrics['rmse'], 2), round(metrics['mae'], 2), round(metrics['mape'], 2)])\n",
    "\n",
    "  # print(f\"\\nResults for population model:\")\n",
    "  print(f\"RMSE: {metrics['rmse']:.2f}\")\n",
    "  print(f\"MAE: {metrics['mae']:.2f}\")\n",
    "  print(f\"MAPE: {metrics['mape']:.2f}%\")\n"
   ]
  },
  {
   "cell_type": "code",
   "execution_count": null,
   "metadata": {
    "id": "8KW7q7WotPIj"
   },
   "outputs": [],
   "source": [
    "print(test_eval)\n",
    "df = pd.DataFrame(test_eval, columns=['test patient', 'RMSE', 'MAE', 'MAPE'])\n",
    "df.to_csv(os.path.join(evaluation_dir, 'evaluation_metrics_original_ohio/individual_t1dexi_diatrend/diatrend_eval_'+sh+'.csv'), index=False)"
   ]
  },
  {
   "cell_type": "markdown",
   "metadata": {
    "id": "r06lPkbFtIP6"
   },
   "source": [
    "## T1DEXI"
   ]
  },
  {
   "cell_type": "code",
   "execution_count": null,
   "metadata": {
    "id": "5krMAJg0pbiB"
   },
   "outputs": [],
   "source": [
    "test_eval = []\n",
    "data_dir = '../../../ReproGenBG_Dataset/T1DEXI_processed/'\n",
    "\n",
    "for test in os.listdir(data_dir):\n",
    "\n",
    "  uid = test.split('.')[0]\n",
    "  test_df = pd.read_csv(os.path.join(data_dir, test))\n",
    "  test_df = test_df.rename(columns={\"LBORRES\": \"mg/dl\", \"LBDTC\": \"timestamp\"})\n",
    "  test_df['timestamp'] = test_df['timestamp'].apply(convert_to_datetime)\n",
    "  test_df = test_df.loc[:, ['timestamp', 'mg/dl']]\n",
    "  # print(test_df.shape)\n",
    "  # break\n",
    "  metrics = evaluate_and_save_metrics_T1DEXI(\n",
    "      model=model,\n",
    "      test_df=test_df,\n",
    "      save_dir=os.path.join(evaluation_dir, 'evaluation_metrics_original_ohio/individual_t1dexi_diatrend/t1dexi_'+sh+'/'),\n",
    "      past_sequence_length=past_sequence_length,\n",
    "      future_offset=future_offset,\n",
    "      batch_size=batch_size,\n",
    "      max_interval_minutes=max_interval_minutes,\n",
    "      uid=uid\n",
    "  )\n",
    "\n",
    "  test_eval.append([uid, round(metrics['rmse'], 2), round(metrics['mae'], 2), round(metrics['mape'], 2)])\n",
    "\n",
    "  print(f\"RMSE: {metrics['rmse']:.2f}\")\n",
    "  print(f\"MAE: {metrics['mae']:.2f}\")\n",
    "  print(f\"MAPE: {metrics['mape']:.2f}%\")"
   ]
  },
  {
   "cell_type": "code",
   "execution_count": null,
   "metadata": {
    "id": "yuudmQKIqXiX"
   },
   "outputs": [],
   "source": [
    "# print(test_eval)\n",
    "df = pd.DataFrame(test_eval, columns=['test patient', 'RMSE', 'MAE', 'MAPE'])\n",
    "df.to_csv(os.path.join(evaluation_dir, 'evaluation_metrics_original_ohio/individual_t1dexi_diatrend/t1dexi_eval_'+sh+'.csv'), index=False)"
   ]
  },
  {
   "cell_type": "code",
   "execution_count": null,
   "metadata": {
    "id": "lId-JOSSsPy5"
   },
   "outputs": [],
   "source": []
  }
 ],
 "metadata": {
  "accelerator": "GPU",
  "colab": {
   "gpuType": "A100",
   "machine_shape": "hm",
   "provenance": [],
   "toc_visible": true
  },
  "kernelspec": {
   "display_name": "Python 3 (ipykernel)",
   "language": "python",
   "name": "python3"
  },
  "language_info": {
   "codemirror_mode": {
    "name": "ipython",
    "version": 3
   },
   "file_extension": ".py",
   "mimetype": "text/x-python",
   "name": "python",
   "nbconvert_exporter": "python",
   "pygments_lexer": "ipython3",
   "version": "3.9.12"
  }
 },
 "nbformat": 4,
 "nbformat_minor": 1
}
