{
 "cells": [
  {
   "cell_type": "code",
   "execution_count": 1,
   "metadata": {},
   "outputs": [],
   "source": [
    "import numpy as np\n",
    "from tensorflow.keras.models import Sequential\n",
    "from tensorflow.keras.layers import LSTM, Dense, Dropout\n",
    "\n",
    "# Define the model\n",
    "def create_model(input_shape):\n",
    "    model = Sequential()\n",
    "\n",
    "    # First LSTM layer (stack 1)\n",
    "    model.add(LSTM(512, return_sequences=True, input_shape=input_shape))  # LSTM Cell 1\n",
    "    model.add(LSTM(512, return_sequences=True))  # LSTM Cell 2\n",
    "    model.add(Dropout(0.2))  # Dropout Layer\n",
    "    \n",
    "    # Second LSTM layer (stack 2)\n",
    "    model.add(LSTM(512, return_sequences=True))  # LSTM Cell 3\n",
    "    model.add(LSTM(512))  # LSTM Cell 4\n",
    "    \n",
    "    # Dense layers\n",
    "    model.add(Dense(128, activation='relu'))  # Dense Layer 1\n",
    "    model.add(Dense(1))  # Output Layer with 1 Node\n",
    "    return model\n",
    "\n",
    "\n"
   ]
  },
  {
   "cell_type": "code",
   "execution_count": null,
   "metadata": {},
   "outputs": [],
   "source": []
  }
 ],
 "metadata": {
  "kernelspec": {
   "display_name": "base",
   "language": "python",
   "name": "python3"
  },
  "language_info": {
   "codemirror_mode": {
    "name": "ipython",
    "version": 3
   },
   "file_extension": ".py",
   "mimetype": "text/x-python",
   "name": "python",
   "nbconvert_exporter": "python",
   "pygments_lexer": "ipython3",
   "version": "3.11.8"
  }
 },
 "nbformat": 4,
 "nbformat_minor": 2
}
